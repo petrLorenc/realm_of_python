{
 "cells": [
  {
   "cell_type": "code",
   "execution_count": 1,
   "id": "11c21b0413c322e3",
   "metadata": {
    "ExecuteTime": {
     "end_time": "2025-06-30T06:42:42.298296Z",
     "start_time": "2025-06-30T06:42:41.198425Z"
    }
   },
   "outputs": [],
   "source": [
    "from __future__ import annotations\n",
    "%matplotlib inline"
   ]
  },
  {
   "cell_type": "code",
   "execution_count": null,
   "id": "4ec6dd8ad361aa6c",
   "metadata": {},
   "outputs": [],
   "source": [
    "# let's put it all together and create a simple computational graph"
   ]
  },
  {
   "cell_type": "code",
   "execution_count": null,
   "id": "183f19c8e4b95c94",
   "metadata": {},
   "outputs": [],
   "source": [
    "# f(weights, inputs, bias) = [weight * input for weight, input in zip(weights, inputs)] + bias\n"
   ]
  },
  {
   "cell_type": "code",
   "execution_count": null,
   "id": "7c7ef3e8d94203c2",
   "metadata": {},
   "outputs": [],
   "source": [
    "def display_tree_visualization_of_node(node: Value, prefix=\"\", is_last=True):\n",
    "    \"\"\"Display a tree-like visualization of the computational graph.\"\"\"\n",
    "    if prefix == \"\":  # Root node\n",
    "        print(f\"Result: {node.data}\")\n",
    "        print()\n",
    "        connector = \"\"\n",
    "    else:\n",
    "        connector = \"└── \" if is_last else \"├── \"\n",
    "\n",
    "    print(f\"{prefix}{connector}{node.data:<4.2f} ({node._op}, grad:{node.grad:.4f}, id:{node._id}, name='{node._name}')\")\n",
    "\n",
    "    # Set the prefix for the next level\n",
    "    child_prefix = prefix + (\"    \" if is_last else \"│   \")\n",
    "\n",
    "    # Process children\n",
    "    children = list(sorted(node._children))\n",
    "    for i, child in enumerate(children):\n",
    "        is_last_child = (i == len(children) - 1)\n",
    "        display_tree_visualization_of_node(child, child_prefix, is_last_child)"
   ]
  },
  {
   "cell_type": "code",
   "execution_count": null,
   "id": "400ad5f9342cf577",
   "metadata": {},
   "outputs": [],
   "source": [
    "class Value:\n",
    "    def __init__(self):\n",
    "        # what is important for us:\n",
    "        self.data = 0.0\n",
    "        self.grad = 0.0\n",
    "        self._children = set() # children of parents?\n",
    "\n",
    "        # for debugging and visualization\n",
    "        self._op = None\n",
    "        self._id = id(self)\n",
    "        self._name = \"\"\n",
    "\n",
    "\n",
    "\n",
    "    def __add__(self, other):\n",
    "        ...\n",
    "\n",
    "    def __mul__(self, other):\n",
    "        ...\n",
    "\n",
    "\n",
    "a = Value(2.0, name=\"a\")\n",
    "b = Value(3.0, name=\"b\")\n",
    "c = Value(10.0, name=\"c\")\n",
    "\n",
    "result = a * b + c + 2"
   ]
  },
  {
   "cell_type": "code",
   "execution_count": null,
   "id": "f82653a1344ac212",
   "metadata": {},
   "outputs": [],
   "source": [
    "# need to use enclosing scope to do the proper backpropagation\n",
    "# backward pass:\n",
    "    # topological order of the graph (not doing same node again)\n",
    "    # it is accumulation of the gradients from previous layers (need to zero them out, at the beginning)\n",
    "    # learning rate (how much we change the weights)"
   ]
  }
 ],
 "metadata": {
  "kernelspec": {
   "display_name": "Python 3 (ipykernel)",
   "language": "python",
   "name": "python3"
  },
  "language_info": {
   "codemirror_mode": {
    "name": "ipython",
    "version": 3
   },
   "file_extension": ".py",
   "mimetype": "text/x-python",
   "name": "python",
   "nbconvert_exporter": "python",
   "pygments_lexer": "ipython3",
   "version": "3.13.1"
  }
 },
 "nbformat": 4,
 "nbformat_minor": 5
}
