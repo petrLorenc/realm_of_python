{
 "cells": [
  {
   "metadata": {},
   "cell_type": "code",
   "outputs": [],
   "execution_count": null,
   "source": "# Building Neural Networks with PyTorch\n"
  },
  {
   "cell_type": "code",
   "execution_count": null,
   "metadata": {},
   "outputs": [],
   "source": [
    "# Step 1.1"
   ]
  },
  {
   "cell_type": "code",
   "execution_count": null,
   "metadata": {},
   "outputs": [],
   "source": [
    "# Step 1.2"
   ]
  },
  {
   "cell_type": "code",
   "execution_count": 2,
   "metadata": {},
   "outputs": [
    {
     "name": "stdout",
     "output_type": "stream",
     "text": [
      "Scalar: tensor(5)\n",
      "Vector: tensor([1., 2., 3.])\n",
      "Matrix:\n",
      " tensor([[1.0000, 2.0000, 3.4000],\n",
      "        [3.0000, 4.0000, 5.0000]])\n",
      "Shape of matrix: torch.Size([2, 3])\n",
      "Datatype: torch.float32\n"
     ]
    }
   ],
   "source": [
    "# Step 2.1\n",
    "import torch\n",
    "\n",
    "# Create a scalar\n",
    "scalar = torch.tensor(5)\n",
    "print(\"Scalar:\", scalar)\n",
    "\n",
    "# Create a 1D tensor (vector)\n",
    "vector = torch.tensor([1.0, 2.0, 3.0])\n",
    "print(\"Vector:\", vector)\n",
    "\n",
    "# Create a 2D tensor (matrix)\n",
    "matrix = torch.tensor([[1.0, 2.0, 3.4], [3.0, 4.0, 5.0]])\n",
    "print(\"Matrix:\\n\", matrix)\n",
    "\n",
    "# Check shape and datatype\n",
    "print(\"Shape of matrix:\", matrix.shape)\n",
    "print(\"Datatype:\", matrix.dtype)"
   ]
  },
  {
   "cell_type": "code",
   "execution_count": 3,
   "metadata": {},
   "outputs": [
    {
     "name": "stdout",
     "output_type": "stream",
     "text": [
      "Original Shape: torch.Size([2, 3])\n",
      "Reshaped to (3,2):\n",
      " tensor([[1, 2],\n",
      "        [3, 4],\n",
      "        [5, 6]])\n",
      "First row: tensor([1, 2, 3])\n",
      "Element at (1,2): tensor(6)\n",
      "Tensor * 2:\n",
      " tensor([[ 2,  4,  6],\n",
      "        [ 8, 10, 12]])\n",
      "Tensor + 3:\n",
      " tensor([[4, 5, 6],\n",
      "        [7, 8, 9]])\n"
     ]
    }
   ],
   "source": [
    "# Step 2.2\n",
    "# Create a 2D tensor\n",
    "x = torch.tensor([[1, 2, 3], [4, 5, 6]])\n",
    "\n",
    "# Reshape the tensor using .view()\n",
    "reshaped = x.view(3, 2)\n",
    "print(\"Original Shape:\", x.shape)\n",
    "print(\"Reshaped to (3,2):\\n\", reshaped)\n",
    "\n",
    "# Indexing\n",
    "print(\"First row:\", x[0])\n",
    "print(\"Element at (1,2):\", x[1, 2])\n",
    "\n",
    "# Element-wise operations\n",
    "print(\"Tensor * 2:\\n\", x * 2)\n",
    "print(\"Tensor + 3:\\n\", x + 3)"
   ]
  },
  {
   "cell_type": "code",
   "execution_count": 4,
   "metadata": {},
   "outputs": [
    {
     "name": "stdout",
     "output_type": "stream",
     "text": [
      "Using device: cpu\n",
      "Tensor on GPU:\n",
      " tensor([[1., 1., 1.],\n",
      "        [1., 1., 1.],\n",
      "        [1., 1., 1.]])\n",
      "Tensor back on CPU:\n",
      " tensor([[1., 1., 1.],\n",
      "        [1., 1., 1.],\n",
      "        [1., 1., 1.]])\n"
     ]
    }
   ],
   "source": [
    "# Step 2.3\n",
    "# Check if GPU is available\n",
    "device = torch.device(\"cuda\" if torch.cuda.is_available() else \"cpu\")\n",
    "print(\"Using device:\", device)\n",
    "\n",
    "# Create tensor on CPU and move to GPU\n",
    "tensor_cpu = torch.ones((3, 3))\n",
    "tensor_gpu = tensor_cpu.to(device)\n",
    "\n",
    "print(\"Tensor on GPU:\\n\", tensor_gpu)\n",
    "\n",
    "# Move it back to CPU (if needed)\n",
    "tensor_back = tensor_gpu.to(\"cpu\")\n",
    "print(\"Tensor back on CPU:\\n\", tensor_back)"
   ]
  },
  {
   "cell_type": "code",
   "execution_count": 12,
   "metadata": {},
   "outputs": [
    {
     "name": "stdout",
     "output_type": "stream",
     "text": [
      "SimpleNet(\n",
      "  (fc1): Linear(in_features=3, out_features=6, bias=True)\n",
      "  (fc2): Linear(in_features=6, out_features=2, bias=True)\n",
      ")\n",
      "Input: tensor([[ 0.7583, -0.4072,  1.0279]])\n",
      "Output: tensor([[0., 0.]], grad_fn=<ReluBackward0>)\n"
     ]
    }
   ],
   "source": [
    "# Step 3.1\n",
    "import torch\n",
    "import torch.nn as nn\n",
    "import torch.nn.functional as F\n",
    "\n",
    "# Step 1: Define a simple neural network\n",
    "class SimpleNet(nn.Module):\n",
    "    def __init__(self):\n",
    "        super(SimpleNet, self).__init__()\n",
    "        self.fc1 = nn.Linear(3, 6)  # Input layer: 3 features → 4 neurons\n",
    "        self.fc2 = nn.Linear(6, 2)  # Hidden layer: 4 neurons → 2 output neurons\n",
    "\n",
    "    def forward(self, x):\n",
    "        x = F.sigmoid(self.fc1(x))    # Apply ReLU after first layer\n",
    "        x = self.fc2(x)            # Output layer (no activation here for now)\n",
    "        return F.relu(x)\n",
    "\n",
    "# Step 2: Instantiate the model\n",
    "model = SimpleNet()\n",
    "print(model)\n",
    "\n",
    "# Step 3: Pass a sample input through the model\n",
    "sample_input = torch.randn(1, 3)  # Batch size of 1, input size of 3\n",
    "output = model(sample_input)\n",
    "\n",
    "print(\"Input:\", sample_input)\n",
    "print(\"Output:\", output)"
   ]
  },
  {
   "cell_type": "code",
   "execution_count": 18,
   "metadata": {},
   "outputs": [
    {
     "name": "stdout",
     "output_type": "stream",
     "text": [
      "Logits (Raw Outputs): tensor([[-0.1040,  0.9741]], grad_fn=<AddmmBackward0>)\n",
      "Loss: 0.29286977648735046\n"
     ]
    }
   ],
   "source": [
    "# Step 4.1\n",
    "import torch\n",
    "import torch.nn as nn\n",
    "import torch.nn.functional as F\n",
    "\n",
    "# Define a very simple neural network\n",
    "class SimpleClassifier(nn.Module):\n",
    "    def __init__(self):\n",
    "        super(SimpleClassifier, self).__init__()\n",
    "        self.fc1 = nn.Linear(4, 3)  # 4 features → 3 hidden units\n",
    "        self.fc2 = nn.Linear(3, 2)  # 3 hidden units → 2 output classes\n",
    "\n",
    "    def forward(self, x):\n",
    "        x = F.relu(self.fc1(x))\n",
    "        return self.fc2(x)  # Output logits (no softmax here, since loss function expects raw scores)\n",
    "\n",
    "# Create an instance of the network\n",
    "model = SimpleClassifier()\n",
    "\n",
    "# Generate a random input tensor (e.g., batch size = 1, 4 features)\n",
    "input_data = torch.randn(1, 4)\n",
    "\n",
    "# Forward pass\n",
    "logits = model(input_data)\n",
    "print(\"Logits (Raw Outputs):\", logits)\n",
    "\n",
    "# Define target label (e.g., class 0 or 1)\n",
    "target = torch.tensor([1])  # True label for classification\n",
    "\n",
    "# Define the loss function\n",
    "loss_fn = nn.CrossEntropyLoss()\n",
    "\n",
    "# Compute loss\n",
    "loss = loss_fn(logits, target)\n",
    "print(\"Loss:\", loss.item())"
   ]
  },
  {
   "cell_type": "code",
   "execution_count": 19,
   "metadata": {},
   "outputs": [],
   "source": [
    "# Step 4.2\n",
    "# Step 1: Clear existing gradients\n",
    "model.zero_grad()\n",
    "\n",
    "# Step 2: Backward pass to compute gradients\n",
    "loss.backward()"
   ]
  },
  {
   "cell_type": "code",
   "execution_count": 20,
   "metadata": {},
   "outputs": [
    {
     "name": "stdout",
     "output_type": "stream",
     "text": [
      "Gradients for fc1 weights:\n",
      " tensor([[ 0.0000, -0.0000, -0.0000,  0.0000],\n",
      "        [-0.1515,  0.0145,  0.2603, -0.0490],\n",
      "        [-0.1363,  0.0130,  0.2341, -0.0440]])\n",
      "Gradients for fc1 weights:\n",
      " tensor([ 0.0000, -0.1019, -0.0917])\n"
     ]
    }
   ],
   "source": [
    "# Step 3: Inspect gradients\n",
    "print(\"Gradients for fc1 weights:\\n\", model.fc1.weight.grad)\n",
    "print(\"Gradients for fc1 weights:\\n\", model.fc1.bias.grad)"
   ]
  },
  {
   "cell_type": "code",
   "execution_count": 23,
   "metadata": {},
   "outputs": [
    {
     "name": "stdout",
     "output_type": "stream",
     "text": [
      "None\n"
     ]
    }
   ],
   "source": [
    "frozen_tensor = logits.detach()\n",
    "print(frozen_tensor.grad)"
   ]
  },
  {
   "cell_type": "code",
   "execution_count": 1,
   "metadata": {},
   "outputs": [],
   "source": [
    "# Step 5.1\n",
    "import torch\n",
    "from torch.utils.data import Dataset, DataLoader\n",
    "\n",
    "# Custom random dataset\n",
    "class RandomDataset(Dataset):\n",
    "    def __init__(self, size, image_shape, num_classes):\n",
    "        self.size = size\n",
    "        self.image_shape = image_shape\n",
    "        self.num_classes = num_classes\n",
    "\n",
    "    def __len__(self):\n",
    "        return self.size\n",
    "\n",
    "    def __getitem__(self, idx):\n",
    "        image = torch.rand(self.image_shape)\n",
    "        label = torch.randint(0, self.num_classes, (1,)).item()\n",
    "\n",
    "        # Normalize: (value - mean) / std\n",
    "        mean = 0.5\n",
    "        std = 0.5\n",
    "        image = (image - mean) / std\n",
    "\n",
    "        return image, label\n",
    "\n",
    "# Instantiate the dataset and DataLoader\n",
    "train_dataset = RandomDataset(size=1000, image_shape=(1, 28, 28), num_classes=10)\n",
    "train_loader = DataLoader(train_dataset, batch_size=64, shuffle=True)"
   ]
  },
  {
   "cell_type": "code",
   "execution_count": 2,
   "metadata": {},
   "outputs": [],
   "source": [
    "# Step 5.2\n",
    "import torch.nn as nn\n",
    "import torch.nn.functional as F\n",
    "import torch.optim as optim\n",
    "\n",
    "# Define the neural network\n",
    "class SmallNet(nn.Module):\n",
    "    def __init__(self):\n",
    "        super(SmallNet, self).__init__()\n",
    "        self.fc1 = nn.Linear(28 * 28, 128)  # Flattened image to 128 neurons\n",
    "        self.fc2 = nn.Linear(128, 10)       # 10 output classes (digits 0-9)\n",
    "\n",
    "    def forward(self, x):\n",
    "        x = x.view(x.size(0), -1)  # Flatten the image\n",
    "        x = F.relu(self.fc1(x))\n",
    "        x = self.fc2(x)\n",
    "        return x\n",
    "\n",
    "# Instantiate model, optimizer, and loss function\n",
    "model = SmallNet()\n",
    "optimizer = optim.SGD(model.parameters(), lr=0.01)\n",
    "loss_fn = nn.CrossEntropyLoss()"
   ]
  },
  {
   "cell_type": "code",
   "execution_count": 4,
   "metadata": {},
   "outputs": [
    {
     "name": "stdout",
     "output_type": "stream",
     "text": [
      "Epoch 1, Loss: 36.9676\n",
      "Epoch 2, Loss: 36.9558\n",
      "Epoch 3, Loss: 36.8986\n",
      "Epoch 4, Loss: 36.9312\n",
      "Epoch 5, Loss: 37.0248\n",
      "Epoch 6, Loss: 37.0624\n",
      "Epoch 7, Loss: 37.0505\n",
      "Epoch 8, Loss: 36.9670\n",
      "Epoch 9, Loss: 36.9956\n",
      "Epoch 10, Loss: 36.9849\n",
      "Epoch 11, Loss: 36.9444\n",
      "Epoch 12, Loss: 36.9771\n",
      "Epoch 13, Loss: 36.9883\n",
      "Epoch 14, Loss: 36.9597\n",
      "Epoch 15, Loss: 36.9357\n",
      "Epoch 16, Loss: 37.0309\n",
      "Epoch 17, Loss: 36.9617\n",
      "Epoch 18, Loss: 36.9768\n",
      "Epoch 19, Loss: 36.9902\n",
      "Epoch 20, Loss: 36.8814\n",
      "Epoch 21, Loss: 36.9258\n",
      "Epoch 22, Loss: 36.8618\n",
      "Epoch 23, Loss: 36.9012\n",
      "Epoch 24, Loss: 36.9523\n",
      "Epoch 25, Loss: 36.9400\n",
      "Epoch 26, Loss: 36.8898\n",
      "Epoch 27, Loss: 36.9362\n",
      "Epoch 28, Loss: 36.9076\n",
      "Epoch 29, Loss: 36.9694\n",
      "Epoch 30, Loss: 36.9008\n"
     ]
    }
   ],
   "source": [
    "# Step 5.3\n",
    "# Number of training epochs\n",
    "epochs = 30\n",
    "\n",
    "for epoch in range(epochs):\n",
    "    total_loss = 0\n",
    "\n",
    "    for images, labels in train_loader:\n",
    "        # Step 1: Zero the gradients\n",
    "        optimizer.zero_grad()\n",
    "\n",
    "        # Step 2: Forward pass\n",
    "        outputs = model(images)\n",
    "\n",
    "        # Step 3: Compute loss\n",
    "        loss = loss_fn(outputs, labels)\n",
    "\n",
    "        # Step 4: Backward pass\n",
    "        loss.backward()\n",
    "\n",
    "        # Step 5: Update weights\n",
    "        optimizer.step()\n",
    "\n",
    "        total_loss += loss.item()\n",
    "\n",
    "    print(f\"Epoch {epoch+1}, Loss: {total_loss:.4f}\")"
   ]
  },
  {
   "cell_type": "code",
   "execution_count": 5,
   "metadata": {},
   "outputs": [],
   "source": [
    "# Step 6.1\n",
    "import torch\n",
    "from torch.utils.data import Dataset, DataLoader\n",
    "\n",
    "# Define the same RandomDataset class again\n",
    "class RandomDataset(Dataset):\n",
    "    def __init__(self, size, image_shape, num_classes):\n",
    "        self.size = size\n",
    "        self.image_shape = image_shape\n",
    "        self.num_classes = num_classes\n",
    "\n",
    "    def __len__(self):\n",
    "        return self.size\n",
    "\n",
    "    def __getitem__(self, idx):\n",
    "        image = torch.rand(self.image_shape)\n",
    "        label = torch.randint(0, self.num_classes, (1,)).item()\n",
    "\n",
    "        # Normalize image\n",
    "        mean = 0.5\n",
    "        std = 0.5\n",
    "        image = (image - mean) / std\n",
    "\n",
    "        return image, label\n",
    "\n",
    "# Create a new, separate test dataset\n",
    "test_dataset = RandomDataset(size=300, image_shape=(1, 28, 28), num_classes=10)\n",
    "test_loader = DataLoader(test_dataset, batch_size=64, shuffle=False)"
   ]
  },
  {
   "cell_type": "code",
   "execution_count": 6,
   "metadata": {},
   "outputs": [
    {
     "name": "stdout",
     "output_type": "stream",
     "text": [
      "Test Accuracy: 10.33%\n"
     ]
    }
   ],
   "source": [
    "# Step 6.2\n",
    "# Set the model to evaluation mode\n",
    "model.eval()\n",
    "\n",
    "correct = 0\n",
    "total = 0\n",
    "\n",
    "# Disable gradient tracking for inference\n",
    "with torch.no_grad():\n",
    "    for images, labels in test_loader:\n",
    "        outputs = model(images)\n",
    "        _, predicted = torch.max(outputs, 1)  # Get predicted class\n",
    "        total += labels.size(0)\n",
    "        correct += (predicted == labels).sum().item()\n",
    "\n",
    "accuracy = 100 * correct / total\n",
    "print(f\"Test Accuracy: {accuracy:.2f}%\")"
   ]
  },
  {
   "cell_type": "code",
   "execution_count": 7,
   "metadata": {},
   "outputs": [
    {
     "data": {
      "image/png": "[encoded data removed]",
      "text/plain": [
       "<Figure size 1000x400 with 6 Axes>"
      ]
     },
     "metadata": {},
     "output_type": "display_data"
    }
   ],
   "source": [
    "# Step 6.3\n",
    "import matplotlib.pyplot as plt\n",
    "\n",
    "# Get a batch of test images\n",
    "images, labels = next(iter(test_loader))\n",
    "\n",
    "# Run inference\n",
    "with torch.no_grad():\n",
    "    outputs = model(images)\n",
    "    _, preds = torch.max(outputs, 1)\n",
    "\n",
    "# Plot the first 6 images with predictions\n",
    "plt.figure(figsize=(10, 4))\n",
    "for i in range(6):\n",
    "    plt.subplot(2, 3, i+1)\n",
    "    plt.imshow(images[i].squeeze(), cmap='gray')\n",
    "    plt.title(f\"Label: {labels[i]}, Pred: {preds[i]}\")\n",
    "    plt.axis('off')\n",
    "plt.tight_layout()\n",
    "plt.show()"
   ]
  },
  {
   "cell_type": "code",
   "execution_count": null,
   "metadata": {},
   "outputs": [],
   "source": []
  }
 ],
 "metadata": {
  "kernelspec": {
   "display_name": "Python 3",
   "language": "python",
   "name": "python3"
  },
  "language_info": {
   "codemirror_mode": {
    "name": "ipython",
    "version": 3
   },
   "file_extension": ".py",
   "mimetype": "text/x-python",
   "name": "python",
   "nbconvert_exporter": "python",
   "pygments_lexer": "ipython3",
   "version": "3.11.11"
  },
  "orig_nbformat": 4
 },
 "nbformat": 4,
 "nbformat_minor": 2
}
