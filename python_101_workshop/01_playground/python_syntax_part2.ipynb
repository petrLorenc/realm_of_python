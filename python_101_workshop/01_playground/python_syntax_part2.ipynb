{
 "cells": [
  {
   "cell_type": "code",
   "execution_count": null,
   "id": "b48486770cfa78fc",
   "metadata": {
    "collapsed": false
   },
   "outputs": [],
   "source": [
    "# example with or\n",
    "\n",
    "paths = DocumentPaths(\n",
    "        ocr_path=item.ocr_path,\n",
    "        pdf_path=item.pdf_path + uuid.uuid4().hex[:25],  # not used, just for logging\n",
    "        pdf_data=data,\n",
    "        logos_path=item.logos_path,\n",
    "        reference_image_path=args.ref_logo\n",
    "        or f\"./reference_logos/{args.brand.lower()}_logo.png\",\n",
    "        reference_image_clear_space_path=args.clear_space_ref\n",
    "        or f\"./reference_logos/{args.brand.lower()}_clear_space_ref.png\",\n",
    "        # ocr_on_logos=load_secondary_ocr(item.logos),\n",
    "        reference_image_grey_scale_path=args.grey_scale_ref\n",
    "        or f\"./reference_logos/{args.brand.lower()}_grey_scale_logo.png\",\n",
    "        tight_reference_label_dir=args.tight_ref_label_dir or \"./reference_logos\",\n",
    "    )\n",
    "\n",
    "reference_image_path = args.ref_logo or f\"./reference_logos/{args.brand.lower()}_logo.png\"\n",
    "reference_image_path = args.ref_logo if args.ref_logo else f\"./reference_logos/{args.brand.lower()}_logo.png\""
   ]
  },
  {
   "cell_type": "markdown",
   "id": "cba56f65d2015678",
   "metadata": {
    "collapsed": false
   },
   "source": [
    "# Python Syntax\n",
    "\n",
    "- [ ] Modules/Imports (import, from, as) - More about packages in second UV section\n",
    "\n",
    "## TLDR: Everything is an object!!\n"
   ]
  },
  {
   "cell_type": "markdown",
   "id": "a273d33819a02b01",
   "metadata": {
    "collapsed": false
   },
   "source": [
    "* Module\n",
    "* Library\n",
    "* Package\n",
    "\n",
    "Difference between modules and packages is that a package is a collection of modules\n",
    "A module is a single file, while a package is a directory that contains multiple modules and a special __init__.py file.\n",
    "Libraries are a collection of modules and packages that provide specific functionality.\n",
    "\n",
    "### Where everything else is\n",
    "* https://pypi.org/"
   ]
  },
  {
   "cell_type": "code",
   "execution_count": null,
   "id": "927dfa3694b263b5",
   "metadata": {
    "collapsed": false
   },
   "outputs": [],
   "source": [
    "pip -m venv .venv\n",
    "source activate .venv/bin/activate\n",
    "# change our artifactory as the priority one\n",
    "pip install requests --index-url XYZ --extra-index-url https://pypi.org"
   ]
  },
  {
   "cell_type": "code",
   "execution_count": null,
   "id": "4aa36438ec91d79d",
   "metadata": {
    "collapsed": false
   },
   "outputs": [],
   "source": [
    "import requests                     # Good\n",
    "from requests import get, post      # Good\n",
    "from requests import *              # Bad - why?\n",
    "import requests as req\n"
   ]
  },
  {
   "cell_type": "code",
   "execution_count": null,
   "id": "c389948ca40001af",
   "metadata": {
    "collapsed": false
   },
   "outputs": [],
   "source": [
    "def get():\n",
    "    print(\"doing nothing\")\n",
    "get()\n",
    "from requests import *\n",
    "get()"
   ]
  },
  {
   "cell_type": "markdown",
   "id": "867e6e9ab7595981",
   "metadata": {
    "collapsed": false
   },
   "source": [
    "# Python Syntax\n",
    "\n",
    "- [ ] Classes and Objects, dunder methods (class, self, __init__, inheritance, super, etc.)\n",
    "\n",
    "## TLDR: Everything is an object!!\n"
   ]
  },
  {
   "cell_type": "code",
   "execution_count": null,
   "id": "e9b1c03d32043f76",
   "metadata": {
    "collapsed": false
   },
   "outputs": [],
   "source": [
    "class Parent:\n",
    "    def __init__(self):\n",
    "        print(\"Parent constructor\")\n",
    "\n",
    "    def __str__(self):\n",
    "        return self.__class__.__name__\n",
    "    \n",
    "    def __repr__(self):\n",
    "        return self.__class__.__name__\n",
    "    \n",
    "parent = Parent()"
   ]
  },
  {
   "cell_type": "code",
   "execution_count": null,
   "id": "512257492d5cac3e",
   "metadata": {
    "collapsed": false
   },
   "outputs": [],
   "source": [
    "print(parent)"
   ]
  },
  {
   "cell_type": "code",
   "execution_count": null,
   "id": "9ecbd3cd3e95fc7e",
   "metadata": {
    "collapsed": false
   },
   "outputs": [],
   "source": [
    "# each object do have some inherited behaviour from object, not all of them implemented\n",
    "dir(parent)"
   ]
  },
  {
   "cell_type": "code",
   "execution_count": null,
   "id": "c050271b8197688d",
   "metadata": {
    "collapsed": false
   },
   "outputs": [],
   "source": [
    "parent <= parent"
   ]
  },
  {
   "cell_type": "code",
   "execution_count": null,
   "id": "b3f69eba433b5bbc",
   "metadata": {
    "collapsed": false
   },
   "outputs": [],
   "source": [
    "parent.__le__(parent)"
   ]
  },
  {
   "cell_type": "code",
   "execution_count": null,
   "id": "8b31daaf7bf59596",
   "metadata": {
    "collapsed": false
   },
   "outputs": [],
   "source": [
    "# not recommended, only for educational purposes\n",
    "Parent.__le__ = lambda self, other: True\n",
    "parent <= parent"
   ]
  },
  {
   "cell_type": "code",
   "execution_count": null,
   "id": "5889fd17413897b5",
   "metadata": {
    "collapsed": false
   },
   "outputs": [],
   "source": [
    "class Child(Parent):\n",
    "    def __init__(self):\n",
    "        super().__init__() # Call the parent constructor\n",
    "        print(\"Child constructor\")\n",
    "child = Child()"
   ]
  },
  {
   "cell_type": "code",
   "execution_count": null,
   "id": "ac3d27c045db506e",
   "metadata": {
    "collapsed": false
   },
   "outputs": [],
   "source": [
    "class SubChild(Child):\n",
    "    def __init__(self):\n",
    "        super().__init__() # Call the parent constructor\n",
    "        print(\"SubChild constructor\")\n",
    "subchild = SubChild()"
   ]
  },
  {
   "cell_type": "code",
   "execution_count": null,
   "id": "fa7ae6a6bdf50f88",
   "metadata": {
    "collapsed": false
   },
   "outputs": [],
   "source": [
    "SubChild.__mro__"
   ]
  },
  {
   "cell_type": "code",
   "execution_count": null,
   "id": "44e69f33353eccbb",
   "metadata": {
    "collapsed": false
   },
   "outputs": [],
   "source": [
    "class RebelChild(Child):\n",
    "    def __init__(self):\n",
    "        print(\"SubChild constructor\")\n",
    "rebel_child = RebelChild()"
   ]
  },
  {
   "cell_type": "code",
   "execution_count": null,
   "id": "6e15b8edfe3ff9c9",
   "metadata": {
    "collapsed": false
   },
   "outputs": [],
   "source": [
    "RebelChild.__mro__"
   ]
  },
  {
   "cell_type": "code",
   "execution_count": null,
   "id": "9c1b1fea3f4bdffe",
   "metadata": {
    "collapsed": false
   },
   "outputs": [],
   "source": [
    "# lets go bact to proper example\n",
    "SubChild.__mro__"
   ]
  },
  {
   "cell_type": "code",
   "execution_count": null,
   "id": "c098564329e0832",
   "metadata": {
    "collapsed": false
   },
   "outputs": [],
   "source": [
    "subchild.__dict__"
   ]
  },
  {
   "cell_type": "code",
   "execution_count": null,
   "id": "34ae94c9507de5f9",
   "metadata": {
    "collapsed": false
   },
   "outputs": [],
   "source": [
    "SubChild.__dict__"
   ]
  },
  {
   "cell_type": "code",
   "execution_count": null,
   "id": "3d8a5716db8fbfba",
   "metadata": {
    "collapsed": false
   },
   "outputs": [],
   "source": [
    "Child.__dict__"
   ]
  },
  {
   "cell_type": "code",
   "execution_count": null,
   "id": "17b07424197df25c",
   "metadata": {
    "collapsed": false
   },
   "outputs": [],
   "source": [
    "Parent.__dict__"
   ]
  },
  {
   "cell_type": "code",
   "execution_count": null,
   "id": "cd895ab7bf6d91a9",
   "metadata": {
    "collapsed": false
   },
   "outputs": [],
   "source": [
    "subchild.something"
   ]
  },
  {
   "cell_type": "code",
   "execution_count": null,
   "id": "964a84cbd5f107db",
   "metadata": {
    "collapsed": false
   },
   "outputs": [],
   "source": [
    "Child.something = \"something\""
   ]
  },
  {
   "cell_type": "code",
   "execution_count": null,
   "id": "19043dc61d13e4e1",
   "metadata": {
    "collapsed": false
   },
   "outputs": [],
   "source": [
    "Child.__dict__\n"
   ]
  },
  {
   "cell_type": "code",
   "execution_count": null,
   "id": "b4b05768dd22a7be",
   "metadata": {
    "collapsed": false
   },
   "outputs": [],
   "source": [
    "# based on the __mro__ it will go to instance, then class, then parent class ...\n",
    "subchild.something"
   ]
  },
  {
   "cell_type": "code",
   "execution_count": null,
   "id": "ade9971162cc66b5",
   "metadata": {
    "collapsed": false
   },
   "outputs": [],
   "source": [
    "# see part2_generic.py"
   ]
  },
  {
   "cell_type": "markdown",
   "id": "9628023c1f95288e",
   "metadata": {
    "collapsed": false
   },
   "source": [
    "Each class is an object, and each instance is an object as well. Each class was created by a metaclass, which is also an object. The default metaclass in Python is `type`. The `type` can be used to create classes dynamically or to check the type of an object."
   ]
  },
  {
   "cell_type": "code",
   "execution_count": null,
   "id": "e0443e58485bc3d5",
   "metadata": {
    "collapsed": false
   },
   "outputs": [],
   "source": [
    "type(SubChild)"
   ]
  },
  {
   "cell_type": "code",
   "execution_count": null,
   "id": "5e97e3c1da999fca",
   "metadata": {
    "collapsed": false
   },
   "outputs": [],
   "source": [
    "type(subchild)"
   ]
  },
  {
   "cell_type": "code",
   "execution_count": null,
   "id": "e0d82bb0f31b9f39",
   "metadata": {
    "collapsed": false
   },
   "outputs": [],
   "source": [
    "type(type(subchild))"
   ]
  },
  {
   "cell_type": "code",
   "execution_count": null,
   "id": "12ad5f5c3f1a932d",
   "metadata": {
    "collapsed": false
   },
   "outputs": [],
   "source": [
    "# type(what, bases, attributes)\n",
    "MyClassDefinedDifferently = type(\"MyClassDefinedDifferently\", (object,), {\"attribute\": \"his_value\"})"
   ]
  },
  {
   "cell_type": "code",
   "execution_count": null,
   "id": "960cbc115a77899e",
   "metadata": {
    "collapsed": false
   },
   "outputs": [],
   "source": [
    "MyClassDefinedDifferently.attribute"
   ]
  },
  {
   "cell_type": "code",
   "execution_count": null,
   "id": "4d48cb512ca16a86",
   "metadata": {
    "collapsed": false
   },
   "outputs": [],
   "source": [
    "MyClassDefinedDifferently.__mro__"
   ]
  },
  {
   "cell_type": "code",
   "execution_count": null,
   "id": "29c1fd8291e00c7f",
   "metadata": {
    "collapsed": false
   },
   "outputs": [],
   "source": [
    "MyClassDefinedDifferently().attribute # class attribute"
   ]
  },
  {
   "cell_type": "code",
   "execution_count": null,
   "id": "985eb99b401001df",
   "metadata": {
    "collapsed": false
   },
   "outputs": [],
   "source": [
    "MyClassDefinedDifferently().__dict__ # instance attributes"
   ]
  },
  {
   "cell_type": "code",
   "execution_count": null,
   "id": "de95470543534bb6",
   "metadata": {
    "collapsed": false
   },
   "outputs": [],
   "source": [
    "MyClassDefinedDifferently.__dict__ # class attribute"
   ]
  },
  {
   "cell_type": "markdown",
   "id": "f563daeaa8161639",
   "metadata": {
    "collapsed": false
   },
   "source": [
    "## Multiple inheritance"
   ]
  },
  {
   "cell_type": "code",
   "execution_count": null,
   "id": "840c96d5096b40ea",
   "metadata": {
    "collapsed": false
   },
   "outputs": [],
   "source": [
    "# https://en.wikipedia.org/wiki/C3_linearization\n",
    "# https://python-history.blogspot.com/2010/06/method-resolution-order.html\n",
    "\n",
    "class ParentParentA:\n",
    "    def __init__(self):\n",
    "        super().__init__()\n",
    "        print(\"Parent of Parent A\")\n",
    "\n",
    "class ParentOfA(ParentParentA):\n",
    "    def __init__(self):\n",
    "        super().__init__()\n",
    "        self.something = \"A\"\n",
    "        print(\"Parent of A\")\n",
    "\n",
    "\n",
    "class ParentOfB:\n",
    "    def __init__(self):\n",
    "        super().__init__()\n",
    "        print(\"Parent of B\")\n",
    "\n",
    "\n",
    "class Child(ParentOfA, ParentOfB):\n",
    "\n",
    "    def __init__(self):\n",
    "        super().__init__() # recommended\n",
    "        # super(ParentOfA, self).__init__()  # not recommended\n",
    "        # super(ParentOfB, self).__init__()  # not recommended\n",
    "        print(\"Child\")\n",
    "\n",
    "\n",
    "class NewChild(ParentOfB, ParentOfA):\n",
    "    def __init__(self):\n",
    "        # super().__init__() # recommended\n",
    "        super(ParentOfA, self).__init__() # not recommended\n",
    "        # super(ParentOfB, self).__init__()  # not recommended\n",
    "        print(\"Child\")\n",
    "\n",
    "\n",
    "\"\"\"\n",
    "super(ParentOfA, self) returns a proxy object that delegates method calls to the next class in the MRO after ParentOfA.\n",
    ".__init__() calls the __init__ method of that next class.\n",
    "\"\"\"\n",
    "child = Child()\n",
    "print(Child.__mro__)\n",
    "print(child.something)\n",
    "print()\n",
    "child = NewChild()\n",
    "print(NewChild.__mro__)\n",
    "print(child.something)"
   ]
  },
  {
   "cell_type": "markdown",
   "id": "93c4614b2e001a31",
   "metadata": {
    "collapsed": false
   },
   "source": [
    "# Duck typing"
   ]
  },
  {
   "cell_type": "code",
   "execution_count": null,
   "id": "72f66d41c774d94e",
   "metadata": {
    "collapsed": false
   },
   "outputs": [],
   "source": [
    "# duck typing - https://en.wikipedia.org/wiki/Duck_typing\n",
    "# If it looks like a duck, swims like a duck, and quacks like a duck, then it probably is a duck."
   ]
  },
  {
   "cell_type": "markdown",
   "id": "f6f7681d447ca2c4",
   "metadata": {
    "collapsed": false
   },
   "source": [
    "Advantages of Duck Typing\n",
    "\n",
    "* Flexibility: Duck typing allows for more flexible and reusable code. You can use different objects interchangeably as long as they implement the required methods\n",
    "\n",
    "* Simplicity: It simplifies code by focusing on the required behavior rather than specific types or class hierarchies\n",
    "\n",
    "* Code Reuse: Classes can be reused in different contexts without needing to adhere to a strict class hierarchy.\n",
    "\n",
    "Disadvantages of Duck Typing\n",
    "\n",
    "* Runtime Errors: Since type checking is done at runtime, you might encounter errors related to missing methods or attributes, which can lead to unexpected behavior.\n",
    "\n",
    "* Lack of Explicitness: The lack of explicit interface definitions can make the code harder to understand and maintain.\n",
    "\n",
    "* Maintenance Issues: Changes in the behavior of certain objects can impact other parts of the code, making it harder to maintain and debug."
   ]
  },
  {
   "cell_type": "code",
   "execution_count": null,
   "id": "48f6acb766e2ad06",
   "metadata": {
    "collapsed": false
   },
   "outputs": [],
   "source": [
    "# Duck typing - see interface folder\n",
    "class Duck:\n",
    "    def quack(self):\n",
    "        print(\"Quack\")\n",
    "\n",
    "class Dog:\n",
    "    def quack(self):\n",
    "        print(\"Woof\")\n",
    "        \n",
    "for animal in (Duck(), Dog()):\n",
    "    animal.quack()"
   ]
  },
  {
   "cell_type": "code",
   "execution_count": null,
   "id": "2a1fccf0c8dbb4d2",
   "metadata": {
    "collapsed": false
   },
   "outputs": [],
   "source": [
    "for animal in (Duck(), Dog()):\n",
    "    if hasattr(animal, \"quack\"):\n",
    "        animal.quack()\n",
    "    else:\n",
    "        print(\"This animal can't quack\")"
   ]
  },
  {
   "cell_type": "code",
   "execution_count": null,
   "id": "fb31d281c55a05cd",
   "metadata": {
    "collapsed": false
   },
   "outputs": [],
   "source": [
    "# see interface\n",
    "# see generic"
   ]
  },
  {
   "cell_type": "code",
   "execution_count": null,
   "id": "e4d9a03ed1468ca1",
   "metadata": {
    "collapsed": false
   },
   "outputs": [],
   "source": [
    "# dataclasses\n",
    "# https://docs.python.org/3/library/dataclasses.html\n",
    "# https://plainenglish.io/blog/why-you-should-start-using-pythons-dataclasses-cd6a73ae5614\n",
    "# they are preparation for Pydantic BaseModel\n",
    "\n",
    "# advantages of dataclasses - \n",
    "\"\"\"\n",
    "Boilerplate Reduction:  \n",
    "    * Automatically generates methods like __init__, __repr__, __eq__, etc., reducing the need to write repetitive code.\n",
    "Type Hints:  \n",
    "    * Enforces type hints for attributes, making the code more readable and easier to debug.\n",
    "Immutability:  \n",
    "    * Supports immutability with the frozen=True option, making objects hashable and usable as dictionary keys.\n",
    "Default Values:  \n",
    "    * Allows default values or default factories for attributes, simplifying initialization.\n",
    "Built-in Utilities:  \n",
    "    * Provides utility functions like asdict() and astuple() to convert objects to dictionaries or tuples.\n",
    "Improved Readability:  \n",
    "    * Makes the code cleaner and more declarative by focusing on the data structure rather than implementation details.\n",
    "Integration with Libraries:  \n",
    "    * Works well with libraries like Pydantic for data validation and serialization.\n",
    "Performance:\n",
    "    * Faster and more memory-efficient compared to manually implemented classes with similar functionality.\n",
    "\"\"\"\n",
    "\n",
    "\n",
    "from dataclasses import dataclass\n",
    "\n",
    "# require type hints\n",
    "@dataclass\n",
    "class Card:\n",
    "    rank: str\n",
    "    suit: str\n",
    "    \n",
    "card1 = Card(\"Q\", \"hearts\")\n",
    "card2 = Card(\"Q\", \"hearts\")\n",
    "\n",
    "# getting some operator out of the box\n",
    "print(card1 == card2)\n",
    "# True\n",
    "print(card1.rank)\n",
    "# 'Q'\n",
    "print(card1)"
   ]
  },
  {
   "cell_type": "code",
   "execution_count": null,
   "id": "1a9ff81f1e07036e",
   "metadata": {
    "collapsed": false
   },
   "outputs": [],
   "source": [
    "from dataclasses import asdict, astuple\n",
    "asdict(card1)"
   ]
  },
  {
   "cell_type": "code",
   "execution_count": null,
   "id": "f98ff78193d13554",
   "metadata": {
    "collapsed": false
   },
   "outputs": [],
   "source": [
    "# see part2_memory.py"
   ]
  },
  {
   "cell_type": "code",
   "execution_count": null,
   "id": "92dc6413955476ec",
   "metadata": {
    "collapsed": false
   },
   "outputs": [],
   "source": []
  }
 ],
 "metadata": {
  "kernelspec": {
   "display_name": ".venv",
   "language": "python",
   "name": "python3"
  },
  "language_info": {
   "codemirror_mode": {
    "name": "ipython",
    "version": 2
   },
   "file_extension": ".py",
   "mimetype": "text/x-python",
   "name": "python",
   "nbconvert_exporter": "python",
   "pygments_lexer": "ipython2",
   "version": "3.12.6"
  }
 },
 "nbformat": 4,
 "nbformat_minor": 5
}
