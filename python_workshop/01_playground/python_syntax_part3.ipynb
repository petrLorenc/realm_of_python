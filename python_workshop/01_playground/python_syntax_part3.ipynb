{
 "cells": [
  {
   "cell_type": "markdown",
   "id": "867e6e9ab7595981",
   "metadata": {
    "collapsed": false
   },
   "source": [
    "# Python Syntax\n",
    "\n",
    "- [ ] Lambda Functions\n",
    "- [ ] Generators\n",
    "- [ ] Context Managers\n",
    "- [ ] Decorators\n",
    "- [ ] Parallelism\n",
    "\n",
    "\n",
    "## TLDR: Everything is an object!!\n"
   ]
  },
  {
   "cell_type": "markdown",
   "id": "a7c23add66fb8331",
   "metadata": {
    "collapsed": false
   },
   "source": [
    "- [ ] Lambda Functions + Generators"
   ]
  },
  {
   "cell_type": "code",
   "execution_count": null,
   "id": "7fa9ad262920d2c7",
   "metadata": {
    "collapsed": false
   },
   "outputs": [],
   "source": [
    "# lambda function is a small anonymous function\n",
    "my_function = lambda x: x**2\n",
    "my_function(10)"
   ]
  },
  {
   "cell_type": "code",
   "execution_count": null,
   "id": "840c96d5096b40ea",
   "metadata": {
    "collapsed": false
   },
   "outputs": [],
   "source": [
    "# lambda can be used as an argument to other functions - typically map, filter, reduce\n",
    "my_array_normal = [x for x in range(1000)]\n",
    "print(my_array_normal[:10])\n",
    "my_array_generator = map(lambda x: x**2, my_array_normal)\n",
    "print(my_array_generator)"
   ]
  },
  {
   "cell_type": "code",
   "execution_count": null,
   "id": "6fb3ea2e03ced623",
   "metadata": {
    "collapsed": false
   },
   "outputs": [],
   "source": [
    "import sys\n",
    "sys.getsizeof(my_array_normal)"
   ]
  },
  {
   "cell_type": "code",
   "execution_count": null,
   "id": "8b82101d683193d6",
   "metadata": {
    "collapsed": false
   },
   "outputs": [],
   "source": [
    "sys.getsizeof(my_array_generator)"
   ]
  },
  {
   "cell_type": "code",
   "execution_count": null,
   "id": "889edf8f5dd91a7e",
   "metadata": {
    "collapsed": false
   },
   "outputs": [],
   "source": [
    "def large_list(n):\n",
    "    return [i for i in range(n)]\n",
    "\n",
    "def large_generator(n):\n",
    "    \"\"\"\n",
    "    It will yield one item at the time to save memory\n",
    "    :param n: \n",
    "    :return: \n",
    "    \"\"\"\n",
    "    for i in range(n):\n",
    "        yield i ## yield is a keyword that allows you to create a generator function\n",
    "\n",
    "list_data = large_list(10**6)\n",
    "gen_data = large_generator(10**6)\n",
    "\n",
    "print(\"List size:\", sys.getsizeof(list_data))\n",
    "print(\"Generator size:\", sys.getsizeof(gen_data))"
   ]
  },
  {
   "cell_type": "code",
   "execution_count": null,
   "id": "98a72bea98e5d225",
   "metadata": {
    "collapsed": false
   },
   "outputs": [],
   "source": [
    "# usage in for loop is the same\n",
    "for i in large_list(10**6):\n",
    "    print(i)\n",
    "    break\n",
    "\n",
    "for i in large_generator(10**6):\n",
    "    print(i)\n",
    "    break\n",
    "    "
   ]
  },
  {
   "cell_type": "code",
   "execution_count": null,
   "id": "5b6fd86b948cfdac",
   "metadata": {
    "collapsed": false
   },
   "outputs": [],
   "source": [
    "# but you cannot do indexing and these stuff as with list\n",
    "print(large_list(10**6)[0])\n",
    "print(large_generator(10**6)[0]) # this will not work"
   ]
  },
  {
   "cell_type": "markdown",
   "id": "4bab3932c9c54710",
   "metadata": {
    "collapsed": false
   },
   "source": [
    "- [ ] Files + Context Managers"
   ]
  },
  {
   "cell_type": "code",
   "execution_count": null,
   "id": "17c1a200604b96cd",
   "metadata": {
    "collapsed": false
   },
   "outputs": [],
   "source": [
    "f = open(\"README.md\", \"r\") # different modes\n",
    "print(f.readlines())\n",
    "f.close()"
   ]
  },
  {
   "cell_type": "code",
   "execution_count": null,
   "id": "ae0101b598e07f2f",
   "metadata": {
    "collapsed": false
   },
   "outputs": [],
   "source": [
    "# contextlib\n",
    "\n",
    "class MyContextManager:\n",
    "    def __enter__(self):\n",
    "        print(\"Entering the context\")\n",
    "        return self\n",
    "\n",
    "    def __exit__(self, exc_type, exc_value, traceback):\n",
    "        print(\"Exiting the context\")\n",
    "        \n",
    "    def say_hello(self):\n",
    "        print(\"Pretending to do some work on the file\")\n",
    "        \n",
    "with MyContextManager() as cm:\n",
    "    cm.say_hello()"
   ]
  },
  {
   "cell_type": "code",
   "execution_count": null,
   "id": "4469c0086c070afd",
   "metadata": {
    "collapsed": false
   },
   "outputs": [],
   "source": [
    "with open(\"README.md\") as f:\n",
    "    print(f.readlines())"
   ]
  },
  {
   "cell_type": "code",
   "execution_count": null,
   "id": "d42f646ca03fa176",
   "metadata": {
    "collapsed": false
   },
   "outputs": [],
   "source": [
    "from contextlib import contextmanager\n",
    "\n",
    "@contextmanager\n",
    "def my_context():\n",
    "    print(\"Enter\")\n",
    "    try:\n",
    "        yield lambda x: x**2\n",
    "    finally:\n",
    "        print(\"Exit\")\n",
    "    \n",
    "with my_context() as f:\n",
    "    print(\"Inside\")\n",
    "    print(f(20))"
   ]
  },
  {
   "cell_type": "code",
   "execution_count": null,
   "id": "1177eb527bf6775d",
   "metadata": {
    "collapsed": false
   },
   "outputs": [],
   "source": [
    "# files, network connection\n",
    "import requests\n",
    "with requests.get('https://www.google.com') as response:\n",
    "    print(response.status_code)\n",
    "    print(response.content[:100])\n"
   ]
  },
  {
   "cell_type": "code",
   "execution_count": null,
   "id": "8f84783759afead6",
   "metadata": {
    "collapsed": false
   },
   "outputs": [],
   "source": [
    "# files, network connection\n",
    "import requests\n",
    "with requests.get('https://www.google.com') as response:\n",
    "    print(response.status_code)\n",
    "    print(response.content[:100])\n"
   ]
  },
  {
   "cell_type": "markdown",
   "id": "7b995e9dcd151f4b",
   "metadata": {
    "collapsed": false
   },
   "source": [
    "- [ ] Decorators"
   ]
  },
  {
   "cell_type": "code",
   "execution_count": null,
   "id": "922ebad1f3cfc956",
   "metadata": {
    "collapsed": false
   },
   "outputs": [],
   "source": [
    "# when I need to add functionality to an existing function - I can use decorator pattern - it is basically doing the wrapper around the function\n",
    "import functools\n",
    "\n",
    "def my_decorator(func):\n",
    "    # enclosed scope\n",
    "    \n",
    "    @functools.wraps(func)  # This preserves the original function's metadata\n",
    "    def wrapper(*args, **kwargs):\n",
    "        # log the function call\n",
    "        print(f\"Calling function {func.__name__} with arguments: {args} and keyword arguments: {kwargs}\")\n",
    "        result = func(*args, **kwargs)\n",
    "        # log the result\n",
    "        print(f\"Function {func.__name__} returned: {result}\")\n",
    "        return result\n",
    "    return wrapper"
   ]
  },
  {
   "cell_type": "code",
   "execution_count": null,
   "id": "e750fb95f4afffb3",
   "metadata": {
    "collapsed": false
   },
   "outputs": [],
   "source": [
    "def my_function(x, y):\n",
    "    return x + y\n",
    "\n",
    "my_function = my_decorator(my_function)\n",
    "print(my_function(1, 2))"
   ]
  },
  {
   "cell_type": "code",
   "execution_count": null,
   "id": "8c11ede3f4996b75",
   "metadata": {
    "collapsed": false
   },
   "outputs": [],
   "source": [
    "# decorator syntax\n",
    "@my_decorator\n",
    "def my_function(x, y):\n",
    "    return x + y\n",
    "my_function(1, 2)"
   ]
  },
  {
   "cell_type": "code",
   "execution_count": null,
   "id": "eb950fe5451a4f96",
   "metadata": {
    "collapsed": false
   },
   "outputs": [],
   "source": [
    "# when I need to add functionality to an existing function - I can use decorator pattern - it is basically doing the wrapper around the function\n",
    "import functools\n",
    "\n",
    "def my_decorator(multiply_by=1):\n",
    "    # enclosed scope\n",
    "    def inner(func):    \n",
    "        @functools.wraps(func)  # This preserves the original function's metadata\n",
    "        def wrapper(*args, **kwargs):\n",
    "            # log the function call\n",
    "            print(f\"Calling function {func.__name__} with arguments: {args} and keyword arguments: {kwargs}\")\n",
    "            result = func(*args, **kwargs)\n",
    "            # log the result\n",
    "            print(f\"Function {func.__name__} returned: {result}\")\n",
    "            return result * multiply_by\n",
    "        return wrapper\n",
    "    return inner\n",
    "\n",
    "\n",
    "@my_decorator(multiply_by=10) # this will return inner (no arguments) and it will work same as before\n",
    "def my_function(x, y):\n",
    "    return x + y\n",
    "my_function(1, 2)"
   ]
  },
  {
   "cell_type": "code",
   "execution_count": null,
   "id": "640eb031412a05d9",
   "metadata": {
    "collapsed": false
   },
   "outputs": [],
   "source": [
    "# Simple decorator with parameters\n",
    "def type_check_decorator(expected_type):\n",
    "    def decorator(func):\n",
    "        def wrapper(*args, **kwargs):\n",
    "            if all(isinstance(arg, expected_type) for arg in args):\n",
    "                return func(*args, **kwargs)\n",
    "            return \"Invalid Input\"\n",
    "        return wrapper\n",
    "    return decorator\n",
    "\n",
    "\n",
    "@type_check_decorator(str)\n",
    "def string_join(*args):\n",
    "    return ''.join(args)\n",
    "\n",
    "\n",
    "@type_check_decorator(int)\n",
    "def summation(*args):\n",
    "    return sum(args)\n",
    "\n",
    "\n",
    "# Test the functions\n",
    "print(string_join(\"I \", 'like ', \"Geeks\", 'for', \"geeks\"))\n",
    "print(summation(19, 2, 8, 533, 67, 981, 119))\n",
    "print(summation(19, 2, 8, 533, 67, 981, \"119\"))"
   ]
  },
  {
   "cell_type": "markdown",
   "id": "6a0974d400587f2a",
   "metadata": {
    "collapsed": false
   },
   "source": [
    "- [ ] Parallelism"
   ]
  },
  {
   "cell_type": "code",
   "execution_count": null,
   "id": "aff577019b4f1c5f",
   "metadata": {
    "collapsed": false
   },
   "outputs": [],
   "source": [
    "# see files in parallelism folder"
   ]
  },
  {
   "cell_type": "markdown",
   "id": "53b625c288fbe808",
   "metadata": {
    "collapsed": false
   },
   "source": [
    "Be aware that Jupyter notebook or streamlit can have problems with asyncio. https://pypi.org/project/nest-asyncio/\n",
    "\n",
    "Same with some C++ related libraries (our experience is with PDF reader) - it was required to use processes instead of threads/coroutines. Otherwise there was segmentation fault ...\n",
    "\n",
    "Processes can be also use to effectively prevent memory leaks"
   ]
  },
  {
   "cell_type": "markdown",
   "id": "8ebd7e14bc03c62e",
   "metadata": {
    "collapsed": false
   },
   "source": [
    "# TBF - to be forgotten ...\n",
    "\n",
    "https://refactoring.guru/design-patterns/python\n",
    "* https://refactoring.guru/design-patterns/singleton/python/example#example-1\n",
    "* https://refactoring.guru/design-patterns/decorator/python/example#example-0   "
   ]
  },
  {
   "cell_type": "code",
   "execution_count": null,
   "id": "296411b631c6e32",
   "metadata": {
    "collapsed": false
   },
   "outputs": [],
   "source": []
  },
  {
   "cell_type": "code",
   "execution_count": null,
   "id": "3211eea892627a30",
   "metadata": {
    "collapsed": false
   },
   "outputs": [],
   "source": [
    "import gc\n",
    "gc.get_stats()"
   ]
  },
  {
   "cell_type": "code",
   "execution_count": null,
   "id": "8077c02f2a60a0f8",
   "metadata": {
    "collapsed": false
   },
   "outputs": [],
   "source": [
    "#    Run the garbage collector.\n",
    "gc.collect()"
   ]
  },
  {
   "cell_type": "code",
   "execution_count": null,
   "id": "e84fe1db8b60ffd8",
   "metadata": {
    "collapsed": false
   },
   "outputs": [],
   "source": [
    "other_var = \"100\"\n",
    "my_var = other_var\n",
    "# gc.get_referrers(other_var)"
   ]
  },
  {
   "cell_type": "markdown",
   "id": "aa49d5e98da8fba7",
   "metadata": {
    "collapsed": false
   },
   "source": [
    "\n",
    "ast is a module in the python standard library. Python codes need to be converted to an Abstract Syntax Tree (AST) before becoming “byte code”(.pyc files). Generating AST is the most important function of ast, but there are more ways one can use the module."
   ]
  },
  {
   "cell_type": "code",
   "execution_count": null,
   "id": "7f453d8eab895750",
   "metadata": {
    "collapsed": false
   },
   "outputs": [],
   "source": [
    "# https://medium.com/@wshanshan/intro-to-python-ast-module-bbd22cd505f7\n",
    "import ast\n",
    "import ast\n",
    "tree = ast.parse(\"print('hello world')\")\n",
    "for node in ast.walk(tree):\n",
    "    print()\n",
    "    print(node)\n",
    "    print(node.__dict__)\n",
    "    print(\"children: \" + str([x for x in ast.iter_child_nodes(node)]) + \"\\\\n\")"
   ]
  },
  {
   "cell_type": "code",
   "execution_count": null,
   "id": "4819f89d6361db68",
   "metadata": {
    "collapsed": false
   },
   "outputs": [],
   "source": []
  }
 ],
 "metadata": {
  "kernelspec": {
   "display_name": "Python 3",
   "language": "python",
   "name": "python3"
  },
  "language_info": {
   "codemirror_mode": {
    "name": "ipython",
    "version": 2
   },
   "file_extension": ".py",
   "mimetype": "text/x-python",
   "name": "python",
   "nbconvert_exporter": "python",
   "pygments_lexer": "ipython2",
   "version": "2.7.6"
  }
 },
 "nbformat": 4,
 "nbformat_minor": 5
}
