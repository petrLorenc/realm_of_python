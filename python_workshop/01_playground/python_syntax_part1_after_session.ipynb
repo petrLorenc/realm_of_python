{
 "cells": [
  {
   "cell_type": "markdown",
   "id": "902f46566b93f7c8",
   "metadata": {
    "collapsed": false
   },
   "source": [
    "# Python \n",
    "\n",
    "Let's start with a basics as we do not know if we will use Python for a long time or just for a short time.\n",
    "\n",
    "\n",
    "So you want to know more about Python? Let's start with CPython.\n",
    "\n",
    "## CPython?\n",
    "CPython is the original Python implementation. It is the implementation you download from Python.org. People call it CPython to distinguish it from other, later, Python implementations, and to distinguish the implementation of the language engine from the Python programming language itself. You need to keep Python-the-language separate from whatever runs the Python code.\n",
    "\n",
    "CPython happens to be implemented in C. That is just an implementation detail, really. CPython compiles your Python code into bytecode (transparently) and interprets that bytecode in a evaluation loop. CPython is also the first to implement new features; Python-the-language development uses CPython as the base; other implementations follow.\n",
    "\n",
    "### What about others interpreters?\n",
    "Jython, IronPython and PyPy are the current \"other\" implementations of the Python programming language; these are implemented in Java, C# and RPython (a subset of Python), respectively. Jython compiles your Python code to Java bytecode, so your Python code can run on the JVM. IronPython lets you run Python on the Microsoft CLR. And PyPy, being implemented in (a subset of) Python, lets you run Python code faster than CPython, which rightly should blow your mind. :-)\n",
    "\n",
    "Actually compiling to C\n",
    "So CPython does not translate your Python code to C by itself. Instead, it runs an interpreter loop. There is a project that does translate Python-ish code to C, and that is called Cython. Cython adds a few extensions to the Python language, and lets you compile your code to C extensions, code that plugs into the CPython interpreter.\n",
    "\n",
    "Taken from https://stackoverflow.com/a/67915291.\n",
    "Reference code https://hg.python.org/cpython/file/3.3/Python/ceval.c#l790 + https://hg.python.org/cpython/file/3.3/Python/ceval.c#l1350 (old version). \n",
    "\n",
    "At a high level, the interpreter consists of a loop that iterates over the bytecode instructions, executing each of them via a switch statement that has a case implementing each opcode. This switch statement is generated from the instruction definitions in Python/bytecodes.c which are written in a DSL developed for this purpose.\n",
    "\n",
    "Reference https://github.com/python/cpython/blob/main/InternalDocs/interpreter.md.\n"
   ]
  },
  {
   "cell_type": "code",
   "execution_count": 1,
   "id": "ede681c2cde534ba",
   "metadata": {
    "collapsed": false
   },
   "outputs": [
    {
     "name": "stdout",
     "output_type": "stream",
     "text": [
      "  1           RESUME                   0\n",
      "\n",
      "  2           LOAD_GLOBAL              1 (print + NULL)\n",
      "              LOAD_CONST               1 ('Hello')\n",
      "              CALL                     1\n",
      "              POP_TOP\n",
      "\n",
      "  3           LOAD_FAST                0 (x)\n",
      "              TO_BOOL\n",
      "              POP_JUMP_IF_FALSE        4 (to L1)\n",
      "\n",
      "  4           LOAD_FAST_LOAD_FAST     16 (y, x)\n",
      "              BINARY_OP               13 (+=)\n",
      "              STORE_FAST               1 (y)\n",
      "\n",
      "  5   L1:     LOAD_GLOBAL              1 (print + NULL)\n",
      "              LOAD_FAST_LOAD_FAST      1 (x, y)\n",
      "              CALL                     2\n",
      "              POP_TOP\n",
      "\n",
      "  6           LOAD_FAST_LOAD_FAST      1 (x, y)\n",
      "              BINARY_OP                0 (+)\n",
      "              RETURN_VALUE\n"
     ]
    }
   ],
   "source": [
    "def f(x, y):                # line 1\n",
    "    print(\"Hello\")           # line 2\n",
    "    if x:                    # line 3\n",
    "        y += x                # line 4\n",
    "    print(x, y)              # line 5\n",
    "    return x+y               # line 6 \n",
    "\n",
    "# Disassembler of Python byte code into mnemonics.\n",
    "import dis                  \n",
    "dis.dis(f)  "
   ]
  },
  {
   "cell_type": "code",
   "execution_count": null,
   "id": "2f85e86d6fafbd2d",
   "metadata": {
    "collapsed": false
   },
   "outputs": [],
   "source": [
    "!python -m py_compile bytecode_playground.py   \n",
    "!cat __pycache__/bytecode_playground.cpython-312.pyc\n"
   ]
  },
  {
   "cell_type": "markdown",
   "id": "867e6e9ab7595981",
   "metadata": {
    "collapsed": false
   },
   "source": [
    "# Python Syntax\n",
    "\n",
    "- [ ] PEP 8 (Style Guide for Python Code)\n",
    "- [ ] Built-in functions (print, input, len, type, range, open, etc.)\n",
    "- [ ] Data types (int, float, str, bool, list, tuple, dict, set)\n",
    "- [ ] Control Flow (if, elif, else, for, while, break, continue, pass)\n",
    "- [ ] Exception Handling (try, except, else, finally, raise) - by specific with exception\n",
    "- [ ] Comprehensions\n",
    "- [ ] Functions - data types\n",
    "\n",
    "## TLDR: Everything is an object!!\n",
    "\n",
    "## Dive into more details (TLDR: use common sense and some tool for formatting)\n",
    "https://peps.python.org/pep-0008/ \n",
    "\n",
    "* Use 4 spaces per indentation level.\n",
    "* Limit all lines to a maximum of 79 characters.\n",
    "* Surround top-level function and class definitions with two blank lines.\n",
    "* Immediately before the open parenthesis that starts the argument list of a function call:\n",
    "* ...\n",
    "* Never use the characters ‘l’ (lowercase letter el), ‘O’ (uppercase letter oh), or ‘I’ (uppercase letter eye) as single character variable names.\n",
    "* Function names should be lowercase, with words separated by underscores as necessary to improve readability. (snake_case)\n",
    "* Always use self for the first argument to instance methods.\n",
    "\n",
    "...\n",
    "\n",
    "use flake8, black or [ruff](https://github.com/astral-sh/ruff)\n",
    "\n",
    "```\n",
    "uvx ruff check bytecode_playground.py \n",
    "```\n"
   ]
  },
  {
   "cell_type": "code",
   "execution_count": 3,
   "id": "69aaeac1804b47e0",
   "metadata": {
    "collapsed": false
   },
   "outputs": [
    {
     "name": "stdout",
     "output_type": "stream",
     "text": [
      "/usr/bin/sh: 1: uvx: not found\n"
     ]
    }
   ],
   "source": [
    "!uvx ruff check bytecode_playground.py "
   ]
  },
  {
   "cell_type": "code",
   "execution_count": 4,
   "id": "30ed7bfda5501510",
   "metadata": {
    "collapsed": false
   },
   "outputs": [
    {
     "name": "stdout",
     "output_type": "stream",
     "text": [
      "The Zen of Python, by Tim Peters\n",
      "\n",
      "Beautiful is better than ugly.\n",
      "Explicit is better than implicit.\n",
      "Simple is better than complex.\n",
      "Complex is better than complicated.\n",
      "Flat is better than nested.\n",
      "Sparse is better than dense.\n",
      "Readability counts.\n",
      "Special cases aren't special enough to break the rules.\n",
      "Although practicality beats purity.\n",
      "Errors should never pass silently.\n",
      "Unless explicitly silenced.\n",
      "In the face of ambiguity, refuse the temptation to guess.\n",
      "There should be one-- and preferably only one --obvious way to do it.\n",
      "Although that way may not be obvious at first unless you're Dutch.\n",
      "Now is better than never.\n",
      "Although never is often better than *right* now.\n",
      "If the implementation is hard to explain, it's a bad idea.\n",
      "If the implementation is easy to explain, it may be a good idea.\n",
      "Namespaces are one honking great idea -- let's do more of those!\n"
     ]
    }
   ],
   "source": [
    "import this"
   ]
  },
  {
   "cell_type": "markdown",
   "id": "cff57e3d09c20977",
   "metadata": {
    "collapsed": false
   },
   "source": [
    "- [ ] Built-in functions (print, input, len, type, range, open, etc.)"
   ]
  },
  {
   "cell_type": "code",
   "execution_count": null,
   "id": "938d2df83b85c50f",
   "metadata": {
    "collapsed": false
   },
   "outputs": [],
   "source": [
    "# helper functions\n",
    "dir(), help(), locals(), globals(), ..."
   ]
  },
  {
   "cell_type": "code",
   "execution_count": 11,
   "id": "6bd9c471-8e7d-4e92-899d-72d88c336378",
   "metadata": {},
   "outputs": [
    {
     "data": {
      "text/plain": [
       "{'__name__': '__main__',\n",
       " '__doc__': 'Automatically created module for IPython interactive environment',\n",
       " '__package__': None,\n",
       " '__loader__': None,\n",
       " '__spec__': None,\n",
       " '__builtin__': <module 'builtins' (built-in)>,\n",
       " '__builtins__': <module 'builtins' (built-in)>,\n",
       " '_ih': ['',\n",
       "  'def f(x, y):                # line 1\\n    print(\"Hello\")           # line 2\\n    if x:                    # line 3\\n        y += x                # line 4\\n    print(x, y)              # line 5\\n    return x+y               # line 6 \\n\\n# Disassembler of Python byte code into mnemonics.\\nimport dis                  \\ndis.dis(f)  ',\n",
       "  \"get_ipython().system('python -m py_compile bytecode_playground.py')\\nget_ipython().system('cat __pycache__/bytecode_playground.cpython-312.pyc')\",\n",
       "  \"get_ipython().system('uvx ruff check bytecode_playground.py')\",\n",
       "  'import this',\n",
       "  'from = 1',\n",
       "  'dir(int)',\n",
       "  'help(int.from_bytes)',\n",
       "  'help(int)',\n",
       "  'help(help)',\n",
       "  'locals()',\n",
       "  'globals()'],\n",
       " '_oh': {6: ['__abs__',\n",
       "   '__add__',\n",
       "   '__and__',\n",
       "   '__bool__',\n",
       "   '__ceil__',\n",
       "   '__class__',\n",
       "   '__delattr__',\n",
       "   '__dir__',\n",
       "   '__divmod__',\n",
       "   '__doc__',\n",
       "   '__eq__',\n",
       "   '__float__',\n",
       "   '__floor__',\n",
       "   '__floordiv__',\n",
       "   '__format__',\n",
       "   '__ge__',\n",
       "   '__getattribute__',\n",
       "   '__getnewargs__',\n",
       "   '__getstate__',\n",
       "   '__gt__',\n",
       "   '__hash__',\n",
       "   '__index__',\n",
       "   '__init__',\n",
       "   '__init_subclass__',\n",
       "   '__int__',\n",
       "   '__invert__',\n",
       "   '__le__',\n",
       "   '__lshift__',\n",
       "   '__lt__',\n",
       "   '__mod__',\n",
       "   '__mul__',\n",
       "   '__ne__',\n",
       "   '__neg__',\n",
       "   '__new__',\n",
       "   '__or__',\n",
       "   '__pos__',\n",
       "   '__pow__',\n",
       "   '__radd__',\n",
       "   '__rand__',\n",
       "   '__rdivmod__',\n",
       "   '__reduce__',\n",
       "   '__reduce_ex__',\n",
       "   '__repr__',\n",
       "   '__rfloordiv__',\n",
       "   '__rlshift__',\n",
       "   '__rmod__',\n",
       "   '__rmul__',\n",
       "   '__ror__',\n",
       "   '__round__',\n",
       "   '__rpow__',\n",
       "   '__rrshift__',\n",
       "   '__rshift__',\n",
       "   '__rsub__',\n",
       "   '__rtruediv__',\n",
       "   '__rxor__',\n",
       "   '__setattr__',\n",
       "   '__sizeof__',\n",
       "   '__str__',\n",
       "   '__sub__',\n",
       "   '__subclasshook__',\n",
       "   '__truediv__',\n",
       "   '__trunc__',\n",
       "   '__xor__',\n",
       "   'as_integer_ratio',\n",
       "   'bit_count',\n",
       "   'bit_length',\n",
       "   'conjugate',\n",
       "   'denominator',\n",
       "   'from_bytes',\n",
       "   'imag',\n",
       "   'is_integer',\n",
       "   'numerator',\n",
       "   'real',\n",
       "   'to_bytes'],\n",
       "  10: {...}},\n",
       " '_dh': [PosixPath('/app')],\n",
       " 'In': ['',\n",
       "  'def f(x, y):                # line 1\\n    print(\"Hello\")           # line 2\\n    if x:                    # line 3\\n        y += x                # line 4\\n    print(x, y)              # line 5\\n    return x+y               # line 6 \\n\\n# Disassembler of Python byte code into mnemonics.\\nimport dis                  \\ndis.dis(f)  ',\n",
       "  \"get_ipython().system('python -m py_compile bytecode_playground.py')\\nget_ipython().system('cat __pycache__/bytecode_playground.cpython-312.pyc')\",\n",
       "  \"get_ipython().system('uvx ruff check bytecode_playground.py')\",\n",
       "  'import this',\n",
       "  'from = 1',\n",
       "  'dir(int)',\n",
       "  'help(int.from_bytes)',\n",
       "  'help(int)',\n",
       "  'help(help)',\n",
       "  'locals()',\n",
       "  'globals()'],\n",
       " 'Out': {6: ['__abs__',\n",
       "   '__add__',\n",
       "   '__and__',\n",
       "   '__bool__',\n",
       "   '__ceil__',\n",
       "   '__class__',\n",
       "   '__delattr__',\n",
       "   '__dir__',\n",
       "   '__divmod__',\n",
       "   '__doc__',\n",
       "   '__eq__',\n",
       "   '__float__',\n",
       "   '__floor__',\n",
       "   '__floordiv__',\n",
       "   '__format__',\n",
       "   '__ge__',\n",
       "   '__getattribute__',\n",
       "   '__getnewargs__',\n",
       "   '__getstate__',\n",
       "   '__gt__',\n",
       "   '__hash__',\n",
       "   '__index__',\n",
       "   '__init__',\n",
       "   '__init_subclass__',\n",
       "   '__int__',\n",
       "   '__invert__',\n",
       "   '__le__',\n",
       "   '__lshift__',\n",
       "   '__lt__',\n",
       "   '__mod__',\n",
       "   '__mul__',\n",
       "   '__ne__',\n",
       "   '__neg__',\n",
       "   '__new__',\n",
       "   '__or__',\n",
       "   '__pos__',\n",
       "   '__pow__',\n",
       "   '__radd__',\n",
       "   '__rand__',\n",
       "   '__rdivmod__',\n",
       "   '__reduce__',\n",
       "   '__reduce_ex__',\n",
       "   '__repr__',\n",
       "   '__rfloordiv__',\n",
       "   '__rlshift__',\n",
       "   '__rmod__',\n",
       "   '__rmul__',\n",
       "   '__ror__',\n",
       "   '__round__',\n",
       "   '__rpow__',\n",
       "   '__rrshift__',\n",
       "   '__rshift__',\n",
       "   '__rsub__',\n",
       "   '__rtruediv__',\n",
       "   '__rxor__',\n",
       "   '__setattr__',\n",
       "   '__sizeof__',\n",
       "   '__str__',\n",
       "   '__sub__',\n",
       "   '__subclasshook__',\n",
       "   '__truediv__',\n",
       "   '__trunc__',\n",
       "   '__xor__',\n",
       "   'as_integer_ratio',\n",
       "   'bit_count',\n",
       "   'bit_length',\n",
       "   'conjugate',\n",
       "   'denominator',\n",
       "   'from_bytes',\n",
       "   'imag',\n",
       "   'is_integer',\n",
       "   'numerator',\n",
       "   'real',\n",
       "   'to_bytes'],\n",
       "  10: {...}},\n",
       " 'get_ipython': <bound method InteractiveShell.get_ipython of <ipykernel.zmqshell.ZMQInteractiveShell object at 0xffffb9fef380>>,\n",
       " 'exit': <IPython.core.autocall.ZMQExitAutocall at 0xffffb95a23c0>,\n",
       " 'quit': <IPython.core.autocall.ZMQExitAutocall at 0xffffb95a23c0>,\n",
       " 'open': <function _io.open(file, mode='r', buffering=-1, encoding=None, errors=None, newline=None, closefd=True, opener=None)>,\n",
       " '_': {...},\n",
       " '__': ['__abs__',\n",
       "  '__add__',\n",
       "  '__and__',\n",
       "  '__bool__',\n",
       "  '__ceil__',\n",
       "  '__class__',\n",
       "  '__delattr__',\n",
       "  '__dir__',\n",
       "  '__divmod__',\n",
       "  '__doc__',\n",
       "  '__eq__',\n",
       "  '__float__',\n",
       "  '__floor__',\n",
       "  '__floordiv__',\n",
       "  '__format__',\n",
       "  '__ge__',\n",
       "  '__getattribute__',\n",
       "  '__getnewargs__',\n",
       "  '__getstate__',\n",
       "  '__gt__',\n",
       "  '__hash__',\n",
       "  '__index__',\n",
       "  '__init__',\n",
       "  '__init_subclass__',\n",
       "  '__int__',\n",
       "  '__invert__',\n",
       "  '__le__',\n",
       "  '__lshift__',\n",
       "  '__lt__',\n",
       "  '__mod__',\n",
       "  '__mul__',\n",
       "  '__ne__',\n",
       "  '__neg__',\n",
       "  '__new__',\n",
       "  '__or__',\n",
       "  '__pos__',\n",
       "  '__pow__',\n",
       "  '__radd__',\n",
       "  '__rand__',\n",
       "  '__rdivmod__',\n",
       "  '__reduce__',\n",
       "  '__reduce_ex__',\n",
       "  '__repr__',\n",
       "  '__rfloordiv__',\n",
       "  '__rlshift__',\n",
       "  '__rmod__',\n",
       "  '__rmul__',\n",
       "  '__ror__',\n",
       "  '__round__',\n",
       "  '__rpow__',\n",
       "  '__rrshift__',\n",
       "  '__rshift__',\n",
       "  '__rsub__',\n",
       "  '__rtruediv__',\n",
       "  '__rxor__',\n",
       "  '__setattr__',\n",
       "  '__sizeof__',\n",
       "  '__str__',\n",
       "  '__sub__',\n",
       "  '__subclasshook__',\n",
       "  '__truediv__',\n",
       "  '__trunc__',\n",
       "  '__xor__',\n",
       "  'as_integer_ratio',\n",
       "  'bit_count',\n",
       "  'bit_length',\n",
       "  'conjugate',\n",
       "  'denominator',\n",
       "  'from_bytes',\n",
       "  'imag',\n",
       "  'is_integer',\n",
       "  'numerator',\n",
       "  'real',\n",
       "  'to_bytes'],\n",
       " '___': '',\n",
       " '__session__': '/app/python_syntax_part1.ipynb',\n",
       " '_i': 'locals()',\n",
       " '_ii': 'help(help)',\n",
       " '_iii': 'help(int)',\n",
       " '_i1': 'def f(x, y):                # line 1\\n    print(\"Hello\")           # line 2\\n    if x:                    # line 3\\n        y += x                # line 4\\n    print(x, y)              # line 5\\n    return x+y               # line 6 \\n\\n# Disassembler of Python byte code into mnemonics.\\nimport dis                  \\ndis.dis(f)  ',\n",
       " 'f': <function __main__.f(x, y)>,\n",
       " 'dis': <module 'dis' from '/usr/local/lib/python3.13/dis.py'>,\n",
       " '_i2': '!python -m py_compile bytecode_playground.py   \\n!cat __pycache__/bytecode_playground.cpython-312.pyc',\n",
       " '_exit_code': 127,\n",
       " '_i3': '!uvx ruff check bytecode_playground.py ',\n",
       " '_i4': 'import this',\n",
       " 'this': <module 'this' from '/usr/local/lib/python3.13/this.py'>,\n",
       " '_i5': 'from = 1',\n",
       " '_i6': 'dir(int)',\n",
       " '_6': ['__abs__',\n",
       "  '__add__',\n",
       "  '__and__',\n",
       "  '__bool__',\n",
       "  '__ceil__',\n",
       "  '__class__',\n",
       "  '__delattr__',\n",
       "  '__dir__',\n",
       "  '__divmod__',\n",
       "  '__doc__',\n",
       "  '__eq__',\n",
       "  '__float__',\n",
       "  '__floor__',\n",
       "  '__floordiv__',\n",
       "  '__format__',\n",
       "  '__ge__',\n",
       "  '__getattribute__',\n",
       "  '__getnewargs__',\n",
       "  '__getstate__',\n",
       "  '__gt__',\n",
       "  '__hash__',\n",
       "  '__index__',\n",
       "  '__init__',\n",
       "  '__init_subclass__',\n",
       "  '__int__',\n",
       "  '__invert__',\n",
       "  '__le__',\n",
       "  '__lshift__',\n",
       "  '__lt__',\n",
       "  '__mod__',\n",
       "  '__mul__',\n",
       "  '__ne__',\n",
       "  '__neg__',\n",
       "  '__new__',\n",
       "  '__or__',\n",
       "  '__pos__',\n",
       "  '__pow__',\n",
       "  '__radd__',\n",
       "  '__rand__',\n",
       "  '__rdivmod__',\n",
       "  '__reduce__',\n",
       "  '__reduce_ex__',\n",
       "  '__repr__',\n",
       "  '__rfloordiv__',\n",
       "  '__rlshift__',\n",
       "  '__rmod__',\n",
       "  '__rmul__',\n",
       "  '__ror__',\n",
       "  '__round__',\n",
       "  '__rpow__',\n",
       "  '__rrshift__',\n",
       "  '__rshift__',\n",
       "  '__rsub__',\n",
       "  '__rtruediv__',\n",
       "  '__rxor__',\n",
       "  '__setattr__',\n",
       "  '__sizeof__',\n",
       "  '__str__',\n",
       "  '__sub__',\n",
       "  '__subclasshook__',\n",
       "  '__truediv__',\n",
       "  '__trunc__',\n",
       "  '__xor__',\n",
       "  'as_integer_ratio',\n",
       "  'bit_count',\n",
       "  'bit_length',\n",
       "  'conjugate',\n",
       "  'denominator',\n",
       "  'from_bytes',\n",
       "  'imag',\n",
       "  'is_integer',\n",
       "  'numerator',\n",
       "  'real',\n",
       "  'to_bytes'],\n",
       " '_i7': 'help(int.from_bytes)',\n",
       " '_i8': 'help(int)',\n",
       " '_i9': 'help(help)',\n",
       " '_i10': 'locals()',\n",
       " '_10': {...},\n",
       " '_i11': 'globals()'}"
      ]
     },
     "execution_count": 11,
     "metadata": {},
     "output_type": "execute_result"
    }
   ],
   "source": [
    "globals()"
   ]
  },
  {
   "cell_type": "code",
   "execution_count": null,
   "id": "36ca64e55c69ca36",
   "metadata": {
    "collapsed": false
   },
   "outputs": [],
   "source": [
    "# built-in functions - https://docs.python.org/3/library/functions.html\n",
    "print(), list(), set(), int(), ...\n",
    "# reserved keywords - https://www.programiz.com/python-programming/keyword-list\n",
    "from, as, assert, if, while, with,  ...\n",
    "# rest is user-defined\n",
    "..."
   ]
  },
  {
   "cell_type": "code",
   "execution_count": 5,
   "id": "58ecd685-0ccc-496e-bef8-6bda64f7c340",
   "metadata": {},
   "outputs": [
    {
     "ename": "SyntaxError",
     "evalue": "invalid syntax (3903669326.py, line 1)",
     "output_type": "error",
     "traceback": [
      "  \u001b[36mCell\u001b[39m\u001b[36m \u001b[39m\u001b[32mIn[5]\u001b[39m\u001b[32m, line 1\u001b[39m\n\u001b[31m    \u001b[39m\u001b[31mfrom = 1\u001b[39m\n         ^\n\u001b[31mSyntaxError\u001b[39m\u001b[31m:\u001b[39m invalid syntax\n"
     ]
    }
   ],
   "source": [
    "from = 1"
   ]
  },
  {
   "cell_type": "markdown",
   "id": "b205554432da5803",
   "metadata": {
    "collapsed": false
   },
   "source": [
    "- [ ] Data types (int, float, str, bool, list, tuple, dict, set)\n"
   ]
  },
  {
   "cell_type": "code",
   "execution_count": 17,
   "id": "f9bd4709-acff-48a1-93bf-158feab1390f",
   "metadata": {},
   "outputs": [
    {
     "data": {
      "text/plain": [
       "''"
      ]
     },
     "execution_count": 17,
     "metadata": {},
     "output_type": "execute_result"
    }
   ],
   "source": [
    "var = \"\" \n",
    "var = 10\n",
    "var = lambda x: x"
   ]
  },
  {
   "cell_type": "code",
   "execution_count": 19,
   "id": "cdf14315-08e2-4a6a-97f4-33df2788653c",
   "metadata": {},
   "outputs": [
    {
     "data": {
      "text/plain": [
       "['__add__',\n",
       " '__class__',\n",
       " '__class_getitem__',\n",
       " '__contains__',\n",
       " '__delattr__',\n",
       " '__delitem__',\n",
       " '__dir__',\n",
       " '__doc__',\n",
       " '__eq__',\n",
       " '__format__',\n",
       " '__ge__',\n",
       " '__getattribute__',\n",
       " '__getitem__',\n",
       " '__getstate__',\n",
       " '__gt__',\n",
       " '__hash__',\n",
       " '__iadd__',\n",
       " '__imul__',\n",
       " '__init__',\n",
       " '__init_subclass__',\n",
       " '__iter__',\n",
       " '__le__',\n",
       " '__len__',\n",
       " '__lt__',\n",
       " '__mul__',\n",
       " '__ne__',\n",
       " '__new__',\n",
       " '__reduce__',\n",
       " '__reduce_ex__',\n",
       " '__repr__',\n",
       " '__reversed__',\n",
       " '__rmul__',\n",
       " '__setattr__',\n",
       " '__setitem__',\n",
       " '__sizeof__',\n",
       " '__str__',\n",
       " '__subclasshook__',\n",
       " 'append',\n",
       " 'clear',\n",
       " 'copy',\n",
       " 'count',\n",
       " 'extend',\n",
       " 'index',\n",
       " 'insert',\n",
       " 'pop',\n",
       " 'remove',\n",
       " 'reverse',\n",
       " 'sort']"
      ]
     },
     "execution_count": 19,
     "metadata": {},
     "output_type": "execute_result"
    }
   ],
   "source": [
    "list()\n",
    "tuple()\n",
    "dir(list())"
   ]
  },
  {
   "cell_type": "code",
   "execution_count": 23,
   "id": "55001b81-fb6b-42f4-b284-b643d24ed299",
   "metadata": {},
   "outputs": [
    {
     "ename": "TypeError",
     "evalue": "unhashable type: 'list'",
     "output_type": "error",
     "traceback": [
      "\u001b[31m---------------------------------------------------------------------------\u001b[39m",
      "\u001b[31mTypeError\u001b[39m                                 Traceback (most recent call last)",
      "\u001b[36mCell\u001b[39m\u001b[36m \u001b[39m\u001b[32mIn[23]\u001b[39m\u001b[32m, line 2\u001b[39m\n\u001b[32m      1\u001b[39m \u001b[38;5;66;03m# hash(tuple())\u001b[39;00m\n\u001b[32m----> \u001b[39m\u001b[32m2\u001b[39m \u001b[38;5;28;43mhash\u001b[39;49m\u001b[43m(\u001b[49m\u001b[38;5;28;43mlist\u001b[39;49m\u001b[43m(\u001b[49m\u001b[43m)\u001b[49m\u001b[43m)\u001b[49m\n",
      "\u001b[31mTypeError\u001b[39m: unhashable type: 'list'"
     ]
    }
   ],
   "source": [
    "# hash(tuple())\n",
    "hash(list())"
   ]
  },
  {
   "cell_type": "code",
   "execution_count": 20,
   "id": "ad6c792e-2e84-42bd-98cf-3fe6b27f7666",
   "metadata": {},
   "outputs": [
    {
     "data": {
      "text/plain": [
       "{('h', 'e', 'l', 'l'): {'o': 40, '_': 5}}"
      ]
     },
     "execution_count": 20,
     "metadata": {},
     "output_type": "execute_result"
    }
   ],
   "source": [
    "a = (\"h\", \"e\", \"l\", \"l\")\n",
    "b = {a: {\"o\": 40, \"_\": 5}}\n",
    "a = 1\n",
    "b"
   ]
  },
  {
   "cell_type": "code",
   "execution_count": 24,
   "id": "initial_id",
   "metadata": {},
   "outputs": [
    {
     "name": "stdout",
     "output_type": "stream",
     "text": [
      "11\n",
      "['new string']\n"
     ]
    }
   ],
   "source": [
    "arr = []\n",
    "print(len(\"Hello world\")) # Length of a string\n",
    "arr.append(\"new string\") # Add new item to end of list\n",
    "arr.sort() # Sort a list\n",
    "print(arr)"
   ]
  },
  {
   "cell_type": "code",
   "execution_count": null,
   "id": "8b5362b8b703b63a",
   "metadata": {
    "collapsed": false
   },
   "outputs": [],
   "source": [
    "dir([])\n",
    "dir(list)\n",
    "dir(arr)"
   ]
  },
  {
   "cell_type": "code",
   "execution_count": null,
   "id": "48fc04968357a7f1",
   "metadata": {
    "collapsed": false
   },
   "outputs": [],
   "source": [
    "int(), float(), str(), bool(), list(), tuple(), dict(), set() # can be used for type casting\n",
    "# usually you define it more like\n",
    "0, 1.1, \"\", True, [], (), {}, set() # set is unlucky because the same character is used for dict"
   ]
  },
  {
   "cell_type": "code",
   "execution_count": null,
   "id": "5002e3031e0de53c",
   "metadata": {
    "collapsed": false
   },
   "outputs": [],
   "source": [
    "# there is usually some operation defined over these types - you can use them or play with them :)"
   ]
  },
  {
   "cell_type": "code",
   "execution_count": 25,
   "id": "e8b4343d-0fd3-4c1b-8d46-8fe20a8ad10c",
   "metadata": {},
   "outputs": [
    {
     "data": {
      "text/plain": [
       "['__and__',\n",
       " '__class__',\n",
       " '__class_getitem__',\n",
       " '__contains__',\n",
       " '__delattr__',\n",
       " '__dir__',\n",
       " '__doc__',\n",
       " '__eq__',\n",
       " '__format__',\n",
       " '__ge__',\n",
       " '__getattribute__',\n",
       " '__getstate__',\n",
       " '__gt__',\n",
       " '__hash__',\n",
       " '__iand__',\n",
       " '__init__',\n",
       " '__init_subclass__',\n",
       " '__ior__',\n",
       " '__isub__',\n",
       " '__iter__',\n",
       " '__ixor__',\n",
       " '__le__',\n",
       " '__len__',\n",
       " '__lt__',\n",
       " '__ne__',\n",
       " '__new__',\n",
       " '__or__',\n",
       " '__rand__',\n",
       " '__reduce__',\n",
       " '__reduce_ex__',\n",
       " '__repr__',\n",
       " '__ror__',\n",
       " '__rsub__',\n",
       " '__rxor__',\n",
       " '__setattr__',\n",
       " '__sizeof__',\n",
       " '__str__',\n",
       " '__sub__',\n",
       " '__subclasshook__',\n",
       " '__xor__',\n",
       " 'add',\n",
       " 'clear',\n",
       " 'copy',\n",
       " 'difference',\n",
       " 'difference_update',\n",
       " 'discard',\n",
       " 'intersection',\n",
       " 'intersection_update',\n",
       " 'isdisjoint',\n",
       " 'issubset',\n",
       " 'issuperset',\n",
       " 'pop',\n",
       " 'remove',\n",
       " 'symmetric_difference',\n",
       " 'symmetric_difference_update',\n",
       " 'union',\n",
       " 'update']"
      ]
     },
     "execution_count": 25,
     "metadata": {},
     "output_type": "execute_result"
    }
   ],
   "source": [
    "dir(set())"
   ]
  },
  {
   "cell_type": "code",
   "execution_count": 26,
   "id": "4bac9a2c-d3f7-44e0-aa00-d7a07f320096",
   "metadata": {},
   "outputs": [
    {
     "data": {
      "text/plain": [
       "3"
      ]
     },
     "execution_count": 26,
     "metadata": {},
     "output_type": "execute_result"
    }
   ],
   "source": [
    "1 + 2"
   ]
  },
  {
   "cell_type": "code",
   "execution_count": 28,
   "id": "bf9bff7d-3d88-40e8-9eb1-38ccbbd7546f",
   "metadata": {},
   "outputs": [
    {
     "data": {
      "text/plain": [
       "3"
      ]
     },
     "execution_count": 28,
     "metadata": {},
     "output_type": "execute_result"
    }
   ],
   "source": [
    "(1).__add__(2)"
   ]
  },
  {
   "cell_type": "code",
   "execution_count": 29,
   "id": "bebcb1b1ca0a76b7",
   "metadata": {
    "collapsed": false
   },
   "outputs": [
    {
     "data": {
      "text/plain": [
       "{2, 3}"
      ]
     },
     "execution_count": 29,
     "metadata": {},
     "output_type": "execute_result"
    }
   ],
   "source": [
    "# here is clear that it is set and not dict\n",
    "set_a = {1, 2, 3}\n",
    "set_b = {2, 3, 4}\n",
    "set_a & set_b"
   ]
  },
  {
   "cell_type": "code",
   "execution_count": 30,
   "id": "3b46aa903663f58a",
   "metadata": {
    "collapsed": false
   },
   "outputs": [
    {
     "data": {
      "text/plain": [
       "{2, 3}"
      ]
     },
     "execution_count": 30,
     "metadata": {},
     "output_type": "execute_result"
    }
   ],
   "source": [
    "set_a.intersection(set_b)"
   ]
  },
  {
   "cell_type": "code",
   "execution_count": 31,
   "id": "14bd91bc83fe3878",
   "metadata": {
    "collapsed": false
   },
   "outputs": [
    {
     "data": {
      "text/plain": [
       "True"
      ]
     },
     "execution_count": 31,
     "metadata": {},
     "output_type": "execute_result"
    }
   ],
   "source": [
    "\"__and__\" in dir(set)"
   ]
  },
  {
   "cell_type": "code",
   "execution_count": 32,
   "id": "e60ae1112570fde2",
   "metadata": {
    "collapsed": false
   },
   "outputs": [
    {
     "data": {
      "text/plain": [
       "{2, 3}"
      ]
     },
     "execution_count": 32,
     "metadata": {},
     "output_type": "execute_result"
    }
   ],
   "source": [
    "class MySet(set):\n",
    "    def __and__(self, other):\n",
    "        return super().__and__(other) # Call the parent class __and__ method\n",
    "\n",
    "MySet([1, 2, 3]) & MySet([2, 3, 4])"
   ]
  },
  {
   "cell_type": "code",
   "execution_count": 33,
   "id": "45b1f3e09288c2c1",
   "metadata": {
    "collapsed": false
   },
   "outputs": [
    {
     "data": {
      "text/plain": [
       "'Bazinga'"
      ]
     },
     "execution_count": 33,
     "metadata": {},
     "output_type": "execute_result"
    }
   ],
   "source": [
    "class MySet(set):\n",
    "    def __and__(self, other):\n",
    "        return \"Bazinga\"\n",
    "\n",
    "MySet([1, 2, 3]) & MySet([2, 3, 4])"
   ]
  },
  {
   "cell_type": "code",
   "execution_count": 34,
   "id": "9375fcccb1479c7b",
   "metadata": {
    "collapsed": false
   },
   "outputs": [
    {
     "name": "stdout",
     "output_type": "stream",
     "text": [
      "3\n",
      "[3, 4, 5]\n",
      "[3, 5]\n",
      "[6, 5, 4]\n",
      "[20, 19, 18, 17, 16, 15, 14, 13, 12, 11, 10, 9, 8, 7, 6, 5, 4, 3, 2, 1]\n"
     ]
    }
   ],
   "source": [
    "# list - mutable\n",
    "# tuple - immutable\n",
    "# both support indexing, slicing, concatenation, repetition and striding\n",
    "\n",
    "list = [1, 2, 3, 4, 5, 6, 7, 8, 9, 10, 11, 12, 13, 14, 15, 16, 17, 18, 19, 20]\n",
    "print(list[2])\n",
    "print(list[2:5])\n",
    "print(list[2:5:2])\n",
    "print(list[5:2:-1])\n",
    "print(list[::-1])\n",
    "\n",
    "# dict - mutable\n",
    "# set - mutable\n"
   ]
  },
  {
   "cell_type": "code",
   "execution_count": 39,
   "id": "72ed5793-7a7c-4c24-8c47-7df711538f57",
   "metadata": {},
   "outputs": [
    {
     "data": {
      "text/plain": [
       "(20, 19, 18, 17, 16, 15, 14, 13, 12, 11, 10, 9, 8, 7, 6, 5, 4, 3, 2, 1)"
      ]
     },
     "execution_count": 39,
     "metadata": {},
     "output_type": "execute_result"
    }
   ],
   "source": [
    "tuple(reversed(list))"
   ]
  },
  {
   "cell_type": "code",
   "execution_count": null,
   "id": "02f610f0-f990-47b1-b46f-753d601ed25a",
   "metadata": {},
   "outputs": [],
   "source": [
    "print"
   ]
  },
  {
   "cell_type": "code",
   "execution_count": 41,
   "id": "3721c59f3ee5ff6c",
   "metadata": {
    "collapsed": false
   },
   "outputs": [
    {
     "name": "stdout",
     "output_type": "stream",
     "text": [
      "[{'age': 30, 'city': {'country': 'USA', 'name': 'New York'}, 'name': 'John'},\n",
      " {'age': 30, 'city': {'country': 'USA', 'name': 'New York'}, 'name': 'Petr'}]\n",
      "\n",
      "[{'age': 30, 'city': {'country': 'USA', 'name': 'Los Angeles'}, 'name': 'John'},\n",
      " {'age': 30, 'city': {'country': 'USA', 'name': 'Los Angeles'}, 'name': 'Petr'}]\n"
     ]
    }
   ],
   "source": [
    "#https://pythontutor.com/render.html#mode=display\n",
    "\n",
    "from pprint import pprint\n",
    "\n",
    "\n",
    "city = {\"name\": \"New York\", \"country\": \"USA\"}\n",
    "person_a = {\"name\": \"John\", \"age\": 30, \"city\": city}\n",
    "person_b = {\"name\": \"Petr\", \"age\": 30, \"city\": city}\n",
    "people = [person_a, person_b]\n",
    "pprint(people)\n",
    "\n",
    "print()\n",
    "people[0][\"city\"][\"name\"] = \"Los Angeles\"\n",
    "pprint(people)"
   ]
  },
  {
   "cell_type": "code",
   "execution_count": null,
   "id": "6ea65e5b13f17df",
   "metadata": {
    "collapsed": false
   },
   "outputs": [],
   "source": [
    "#https://pythontutor.com/render.html#mode=display\n",
    "\n",
    "from pprint import pprint\n",
    "\n",
    "\n",
    "city = {\"name\": \"New York\", \"country\": \"USA\"}\n",
    "person_a = {\"name\": \"John\", \"age\": 30, \"city\": city.copy()}\n",
    "person_b = {\"name\": \"Petr\", \"age\": 30, \"city\": city.copy()}\n",
    "people = [person_a, person_b]\n",
    "pprint(people)\n",
    "\n",
    "print()\n",
    "people[0][\"city\"][\"name\"] = \"Los Angeles\"\n",
    "pprint(people)"
   ]
  },
  {
   "cell_type": "code",
   "execution_count": 42,
   "id": "d47044ed6da27764",
   "metadata": {
    "collapsed": false
   },
   "outputs": [
    {
     "name": "stdout",
     "output_type": "stream",
     "text": [
      "[{'age': 30,\n",
      "  'city': {'name': 'New York City',\n",
      "           'state': {'country': 'USA', 'name': 'New York'}},\n",
      "  'name': 'John'},\n",
      " {'age': 30,\n",
      "  'city': {'name': 'New York City',\n",
      "           'state': {'country': 'USA', 'name': 'New York'}},\n",
      "  'name': 'Petr'}]\n",
      "\n",
      "[{'age': 30,\n",
      "  'city': {'name': 'Los Angeles',\n",
      "           'state': {'country': 'USA', 'name': 'California'}},\n",
      "  'name': 'John'},\n",
      " {'age': 30,\n",
      "  'city': {'name': 'New York City',\n",
      "           'state': {'country': 'USA', 'name': 'California'}},\n",
      "  'name': 'Petr'}]\n"
     ]
    }
   ],
   "source": [
    "#https://pythontutor.com/render.html#mode=display\n",
    "\n",
    "from pprint import pprint\n",
    "\n",
    "state = {\"name\": \"New York\", \"country\": \"USA\"}\n",
    "city = {\"name\": \"New York City\", \"state\": state}\n",
    "person_a = {\"name\": \"John\", \"age\": 30, \"city\": city.copy()}\n",
    "person_b = {\"name\": \"Petr\", \"age\": 30, \"city\": city.copy()}\n",
    "people = [person_a, person_b]\n",
    "pprint(people)\n",
    "\n",
    "print()\n",
    "people[0][\"city\"][\"name\"] = \"Los Angeles\"\n",
    "people[0][\"city\"][\"state\"][\"name\"] = \"California\"\n",
    "pprint(people)"
   ]
  },
  {
   "cell_type": "code",
   "execution_count": 44,
   "id": "11102b88-8032-4a92-a047-289a256f946c",
   "metadata": {},
   "outputs": [
    {
     "name": "stdout",
     "output_type": "stream",
     "text": [
      "[1]\n",
      "[1, 1]\n"
     ]
    }
   ],
   "source": [
    "def foo(a=[]):\n",
    "    a.append(1)\n",
    "    print(a)\n",
    "foo()\n",
    "foo()\n"
   ]
  },
  {
   "cell_type": "code",
   "execution_count": 46,
   "id": "5ab15cba-a391-45ad-b994-2feeff6324d1",
   "metadata": {},
   "outputs": [
    {
     "data": {
      "text/plain": [
       "False"
      ]
     },
     "execution_count": 46,
     "metadata": {},
     "output_type": "execute_result"
    }
   ],
   "source": [
    "a = [] # hash\n",
    "b = [] # hash\n",
    "a is b"
   ]
  },
  {
   "cell_type": "code",
   "execution_count": 47,
   "id": "a89b2e8c-93bc-4da0-a1ef-3e861fb145a6",
   "metadata": {},
   "outputs": [
    {
     "data": {
      "text/plain": [
       "4238894112"
      ]
     },
     "execution_count": 47,
     "metadata": {},
     "output_type": "execute_result"
    }
   ],
   "source": [
    "hash(None)"
   ]
  },
  {
   "cell_type": "code",
   "execution_count": 48,
   "id": "e72ef594-a01f-4ce5-999a-482cb7cadd42",
   "metadata": {},
   "outputs": [
    {
     "data": {
      "text/plain": [
       "False"
      ]
     },
     "execution_count": 48,
     "metadata": {},
     "output_type": "execute_result"
    }
   ],
   "source": [
    "bool([])"
   ]
  },
  {
   "cell_type": "code",
   "execution_count": 51,
   "id": "9b3f456f-a65a-4fab-bf51-394d2bda953a",
   "metadata": {},
   "outputs": [
    {
     "name": "stdout",
     "output_type": "stream",
     "text": [
      "[1]\n",
      "[1, 1]\n"
     ]
    }
   ],
   "source": [
    "def foo(a=[]):\n",
    "    a.append(1)\n",
    "    print(a)\n",
    "foo()\n",
    "foo()"
   ]
  },
  {
   "cell_type": "code",
   "execution_count": 43,
   "id": "76d68f75ce244bcd",
   "metadata": {
    "collapsed": false
   },
   "outputs": [
    {
     "name": "stdout",
     "output_type": "stream",
     "text": [
      "[{'age': 30,\n",
      "  'city': {'name': 'New York City',\n",
      "           'state': {'country': 'USA', 'name': 'New York'}},\n",
      "  'name': 'John'},\n",
      " {'age': 30,\n",
      "  'city': {'name': 'New York City',\n",
      "           'state': {'country': 'USA', 'name': 'New York'}},\n",
      "  'name': 'Petr'}]\n",
      "\n",
      "[{'age': 30,\n",
      "  'city': {'name': 'Los Angeles',\n",
      "           'state': {'country': 'USA', 'name': 'California'}},\n",
      "  'name': 'John'},\n",
      " {'age': 30,\n",
      "  'city': {'name': 'New York City',\n",
      "           'state': {'country': 'USA', 'name': 'New York'}},\n",
      "  'name': 'Petr'}]\n"
     ]
    }
   ],
   "source": [
    "import copy\n",
    "#https://pythontutor.com/render.html#mode=display\n",
    "\n",
    "from pprint import pprint\n",
    "\n",
    "state = {\"name\": \"New York\", \"country\": \"USA\"}\n",
    "city = {\"name\": \"New York City\", \"state\": state}\n",
    "person_a = {\"name\": \"John\", \"age\": 30, \"city\": copy.deepcopy(city)}\n",
    "person_b = {\"name\": \"Petr\", \"age\": 30, \"city\": copy.deepcopy(city)}\n",
    "people = [person_a, person_b]\n",
    "pprint(people)\n",
    "\n",
    "print()\n",
    "people[0][\"city\"][\"name\"] = \"Los Angeles\"\n",
    "people[0][\"city\"][\"state\"][\"name\"] = \"California\"\n",
    "pprint(people)"
   ]
  },
  {
   "cell_type": "markdown",
   "id": "35494ab826fc5838",
   "metadata": {
    "collapsed": false
   },
   "source": [
    "- [ ] Control Flow (if, elif, else, for, while, break, continue, pass)\n"
   ]
  },
  {
   "cell_type": "code",
   "execution_count": 52,
   "id": "80052164aec61428",
   "metadata": {
    "collapsed": false
   },
   "outputs": [
    {
     "name": "stdout",
     "output_type": "stream",
     "text": [
      "True\n"
     ]
    }
   ],
   "source": [
    "if True:\n",
    "    print(\"True\")\n",
    "else:\n",
    "    print(\"False\")"
   ]
  },
  {
   "cell_type": "code",
   "execution_count": 54,
   "id": "d754fcff177e5180",
   "metadata": {
    "collapsed": false
   },
   "outputs": [
    {
     "name": "stdout",
     "output_type": "stream",
     "text": [
      "Not a key and not even value\n"
     ]
    }
   ],
   "source": [
    "variable = \"key2\"\n",
    "match variable:\n",
    "    case \"value\":\n",
    "        print(\"Some value\")\n",
    "        print(\"ss\")\n",
    "    case \"key\":\n",
    "        print(\"Some key\")\n",
    "    case _:\n",
    "        print(\"Not a key and not even value\")"
   ]
  },
  {
   "cell_type": "code",
   "execution_count": null,
   "id": "b7a6e6d2259d7c8f",
   "metadata": {
    "collapsed": false
   },
   "outputs": [],
   "source": [
    "if condition1 or condition2 # ||\n",
    "if condition1 and condition2 # &&\n",
    "if not condition ## !condition"
   ]
  },
  {
   "cell_type": "code",
   "execution_count": null,
   "id": "b14567e5-8362-43e0-b39b-906587d8708f",
   "metadata": {},
   "outputs": [],
   "source": [
    "if check_if_sometning() and then_something_else():\n",
    "\n",
    "if check_if_sometning():\n",
    "    if then_something_else():\n",
    "        ..."
   ]
  },
  {
   "cell_type": "code",
   "execution_count": 55,
   "id": "9f9b0ae97351e8c6",
   "metadata": {
    "collapsed": false
   },
   "outputs": [
    {
     "name": "stdout",
     "output_type": "stream",
     "text": [
      "2\n",
      "3\n"
     ]
    }
   ],
   "source": [
    "my_variable = 2 or 3\n",
    "print(my_variable)\n",
    "my_variable = 2 and 3\n",
    "print(my_variable)"
   ]
  },
  {
   "cell_type": "code",
   "execution_count": 56,
   "id": "e17b744335e8d4bf",
   "metadata": {
    "collapsed": false
   },
   "outputs": [
    {
     "name": "stdout",
     "output_type": "stream",
     "text": [
      "0\n",
      "1\n",
      "2\n",
      "3\n",
      "4\n",
      "Not in the list\n"
     ]
    }
   ],
   "source": [
    "for i in range(5):\n",
    "    print(i)\n",
    "else:\n",
    "    print(\"Not in the list\")"
   ]
  },
  {
   "cell_type": "code",
   "execution_count": 57,
   "id": "794e0f5fbf0ff339",
   "metadata": {
    "collapsed": false
   },
   "outputs": [
    {
     "name": "stdout",
     "output_type": "stream",
     "text": [
      "0\n",
      "1\n",
      "2\n",
      "3\n",
      "In the list\n"
     ]
    }
   ],
   "source": [
    "for i in range(5):\n",
    "    print(i)\n",
    "    if i == 3:\n",
    "        print(\"In the list\")\n",
    "        break\n",
    "else:\n",
    "    print(\"Not in the list\")"
   ]
  },
  {
   "cell_type": "code",
   "execution_count": 58,
   "id": "3e0ef463f569e836",
   "metadata": {
    "collapsed": false
   },
   "outputs": [
    {
     "name": "stdout",
     "output_type": "stream",
     "text": [
      "0 a\n",
      "1 b\n",
      "2 c\n"
     ]
    }
   ],
   "source": [
    "for k, v in enumerate([\"a\", \"b\", \"c\"]):\n",
    "    print(k, v)"
   ]
  },
  {
   "cell_type": "code",
   "execution_count": 62,
   "id": "b9668d5a-2b8f-4c77-b65b-8cfb82e2d4da",
   "metadata": {},
   "outputs": [
    {
     "name": "stdout",
     "output_type": "stream",
     "text": [
      "1 2\n",
      "3 4\n"
     ]
    }
   ],
   "source": [
    "for item in [(1,2), (3,4)]:\n",
    "    item_a, item_b = item[0], item[1]\n",
    "    print(item_a, item_b)"
   ]
  },
  {
   "cell_type": "code",
   "execution_count": 61,
   "id": "f1e41fad-421d-4bfa-8752-f34fb97d2874",
   "metadata": {},
   "outputs": [
    {
     "name": "stdout",
     "output_type": "stream",
     "text": [
      "1 2\n",
      "3 4\n"
     ]
    }
   ],
   "source": [
    "for item_a, item_b in [(1,2), (3,4)]:\n",
    "    print(item_a, item_b)"
   ]
  },
  {
   "cell_type": "code",
   "execution_count": 63,
   "id": "83820b544c47ab76",
   "metadata": {
    "collapsed": false
   },
   "outputs": [
    {
     "name": "stdout",
     "output_type": "stream",
     "text": [
      "a d\n",
      "b e\n",
      "c f\n"
     ]
    }
   ],
   "source": [
    "array_a = [\"a\", \"b\", \"c\"]\n",
    "array_b = [\"d\", \"e\", \"f\", \"g\", \"h\"]\n",
    "for a, b in zip(array_a, array_b):\n",
    "    print(a, b)"
   ]
  },
  {
   "cell_type": "markdown",
   "id": "297bba62481fe31b",
   "metadata": {
    "collapsed": false
   },
   "source": []
  },
  {
   "cell_type": "markdown",
   "id": "1e7c6bb01bef06e5",
   "metadata": {
    "collapsed": false
   },
   "source": [
    "- [ ] Exception Handling (try, except, else, finally, raise)\n"
   ]
  },
  {
   "cell_type": "code",
   "execution_count": 65,
   "id": "12a71331c1dafeee",
   "metadata": {
    "collapsed": false
   },
   "outputs": [
    {
     "name": "stdout",
     "output_type": "stream",
     "text": [
      "Something is wrong\n",
      "Will say it anyway\n"
     ]
    }
   ],
   "source": [
    "try:\n",
    "    0/0\n",
    "    # 1/1\n",
    "except:\n",
    "    print(\"Something is wrong\")\n",
    "else:\n",
    "    print(\"Nothing is wrong\")\n",
    "finally:\n",
    "    print(\"Will say it anyway\")"
   ]
  },
  {
   "cell_type": "code",
   "execution_count": 66,
   "id": "fff4830f6b8aa10",
   "metadata": {
    "collapsed": false
   },
   "outputs": [
    {
     "name": "stdout",
     "output_type": "stream",
     "text": [
      "Something is wrong\n",
      "Will say it anyway\n"
     ]
    }
   ],
   "source": [
    "try:\n",
    "    raise TypeError(\"\") # first error cause not continuing\n",
    "    raise NotImplementedError(\"\")\n",
    "except (ZeroDivisionError , TypeError) as e:\n",
    "    print(\"Something is wrong\")\n",
    "except AttributeError:\n",
    "    print(\"\")\n",
    "except:\n",
    "    print(\"\")\n",
    "else:\n",
    "    print(\"Nothing is wrong\")\n",
    "finally:\n",
    "    # good place to close connection\n",
    "    print(\"Will say it anyway\")"
   ]
  },
  {
   "cell_type": "markdown",
   "id": "eddb6409a8ec882b",
   "metadata": {
    "collapsed": false
   },
   "source": [
    "- [ ] Comprehensions"
   ]
  },
  {
   "cell_type": "markdown",
   "id": "5e634c3c08a58012",
   "metadata": {
    "collapsed": false
   },
   "source": [
    "List comprehension is basically just a \"syntactic sugar\" for the regular for loop. In this case the reason that it performs better is because it doesn't need to load the append attribute of the list and call it as a function at each iteration. In other words and in general, list comprehensions perform faster because suspending and resuming a function's frame, or multiple functions in other cases, is slower than creating a list on demand."
   ]
  },
  {
   "cell_type": "code",
   "execution_count": 67,
   "id": "7b08d79bf6bbb23a",
   "metadata": {
    "collapsed": false
   },
   "outputs": [
    {
     "name": "stdout",
     "output_type": "stream",
     "text": [
      "293 ns ± 4.17 ns per loop (mean ± std. dev. of 7 runs, 1,000,000 loops each)\n"
     ]
    }
   ],
   "source": [
    "%%timeit\n",
    "arr = []\n",
    "for x in range(10):\n",
    "    arr.append(x)"
   ]
  },
  {
   "cell_type": "code",
   "execution_count": 68,
   "id": "52991b6c826fd124",
   "metadata": {
    "collapsed": false
   },
   "outputs": [
    {
     "name": "stdout",
     "output_type": "stream",
     "text": [
      "217 ns ± 1.53 ns per loop (mean ± std. dev. of 7 runs, 1,000,000 loops each)\n"
     ]
    }
   ],
   "source": [
    "%%timeit\n",
    "# comprehension\n",
    "arr = [x for x in range(10)]"
   ]
  },
  {
   "cell_type": "code",
   "execution_count": 71,
   "id": "be7cdcb1110e453c",
   "metadata": {
    "collapsed": false
   },
   "outputs": [
    {
     "name": "stdout",
     "output_type": "stream",
     "text": [
      "170 ns ± 2.96 ns per loop (mean ± std. dev. of 7 runs, 10,000,000 loops each)\n"
     ]
    }
   ],
   "source": [
    "%%timeit\n",
    "a = 0\n",
    "for x in range(10):\n",
    "    a += x"
   ]
  },
  {
   "cell_type": "code",
   "execution_count": 70,
   "id": "63f1a9c4d3cf76b3",
   "metadata": {
    "collapsed": false
   },
   "outputs": [
    {
     "name": "stdout",
     "output_type": "stream",
     "text": [
      "289 ns ± 10.6 ns per loop (mean ± std. dev. of 7 runs, 1,000,000 loops each)\n"
     ]
    }
   ],
   "source": [
    "%%timeit\n",
    "\n",
    "arr = sum([1 for x in range(10)])\n"
   ]
  },
  {
   "cell_type": "code",
   "execution_count": 73,
   "id": "aae8ad24-2c43-4e10-99fa-1832360e4367",
   "metadata": {},
   "outputs": [
    {
     "data": {
      "text/plain": [
       "[0, 1, 2, 3, 4, 5, 6, 7, 8, 9]"
      ]
     },
     "execution_count": 73,
     "metadata": {},
     "output_type": "execute_result"
    }
   ],
   "source": [
    "def foo(x):\n",
    "    return x + x - x\n",
    "    \n",
    "[foo(x) for x in range(10)]"
   ]
  },
  {
   "cell_type": "code",
   "execution_count": null,
   "id": "35c15bbce8a3b161",
   "metadata": {
    "collapsed": false
   },
   "outputs": [],
   "source": [
    "# but it is still very popular and used - Python is not much about the speed but about readability .."
   ]
  },
  {
   "cell_type": "code",
   "execution_count": 78,
   "id": "db051795-e8ee-49a3-be03-3c7be505a56f",
   "metadata": {},
   "outputs": [
    {
     "name": "stdout",
     "output_type": "stream",
     "text": [
      "0, 1, 2, 3, 0, 1, 2, 3, 0, 1, 2, 3, "
     ]
    }
   ],
   "source": [
    "for x in range(3):\n",
    "    for y in range(4):\n",
    "        print(y, end=\", \")"
   ]
  },
  {
   "cell_type": "code",
   "execution_count": 76,
   "id": "d4e3827f-8247-4f22-bad3-68096e6a09f3",
   "metadata": {},
   "outputs": [
    {
     "data": {
      "text/plain": [
       "[0, 1, 2, 3, 0, 1, 2, 3, 0, 1, 2, 3]"
      ]
     },
     "execution_count": 76,
     "metadata": {},
     "output_type": "execute_result"
    }
   ],
   "source": [
    "[y for x in range(3) for y in range(4)]"
   ]
  },
  {
   "cell_type": "code",
   "execution_count": 80,
   "id": "8a1b05cc-950b-4c8b-a512-b0dae5d2c98d",
   "metadata": {},
   "outputs": [
    {
     "data": {
      "text/plain": [
       "[(0, 0), (1, 1), (2, 2)]"
      ]
     },
     "execution_count": 80,
     "metadata": {},
     "output_type": "execute_result"
    }
   ],
   "source": [
    "[(x, y) for x, y in zip(range(3), range(4))]"
   ]
  },
  {
   "cell_type": "code",
   "execution_count": 87,
   "id": "3f17496a-f998-4f38-92a5-3756022f96f0",
   "metadata": {},
   "outputs": [
    {
     "data": {
      "text/plain": [
       "((1, 0),\n",
       " (2, 1),\n",
       " (3, 2),\n",
       " (4, 3),\n",
       " (5, 4),\n",
       " (6, 5),\n",
       " (7, 6),\n",
       " (8, 7),\n",
       " (9, 8),\n",
       " (10, 9))"
      ]
     },
     "execution_count": 87,
     "metadata": {},
     "output_type": "execute_result"
    }
   ],
   "source": [
    "tuple(enumerate(range(10), start=1))"
   ]
  },
  {
   "cell_type": "code",
   "execution_count": 82,
   "id": "6934eb11-7c8c-4f74-b4ab-4c1572b8f148",
   "metadata": {},
   "outputs": [
    {
     "data": {
      "text/plain": [
       "[(1, 2), (2, 3), (3, 4)]"
      ]
     },
     "execution_count": 82,
     "metadata": {},
     "output_type": "execute_result"
    }
   ],
   "source": [
    "[(x, y) for x, y in [(1,2), (2,3), (3,4)]]"
   ]
  },
  {
   "cell_type": "code",
   "execution_count": 89,
   "id": "0a7090be-d3d9-4d56-91f9-63c3677aa368",
   "metadata": {},
   "outputs": [
    {
     "data": {
      "text/plain": [
       "{0: 0, 2: 4, 4: 16, 6: 36, 8: 64}"
      ]
     },
     "execution_count": 89,
     "metadata": {},
     "output_type": "execute_result"
    }
   ],
   "source": [
    "d = {}\n",
    "for x in range(10):\n",
    "    if x % 2 == 0:\n",
    "        d[x] = x**2\n",
    "d"
   ]
  },
  {
   "cell_type": "code",
   "execution_count": 88,
   "id": "afba475ec042450c",
   "metadata": {
    "collapsed": false,
    "scrolled": true
   },
   "outputs": [
    {
     "data": {
      "text/plain": [
       "{0: 0, 2: 4, 4: 16, 6: 36, 8: 64}"
      ]
     },
     "execution_count": 88,
     "metadata": {},
     "output_type": "execute_result"
    }
   ],
   "source": [
    "{x: x**2 for x in range(10) if x % 2 == 0} # {0: 0, 2: 4, 4: 16, 6: 36, 8: 64}"
   ]
  },
  {
   "cell_type": "code",
   "execution_count": 90,
   "id": "250e79ea-54ee-43a9-b526-01eeb231acc8",
   "metadata": {
    "scrolled": true
   },
   "outputs": [
    {
     "data": {
      "text/plain": [
       "{0: 0, 2: 4, 4: 16, 6: 36, 8: 64}"
      ]
     },
     "execution_count": 90,
     "metadata": {},
     "output_type": "execute_result"
    }
   ],
   "source": [
    "d"
   ]
  },
  {
   "cell_type": "code",
   "execution_count": 91,
   "id": "dab1e0bb-ed20-42c7-b99c-afd90f3ebcb9",
   "metadata": {},
   "outputs": [],
   "source": [
    "d[0] = \"ahoj\""
   ]
  },
  {
   "cell_type": "code",
   "execution_count": 92,
   "id": "9966063a-0b69-464b-b858-dcfe421220ca",
   "metadata": {},
   "outputs": [
    {
     "data": {
      "text/plain": [
       "{0: 'ahoj', 2: 4, 4: 16, 6: 36, 8: 64}"
      ]
     },
     "execution_count": 92,
     "metadata": {},
     "output_type": "execute_result"
    }
   ],
   "source": [
    "d"
   ]
  },
  {
   "cell_type": "markdown",
   "id": "fd08d0585afb6d19",
   "metadata": {
    "collapsed": false
   },
   "source": [
    " [ ] Functions - use data types, otherwise the default will be used"
   ]
  },
  {
   "cell_type": "code",
   "execution_count": 93,
   "id": "60255b4b08efba14",
   "metadata": {
    "collapsed": false
   },
   "outputs": [
    {
     "name": "stdout",
     "output_type": "stream",
     "text": [
      "bar\n"
     ]
    }
   ],
   "source": [
    "def foo(bar):\n",
    "    print(bar)\n",
    "    \n",
    "foo(\"bar\")"
   ]
  },
  {
   "cell_type": "code",
   "execution_count": null,
   "id": "cc5bef138b881305",
   "metadata": {
    "collapsed": false
   },
   "outputs": [],
   "source": [
    "!mypy mypy_playground.py"
   ]
  },
  {
   "cell_type": "code",
   "execution_count": 97,
   "id": "1b4b64a53b2db588",
   "metadata": {
    "collapsed": false
   },
   "outputs": [
    {
     "name": "stdout",
     "output_type": "stream",
     "text": [
      "bar\n"
     ]
    },
    {
     "data": {
      "text/plain": [
       "42"
      ]
     },
     "execution_count": 97,
     "metadata": {},
     "output_type": "execute_result"
    }
   ],
   "source": [
    "from typing import Optional\n",
    "def foo(bar: int) -> Optional[str]:\n",
    "    \"\"\"\n",
    "    \"\"\"\n",
    "    print(bar)\n",
    "    return 42\n",
    "    \n",
    "foo(\"bar\")"
   ]
  },
  {
   "cell_type": "code",
   "execution_count": null,
   "id": "fd156ef2f253f6c",
   "metadata": {
    "collapsed": false
   },
   "outputs": [],
   "source": [
    "# parameters + default arguments\n",
    "def foo(bar: str, baz: int, delimiter=\" \") -> None:\n",
    "    print((bar + delimiter) * baz)\n",
    "\n",
    "# arguments\n",
    "foo(\"bar\", 3)\n",
    "# keyword arguments\n",
    "foo(bar=\"bar\", baz=4)"
   ]
  },
  {
   "cell_type": "code",
   "execution_count": null,
   "id": "60e6f8a37db9fc10",
   "metadata": {
    "collapsed": false
   },
   "outputs": [],
   "source": [
    "# anonymous functions\n",
    "plus = lambda x, y: x + y\n",
    "print(plus(1, 3))\n"
   ]
  },
  {
   "cell_type": "code",
   "execution_count": null,
   "id": "9bd72628604c18a2",
   "metadata": {
    "collapsed": false
   },
   "outputs": [],
   "source": [
    "# unroll the list into the function\n",
    "my_list = [\"a\", \"b\", \"c\"]\n",
    "def foo(a, b, c):\n",
    "    print(a, b, c)\n",
    "# too long    \n",
    "foo(my_list[0], my_list[1], my_list[2])\n",
    "# python way\n",
    "foo(*my_list)\n",
    "\n",
    "# same can be done with dict\n",
    "my_dict = {\"a\": \"a\", \"b\": \"b\", \"c\": \"c\"}\n",
    "foo(**my_dict)\n",
    "# but you need to be careful with the keys (they need to match with signature of function)"
   ]
  },
  {
   "cell_type": "code",
   "execution_count": null,
   "id": "5f95c3ba49eff623",
   "metadata": {
    "collapsed": false
   },
   "outputs": [],
   "source": [
    "# it works also for the output\n",
    "def foo():\n",
    "    return \"a\", \"b\", \"c\", \"e\", \"f\", \"g\"\n",
    "\n",
    "first_item, *rest, last_item = foo()\n",
    "print(first_item)\n",
    "print(rest)\n",
    "print(last_item)"
   ]
  },
  {
   "cell_type": "code",
   "execution_count": null,
   "id": "41e79433c9420179",
   "metadata": {
    "collapsed": false
   },
   "outputs": [],
   "source": [
    "# can I use just list, dict at parameter? You can but you loose some kind of verbosity in certain situation ...\n",
    "def main() -> int:\n",
    "    print(\"Hello world\")\n",
    "    return 0\n",
    "\n",
    "args = [\"my_arg1\", \"my_arg2\"]\n",
    "kwargs = {\"my_kwarg1\": \"my_kwarg1\", \"my_kwarg2\": \"my_kwarg2\"}\n",
    "\n",
    "def main(args: list, kwargs: dict) -> int:\n",
    "    print(f\"{args=}\")\n",
    "    print(f\"{kwargs=}\")\n",
    "    return 0\n",
    "\n",
    "main(args, kwargs)"
   ]
  },
  {
   "cell_type": "code",
   "execution_count": null,
   "id": "cad17a5b61d40447",
   "metadata": {
    "collapsed": false
   },
   "outputs": [],
   "source": [
    "def main(*args: tuple, **kwargs: dict) -> int:\n",
    "    print(f\"{args=}\")\n",
    "    print(f\"{kwargs=}\")\n",
    "    return 0\n",
    "\n",
    "main(\"my_arg1\", \"my_arg2\", my_kwarg1=\"my_kwarg1\", my_kwarg2=\"my_kwarg2\")"
   ]
  },
  {
   "cell_type": "code",
   "execution_count": null,
   "id": "6796bc1a404ac51b",
   "metadata": {
    "collapsed": false
   },
   "outputs": [],
   "source": [
    "def sub_main(my_arg2, /, *, my_kwarg2):\n",
    "    print(f\"{my_arg2=}\")\n",
    "    print(f\"{my_kwarg2=}\")\n",
    "\n",
    "def main(expected, *args: tuple, my_kwarg1, **kwargs: dict) -> int:\n",
    "    # I will pick up the expected, my_kwarg1 and pass the rest to another function\n",
    "    print(f\"{expected=}\")\n",
    "    print(f\"{my_kwarg1=}\")\n",
    "    print(f\"{args=}\")\n",
    "    print(f\"{kwargs=}\")\n",
    "    print()\n",
    "    sub_main(*args, **kwargs)\n",
    "    return 0\n",
    "\n",
    "main(\"my_arg1\", \"my_arg2\", my_kwarg1=\"my_kwarg1\", my_kwarg2=\"my_kwarg2\")"
   ]
  },
  {
   "cell_type": "code",
   "execution_count": null,
   "id": "4d7b4735bf11ff42",
   "metadata": {
    "collapsed": false
   },
   "outputs": [],
   "source": [
    "# it is usually used with argparse (argument from console)\n",
    "\n",
    "parser = argparse.ArgumentParser()\n",
    "parser.add_argument(\"--n_batches\", type=int, default=3)\n",
    "args = parser.parse_args()\n",
    "start_time = time.time()\n",
    "...\n",
    "print(f\"--- {time.time() - start_time: .2f} seconds ---\")"
   ]
  },
  {
   "cell_type": "code",
   "execution_count": null,
   "id": "53b88d2e56089815",
   "metadata": {
    "collapsed": false
   },
   "outputs": [],
   "source": []
  },
  {
   "cell_type": "code",
   "execution_count": null,
   "id": "5f903d85da19d8b7",
   "metadata": {
    "collapsed": false
   },
   "outputs": [],
   "source": [
    "# based on the previous examples, here is small task\n",
    "# create a function which will take the operation and variable number of arguments - then perform the operation on that arguments\n",
    "\n",
    "print(your_function(sum, 1, 2, 3))\n",
    "print(your_function(lambda x,y: x+y, 1, 2, 3, 10))\n",
    "print(your_function(lambda x,y: x-y, 1, 2, 3, 10))\n",
    "\n",
    "\n",
    "print(your_function(lambda x,y: x-y, 1, 2, 3, 10, \"11\"))\n",
    "print(your_function(lambda x,y: x-y, 1, 2, 3, 10, \"b\"))"
   ]
  },
  {
   "cell_type": "code",
   "execution_count": null,
   "id": "1ca6cc132493d45a",
   "metadata": {
    "collapsed": false
   },
   "outputs": [],
   "source": []
  },
  {
   "cell_type": "code",
   "execution_count": null,
   "id": "b17b53b29cb8ed7e",
   "metadata": {
    "collapsed": false
   },
   "outputs": [],
   "source": [
    "# site note - some methods return None\n",
    "a = {\"a\": 1, \"b\": 2}.update({\"a\": 3, \"b\": 4})\n",
    "print(a)"
   ]
  },
  {
   "cell_type": "code",
   "execution_count": null,
   "id": "6ed4373f0ffcf84e",
   "metadata": {
    "collapsed": false
   },
   "outputs": [],
   "source": [
    "# walrus operator\n",
    "(a := {\"a\": 1, \"b\": 2}).update({\"a\": 3, \"b\": 4})\n",
    "print(a)"
   ]
  },
  {
   "cell_type": "code",
   "execution_count": null,
   "id": "5c85549d0591a93f",
   "metadata": {
    "collapsed": false
   },
   "outputs": [],
   "source": []
  }
 ],
 "metadata": {
  "kernelspec": {
   "display_name": "Python 3 (ipykernel)",
   "language": "python",
   "name": "python3"
  },
  "language_info": {
   "codemirror_mode": {
    "name": "ipython",
    "version": 3
   },
   "file_extension": ".py",
   "mimetype": "text/x-python",
   "name": "python",
   "nbconvert_exporter": "python",
   "pygments_lexer": "ipython3",
   "version": "3.12.6"
  }
 },
 "nbformat": 4,
 "nbformat_minor": 5
}
