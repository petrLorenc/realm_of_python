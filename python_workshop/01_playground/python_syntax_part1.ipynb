{
 "cells": [
  {
   "cell_type": "markdown",
   "source": [
    "# Python \n",
    "\n",
    "Let's start with a basics as we do not know if we will use Python for a long time or just for a short time.\n",
    "\n",
    "![img](imgs/img.png)\n",
    "\n",
    "So you want to know more about Python? Let's start with CPython.\n",
    "\n",
    "## CPython?\n",
    "CPython is the original Python implementation. It is the implementation you download from Python.org. People call it CPython to distinguish it from other, later, Python implementations, and to distinguish the implementation of the language engine from the Python programming language itself. You need to keep Python-the-language separate from whatever runs the Python code.\n",
    "\n",
    "CPython happens to be implemented in C. That is just an implementation detail, really. CPython compiles your Python code into bytecode (transparently) and interprets that bytecode in a evaluation loop. CPython is also the first to implement new features; Python-the-language development uses CPython as the base; other implementations follow.\n",
    "\n",
    "### What about others interpreters?\n",
    "Jython, IronPython and PyPy are the current \"other\" implementations of the Python programming language; these are implemented in Java, C# and RPython (a subset of Python), respectively. Jython compiles your Python code to Java bytecode, so your Python code can run on the JVM. IronPython lets you run Python on the Microsoft CLR. And PyPy, being implemented in (a subset of) Python, lets you run Python code faster than CPython, which rightly should blow your mind. :-)\n",
    "\n",
    "Actually compiling to C\n",
    "So CPython does not translate your Python code to C by itself. Instead, it runs an interpreter loop. There is a project that does translate Python-ish code to C, and that is called Cython. Cython adds a few extensions to the Python language, and lets you compile your code to C extensions, code that plugs into the CPython interpreter.\n",
    "\n",
    "Taken from https://stackoverflow.com/a/67915291.\n",
    "Reference code https://hg.python.org/cpython/file/3.3/Python/ceval.c#l790 + https://hg.python.org/cpython/file/3.3/Python/ceval.c#l1350 (old version). \n",
    "\n",
    "At a high level, the interpreter consists of a loop that iterates over the bytecode instructions, executing each of them via a switch statement that has a case implementing each opcode. This switch statement is generated from the instruction definitions in Python/bytecodes.c which are written in a DSL developed for this purpose.\n",
    "\n",
    "Reference https://github.com/python/cpython/blob/main/InternalDocs/interpreter.md.\n"
   ],
   "metadata": {
    "collapsed": false
   },
   "id": "902f46566b93f7c8"
  },
  {
   "cell_type": "code",
   "execution_count": null,
   "outputs": [],
   "source": [
    "def f(x, y):                # line 1\n",
    "    print(\"Hello\")           # line 2\n",
    "    if x:                    # line 3\n",
    "        y += x                # line 4\n",
    "    print(x, y)              # line 5\n",
    "    return x+y               # line 6 \n",
    "\n",
    "# Disassembler of Python byte code into mnemonics.\n",
    "import dis                  \n",
    "dis.dis(f)  "
   ],
   "metadata": {
    "collapsed": false
   },
   "id": "ede681c2cde534ba"
  },
  {
   "cell_type": "code",
   "execution_count": null,
   "outputs": [],
   "source": [
    "!python -m py_compile bytecode_playground.py   \n",
    "!cat __pycache__/bytecode_playground.cpython-312.pyc\n"
   ],
   "metadata": {
    "collapsed": false
   },
   "id": "2f85e86d6fafbd2d"
  },
  {
   "cell_type": "markdown",
   "source": [
    "![img](https://i.sstatic.net/sGCwy.png!)\n"
   ],
   "metadata": {
    "collapsed": false
   },
   "id": "4f58c36fa14d3cca"
  },
  {
   "cell_type": "markdown",
   "source": [
    "# Python Syntax\n",
    "\n",
    "- [ ] PEP 8 (Style Guide for Python Code)\n",
    "- [ ] Built-in functions (print, input, len, type, range, open, etc.)\n",
    "- [ ] Data types (int, float, str, bool, list, tuple, dict, set)\n",
    "- [ ] Control Flow (if, elif, else, for, while, break, continue, pass)\n",
    "- [ ] Exception Handling (try, except, else, finally, raise) - by specific with exception\n",
    "- [ ] Comprehensions\n",
    "- [ ] Functions - data types\n",
    "\n",
    "## TLDR: Everything is an object!!\n",
    "\n",
    "## Dive into more details (TLDR: use common sense and some tool for formatting)\n",
    "https://peps.python.org/pep-0008/ \n",
    "\n",
    "* Use 4 spaces per indentation level.\n",
    "* Limit all lines to a maximum of 79 characters.\n",
    "* Surround top-level function and class definitions with two blank lines.\n",
    "* Immediately before the open parenthesis that starts the argument list of a function call:\n",
    "* ...\n",
    "* Never use the characters ‘l’ (lowercase letter el), ‘O’ (uppercase letter oh), or ‘I’ (uppercase letter eye) as single character variable names.\n",
    "* Function names should be lowercase, with words separated by underscores as necessary to improve readability. (snake_case)\n",
    "* Always use self for the first argument to instance methods.\n",
    "\n",
    "...\n",
    "\n",
    "use flake8, black or [ruff](https://github.com/astral-sh/ruff)\n",
    "\n",
    "```\n",
    "uvx ruff check bytecode_playground.py \n",
    "```\n"
   ],
   "metadata": {
    "collapsed": false
   },
   "id": "867e6e9ab7595981"
  },
  {
   "cell_type": "code",
   "execution_count": null,
   "outputs": [],
   "source": [
    "!uvx ruff check bytecode_playground.py "
   ],
   "metadata": {
    "collapsed": false
   },
   "id": "69aaeac1804b47e0"
  },
  {
   "cell_type": "code",
   "execution_count": null,
   "outputs": [],
   "source": [
    "import this"
   ],
   "metadata": {
    "collapsed": false
   },
   "id": "30ed7bfda5501510"
  },
  {
   "cell_type": "markdown",
   "source": [
    "- [ ] Built-in functions (print, input, len, type, range, open, etc.)"
   ],
   "metadata": {
    "collapsed": false
   },
   "id": "cff57e3d09c20977"
  },
  {
   "cell_type": "code",
   "execution_count": null,
   "outputs": [],
   "source": [
    "# helper functions\n",
    "dir(), help(), locals(), globals(), ..."
   ],
   "metadata": {
    "collapsed": false
   },
   "id": "938d2df83b85c50f"
  },
  {
   "cell_type": "code",
   "execution_count": null,
   "outputs": [],
   "source": [
    "# built-in functions - https://docs.python.org/3/library/functions.html\n",
    "print(), list(), set(), int(), ...\n",
    "# reserved keywords - https://www.programiz.com/python-programming/keyword-list\n",
    "from, as, assert, if, while, with,  ...\n",
    "# rest is user-defined\n",
    "..."
   ],
   "metadata": {
    "collapsed": false
   },
   "id": "36ca64e55c69ca36"
  },
  {
   "cell_type": "markdown",
   "source": [
    "- [ ] Data types (int, float, str, bool, list, tuple, dict, set)\n"
   ],
   "metadata": {
    "collapsed": false
   },
   "id": "b205554432da5803"
  },
  {
   "cell_type": "code",
   "execution_count": null,
   "id": "initial_id",
   "metadata": {
    "collapsed": true
   },
   "outputs": [],
   "source": [
    "arr = []\n",
    "len(\"Hello world\") # Length of a string\n",
    "arr.append(\"new string\") # Add new item to end of list\n",
    "arr.sort() # Sort a list\n",
    "print(arr)"
   ]
  },
  {
   "cell_type": "code",
   "execution_count": null,
   "outputs": [],
   "source": [
    "dir([])\n",
    "dir(list)\n",
    "dir(arr)"
   ],
   "metadata": {
    "collapsed": false
   },
   "id": "8b5362b8b703b63a"
  },
  {
   "cell_type": "code",
   "execution_count": null,
   "outputs": [],
   "source": [
    "int(), float(), str(), bool(), list(), tuple(), dict(), set() # can be used for type casting\n",
    "# usually you define it more like\n",
    "0, 1.1, \"\", True, [], (), {}, set() # set is unlucky because the same character is used for dict"
   ],
   "metadata": {
    "collapsed": false
   },
   "id": "48fc04968357a7f1"
  },
  {
   "cell_type": "code",
   "execution_count": null,
   "outputs": [],
   "source": [
    "# there is usually some operation defined over these types - you can use them or play with them :)"
   ],
   "metadata": {
    "collapsed": false
   },
   "id": "5002e3031e0de53c"
  },
  {
   "cell_type": "code",
   "execution_count": null,
   "outputs": [],
   "source": [
    "# here is clear that it is set and not dict\n",
    "set_a = {1, 2, 3}\n",
    "set_b = {2, 3, 4}\n",
    "set_a & set_b"
   ],
   "metadata": {
    "collapsed": false
   },
   "id": "bebcb1b1ca0a76b7"
  },
  {
   "cell_type": "code",
   "execution_count": null,
   "outputs": [],
   "source": [
    "set_a.intersection(set_b)"
   ],
   "metadata": {
    "collapsed": false
   },
   "id": "3b46aa903663f58a"
  },
  {
   "cell_type": "code",
   "execution_count": null,
   "outputs": [],
   "source": [
    "\"__and__\" in dir(set)"
   ],
   "metadata": {
    "collapsed": false
   },
   "id": "14bd91bc83fe3878"
  },
  {
   "cell_type": "code",
   "execution_count": null,
   "outputs": [],
   "source": [
    "class MySet(set):\n",
    "    def __and__(self, other):\n",
    "        return super().__and__(other) # Call the parent class __and__ method\n",
    "\n",
    "MySet([1, 2, 3]) & MySet([2, 3, 4])"
   ],
   "metadata": {
    "collapsed": false
   },
   "id": "e60ae1112570fde2"
  },
  {
   "cell_type": "code",
   "execution_count": null,
   "outputs": [],
   "source": [
    "class MySet(set):\n",
    "    def __and__(self, other):\n",
    "        return \"Bazinga\"\n",
    "\n",
    "MySet([1, 2, 3]) & MySet([2, 3, 4])"
   ],
   "metadata": {
    "collapsed": false
   },
   "id": "45b1f3e09288c2c1"
  },
  {
   "cell_type": "code",
   "execution_count": null,
   "outputs": [],
   "source": [
    "# list - mutable\n",
    "# tuple - immutable\n",
    "# both support indexing, slicing, concatenation, repetition and striding\n",
    "\n",
    "list = [1, 2, 3, 4, 5, 6, 7, 8, 9, 10, 11, 12, 13, 14, 15, 16, 17, 18, 19, 20]\n",
    "print(list[2])\n",
    "print(list[2:5])\n",
    "print(list[2:5:2])\n",
    "print(list[5:2:-1])\n",
    "print(list[::-1])\n",
    "\n",
    "# dict - mutable\n",
    "# set - mutable\n"
   ],
   "metadata": {
    "collapsed": false
   },
   "id": "9375fcccb1479c7b"
  },
  {
   "cell_type": "code",
   "execution_count": null,
   "outputs": [],
   "source": [
    "#https://pythontutor.com/render.html#mode=display\n",
    "\n",
    "from pprint import pprint\n",
    "\n",
    "\n",
    "city = {\"name\": \"New York\", \"country\": \"USA\"}\n",
    "person_a = {\"name\": \"John\", \"age\": 30, \"city\": city}\n",
    "person_b = {\"name\": \"Petr\", \"age\": 30, \"city\": city}\n",
    "people = [person_a, person_b]\n",
    "pprint(people)\n",
    "\n",
    "print()\n",
    "people[0][\"city\"][\"name\"] = \"Los Angeles\"\n",
    "pprint(people)"
   ],
   "metadata": {
    "collapsed": false
   },
   "id": "3721c59f3ee5ff6c"
  },
  {
   "cell_type": "code",
   "execution_count": null,
   "outputs": [],
   "source": [
    "#https://pythontutor.com/render.html#mode=display\n",
    "\n",
    "from pprint import pprint\n",
    "\n",
    "\n",
    "city = {\"name\": \"New York\", \"country\": \"USA\"}\n",
    "person_a = {\"name\": \"John\", \"age\": 30, \"city\": city.copy()}\n",
    "person_b = {\"name\": \"Petr\", \"age\": 30, \"city\": city.copy()}\n",
    "people = [person_a, person_b]\n",
    "pprint(people)\n",
    "\n",
    "print()\n",
    "people[0][\"city\"][\"name\"] = \"Los Angeles\"\n",
    "pprint(people)"
   ],
   "metadata": {
    "collapsed": false
   },
   "id": "6ea65e5b13f17df"
  },
  {
   "cell_type": "code",
   "execution_count": null,
   "outputs": [],
   "source": [
    "#https://pythontutor.com/render.html#mode=display\n",
    "\n",
    "from pprint import pprint\n",
    "\n",
    "state = {\"name\": \"New York\", \"country\": \"USA\"}\n",
    "city = {\"name\": \"New York City\", \"state\": state}\n",
    "person_a = {\"name\": \"John\", \"age\": 30, \"city\": city.copy()}\n",
    "person_b = {\"name\": \"Petr\", \"age\": 30, \"city\": city.copy()}\n",
    "people = [person_a, person_b]\n",
    "pprint(people)\n",
    "\n",
    "print()\n",
    "people[0][\"city\"][\"name\"] = \"Los Angeles\"\n",
    "people[0][\"city\"][\"state\"][\"name\"] = \"California\"\n",
    "pprint(people)"
   ],
   "metadata": {
    "collapsed": false
   },
   "id": "d47044ed6da27764"
  },
  {
   "cell_type": "code",
   "execution_count": null,
   "outputs": [],
   "source": [
    "import copy\n",
    "#https://pythontutor.com/render.html#mode=display\n",
    "\n",
    "from pprint import pprint\n",
    "\n",
    "state = {\"name\": \"New York\", \"country\": \"USA\"}\n",
    "city = {\"name\": \"New York City\", \"state\": state}\n",
    "person_a = {\"name\": \"John\", \"age\": 30, \"city\": copy.deepcopy(city)}\n",
    "person_b = {\"name\": \"Petr\", \"age\": 30, \"city\": copy.deepcopy(city)}\n",
    "people = [person_a, person_b]\n",
    "pprint(people)\n",
    "\n",
    "print()\n",
    "people[0][\"city\"][\"name\"] = \"Los Angeles\"\n",
    "people[0][\"city\"][\"state\"][\"name\"] = \"California\"\n",
    "pprint(people)"
   ],
   "metadata": {
    "collapsed": false
   },
   "id": "76d68f75ce244bcd"
  },
  {
   "cell_type": "markdown",
   "source": [
    "- [ ] Control Flow (if, elif, else, for, while, break, continue, pass)\n"
   ],
   "metadata": {
    "collapsed": false
   },
   "id": "35494ab826fc5838"
  },
  {
   "cell_type": "code",
   "execution_count": null,
   "outputs": [],
   "source": [
    "if True:\n",
    "    print(\"True\")\n",
    "else:\n",
    "    print(\"False\")"
   ],
   "metadata": {
    "collapsed": false
   },
   "id": "80052164aec61428"
  },
  {
   "cell_type": "code",
   "execution_count": null,
   "outputs": [],
   "source": [
    "variable = \"key\"\n",
    "match variable:\n",
    "    case \"value\":\n",
    "        print(\"Some value\")\n",
    "    case \"key\":\n",
    "        print(\"Some key\")\n",
    "    case _:\n",
    "        print(\"Not a key and not even value\")"
   ],
   "metadata": {
    "collapsed": false
   },
   "id": "d754fcff177e5180"
  },
  {
   "cell_type": "code",
   "execution_count": null,
   "outputs": [],
   "source": [
    "if condition1 or condition2 # ||\n",
    "if condition1 and condition2 # &&\n",
    "if not condition ## !condition"
   ],
   "metadata": {
    "collapsed": false
   },
   "id": "b7a6e6d2259d7c8f"
  },
  {
   "cell_type": "code",
   "execution_count": null,
   "outputs": [],
   "source": [
    "my_variable = 2 or 3\n",
    "print(my_variable)\n",
    "my_variable = 2 and 3\n",
    "print(my_variable)"
   ],
   "metadata": {
    "collapsed": false
   },
   "id": "9f9b0ae97351e8c6"
  },
  {
   "cell_type": "code",
   "execution_count": null,
   "outputs": [],
   "source": [
    "for i in range(5):\n",
    "    print(i)\n",
    "else:\n",
    "    print(\"Not in the list\")"
   ],
   "metadata": {
    "collapsed": false
   },
   "id": "e17b744335e8d4bf"
  },
  {
   "cell_type": "code",
   "execution_count": null,
   "outputs": [],
   "source": [
    "for i in range(5):\n",
    "    print(i)\n",
    "    if i == 3:\n",
    "        print(\"In the list\")\n",
    "        break\n",
    "else:\n",
    "    print(\"Not in the list\")"
   ],
   "metadata": {
    "collapsed": false
   },
   "id": "794e0f5fbf0ff339"
  },
  {
   "cell_type": "code",
   "execution_count": null,
   "outputs": [],
   "source": [
    "for k, v in enumerate([\"a\", \"b\", \"c\"]):\n",
    "    print(k, v)"
   ],
   "metadata": {
    "collapsed": false
   },
   "id": "3e0ef463f569e836"
  },
  {
   "cell_type": "code",
   "execution_count": null,
   "outputs": [],
   "source": [
    "array_a = [\"a\", \"b\", \"c\"]\n",
    "array_b = [\"d\", \"e\", \"f\", \"g\", \"h\"]\n",
    "for a, b in zip(array_a, array_b):\n",
    "    print(a, b)"
   ],
   "metadata": {
    "collapsed": false
   },
   "id": "83820b544c47ab76"
  },
  {
   "cell_type": "markdown",
   "source": [],
   "metadata": {
    "collapsed": false
   },
   "id": "297bba62481fe31b"
  },
  {
   "cell_type": "markdown",
   "source": [
    "- [ ] Exception Handling (try, except, else, finally, raise)\n"
   ],
   "metadata": {
    "collapsed": false
   },
   "id": "1e7c6bb01bef06e5"
  },
  {
   "cell_type": "code",
   "execution_count": null,
   "outputs": [],
   "source": [
    "try:\n",
    "    # 0/0\n",
    "    1/1\n",
    "except:\n",
    "    print(\"Something is wrong\")\n",
    "else:\n",
    "    print(\"Nothing is wrong\")\n",
    "finally:\n",
    "    print(\"Will say it anyway\")"
   ],
   "metadata": {
    "collapsed": false
   },
   "id": "12a71331c1dafeee"
  },
  {
   "cell_type": "code",
   "execution_count": null,
   "outputs": [],
   "source": [
    "try:\n",
    "    raise TypeError(\"\") # first error cause not continuing\n",
    "    raise NotImplementedError(\"\")\n",
    "except (ZeroDivisionError , TypeError) as e:\n",
    "    print(\"Something is wrong\")\n",
    "else:\n",
    "    print(\"Nothing is wrong\")\n",
    "finally:\n",
    "    # good place to close connection\n",
    "    print(\"Will say it anyway\")"
   ],
   "metadata": {
    "collapsed": false
   },
   "id": "fff4830f6b8aa10"
  },
  {
   "cell_type": "markdown",
   "source": [
    "- [ ] Comprehensions"
   ],
   "metadata": {
    "collapsed": false
   },
   "id": "eddb6409a8ec882b"
  },
  {
   "cell_type": "markdown",
   "source": [
    "List comprehension is basically just a \"syntactic sugar\" for the regular for loop. In this case the reason that it performs better is because it doesn't need to load the append attribute of the list and call it as a function at each iteration. In other words and in general, list comprehensions perform faster because suspending and resuming a function's frame, or multiple functions in other cases, is slower than creating a list on demand."
   ],
   "metadata": {
    "collapsed": false
   },
   "id": "5e634c3c08a58012"
  },
  {
   "cell_type": "code",
   "execution_count": null,
   "outputs": [],
   "source": [
    "%%timeit\n",
    "arr = []\n",
    "for x in range(10):\n",
    "    arr.append(x)"
   ],
   "metadata": {
    "collapsed": false
   },
   "id": "7b08d79bf6bbb23a"
  },
  {
   "cell_type": "code",
   "execution_count": null,
   "outputs": [],
   "source": [
    "%%timeit\n",
    "# comprehension\n",
    "arr = [x for x in range(10)]"
   ],
   "metadata": {
    "collapsed": false
   },
   "id": "52991b6c826fd124"
  },
  {
   "cell_type": "code",
   "execution_count": null,
   "outputs": [],
   "source": [
    "%%timeit\n",
    "a = 0\n",
    "for x in range(10):\n",
    "    a += 1"
   ],
   "metadata": {
    "collapsed": false
   },
   "id": "be7cdcb1110e453c"
  },
  {
   "cell_type": "code",
   "execution_count": null,
   "outputs": [],
   "source": [
    "%%timeit\n",
    "\n",
    "arr = sum([1 for x in range(10)])\n"
   ],
   "metadata": {
    "collapsed": false
   },
   "id": "63f1a9c4d3cf76b3"
  },
  {
   "cell_type": "code",
   "execution_count": null,
   "outputs": [],
   "source": [
    "# but it is still very popular and used - Python is not much about the speed but about readability .."
   ],
   "metadata": {
    "collapsed": false
   },
   "id": "35c15bbce8a3b161"
  },
  {
   "cell_type": "code",
   "execution_count": null,
   "outputs": [],
   "source": [
    "{x: x**2 for x in range(10) if x % 2 == 0} # {0: 0, 2: 4, 4: 16, 6: 36, 8: 64}"
   ],
   "metadata": {
    "collapsed": false
   },
   "id": "afba475ec042450c"
  },
  {
   "cell_type": "markdown",
   "source": [
    " [ ] Functions - use data types, otherwise the default will be used"
   ],
   "metadata": {
    "collapsed": false
   },
   "id": "fd08d0585afb6d19"
  },
  {
   "cell_type": "code",
   "execution_count": null,
   "outputs": [],
   "source": [
    "def foo(bar):\n",
    "    print(bar)\n",
    "    \n",
    "foo(\"bar\")"
   ],
   "metadata": {
    "collapsed": false
   },
   "id": "60255b4b08efba14"
  },
  {
   "cell_type": "code",
   "execution_count": null,
   "outputs": [],
   "source": [
    "!mypy mypy_playground.py"
   ],
   "metadata": {
    "collapsed": false
   },
   "id": "cc5bef138b881305"
  },
  {
   "cell_type": "code",
   "execution_count": null,
   "outputs": [],
   "source": [
    "def foo(bar: str) -> None:\n",
    "    print(bar)\n",
    "    \n",
    "foo(\"bar\")"
   ],
   "metadata": {
    "collapsed": false
   },
   "id": "1b4b64a53b2db588"
  },
  {
   "cell_type": "code",
   "execution_count": null,
   "outputs": [],
   "source": [
    "# parameters + default arguments\n",
    "def foo(bar: str, baz: int, delimiter=\" \") -> None:\n",
    "    print((bar + delimiter) * baz)\n",
    "\n",
    "# arguments\n",
    "foo(\"bar\", 3)\n",
    "# keyword arguments\n",
    "foo(bar=\"bar\", baz=4)"
   ],
   "metadata": {
    "collapsed": false
   },
   "id": "fd156ef2f253f6c"
  },
  {
   "cell_type": "code",
   "execution_count": null,
   "outputs": [],
   "source": [
    "# anonymous functions\n",
    "plus = lambda x, y: x + y\n",
    "print(plus(1, 3))\n"
   ],
   "metadata": {
    "collapsed": false
   },
   "id": "60e6f8a37db9fc10"
  },
  {
   "cell_type": "code",
   "execution_count": null,
   "outputs": [],
   "source": [
    "# unroll the list into the function\n",
    "my_list = [\"a\", \"b\", \"c\"]\n",
    "def foo(a, b, c):\n",
    "    print(a, b, c)\n",
    "# too long    \n",
    "foo(my_list[0], my_list[1], my_list[2])\n",
    "# python way\n",
    "foo(*my_list)\n",
    "\n",
    "# same can be done with dict\n",
    "my_dict = {\"a\": \"a\", \"b\": \"b\", \"c\": \"c\"}\n",
    "foo(**my_dict)\n",
    "# but you need to be careful with the keys (they need to match with signature of function)"
   ],
   "metadata": {
    "collapsed": false
   },
   "id": "9bd72628604c18a2"
  },
  {
   "cell_type": "code",
   "execution_count": null,
   "outputs": [],
   "source": [
    "# it works also for the output\n",
    "def foo():\n",
    "    return \"a\", \"b\", \"c\", \"e\", \"f\", \"g\"\n",
    "\n",
    "first_item, *rest, last_item = foo()\n",
    "print(first_item)\n",
    "print(rest)\n",
    "print(last_item)"
   ],
   "metadata": {
    "collapsed": false
   },
   "id": "5f95c3ba49eff623"
  },
  {
   "cell_type": "code",
   "execution_count": null,
   "outputs": [],
   "source": [
    "# can I use just list, dict at parameter? You can but you loose some kind of verbosity in certain situation ...\n",
    "def main() -> int:\n",
    "    print(\"Hello world\")\n",
    "    return 0\n",
    "\n",
    "args = [\"my_arg1\", \"my_arg2\"]\n",
    "kwargs = {\"my_kwarg1\": \"my_kwarg1\", \"my_kwarg2\": \"my_kwarg2\"}\n",
    "\n",
    "def main(args: list, kwargs: dict) -> int:\n",
    "    print(f\"{args=}\")\n",
    "    print(f\"{kwargs=}\")\n",
    "    return 0\n",
    "\n",
    "main(args, kwargs)"
   ],
   "metadata": {
    "collapsed": false
   },
   "id": "41e79433c9420179"
  },
  {
   "cell_type": "code",
   "execution_count": null,
   "outputs": [],
   "source": [
    "def main(*args: tuple, **kwargs: dict) -> int:\n",
    "    print(f\"{args=}\")\n",
    "    print(f\"{kwargs=}\")\n",
    "    return 0\n",
    "\n",
    "main(\"my_arg1\", \"my_arg2\", my_kwarg1=\"my_kwarg1\", my_kwarg2=\"my_kwarg2\")"
   ],
   "metadata": {
    "collapsed": false
   },
   "id": "cad17a5b61d40447"
  },
  {
   "cell_type": "code",
   "execution_count": null,
   "outputs": [],
   "source": [
    "def sub_main(my_arg2, /, *, my_kwarg2):\n",
    "    print(f\"{my_arg2=}\")\n",
    "    print(f\"{my_kwarg2=}\")\n",
    "\n",
    "def main(expected, *args: tuple, my_kwarg1, **kwargs: dict) -> int:\n",
    "    # I will pick up the expected, my_kwarg1 and pass the rest to another function\n",
    "    print(f\"{expected=}\")\n",
    "    print(f\"{my_kwarg1=}\")\n",
    "    print(f\"{args=}\")\n",
    "    print(f\"{kwargs=}\")\n",
    "    print()\n",
    "    sub_main(*args, **kwargs)\n",
    "    return 0\n",
    "\n",
    "main(\"my_arg1\", \"my_arg2\", my_kwarg1=\"my_kwarg1\", my_kwarg2=\"my_kwarg2\")"
   ],
   "metadata": {
    "collapsed": false
   },
   "id": "6796bc1a404ac51b"
  },
  {
   "cell_type": "code",
   "execution_count": null,
   "outputs": [],
   "source": [
    "# it is usually used with argparse (argument from console)\n",
    "\n",
    "parser = argparse.ArgumentParser()\n",
    "parser.add_argument(\"--n_batches\", type=int, default=3)\n",
    "args = parser.parse_args()\n",
    "start_time = time.time()\n",
    "...\n",
    "print(f\"--- {time.time() - start_time: .2f} seconds ---\")"
   ],
   "metadata": {
    "collapsed": false
   },
   "id": "4d7b4735bf11ff42"
  },
  {
   "cell_type": "code",
   "execution_count": null,
   "outputs": [],
   "source": [],
   "metadata": {
    "collapsed": false
   },
   "id": "53b88d2e56089815"
  },
  {
   "cell_type": "code",
   "execution_count": null,
   "outputs": [],
   "source": [
    "# based on the previous examples, here is small task\n",
    "# create a function which will take the operation and variable number of arguments - then perform the operation on that arguments\n",
    "\n",
    "print(your_function(sum, 1, 2, 3))\n",
    "print(your_function(lambda x,y: x+y, 1, 2, 3, 10))\n",
    "print(your_function(lambda x,y: x-y, 1, 2, 3, 10))\n",
    "\n",
    "\n",
    "print(your_function(lambda x,y: x-y, 1, 2, 3, 10, \"11\"))\n",
    "print(your_function(lambda x,y: x-y, 1, 2, 3, 10, \"b\"))"
   ],
   "metadata": {
    "collapsed": false
   },
   "id": "5f903d85da19d8b7"
  },
  {
   "cell_type": "code",
   "execution_count": null,
   "outputs": [],
   "source": [],
   "metadata": {
    "collapsed": false
   },
   "id": "1ca6cc132493d45a"
  },
  {
   "cell_type": "code",
   "execution_count": null,
   "outputs": [],
   "source": [
    "# site note - some methods return None\n",
    "a = {\"a\": 1, \"b\": 2}.update({\"a\": 3, \"b\": 4})\n",
    "print(a)"
   ],
   "metadata": {
    "collapsed": false
   },
   "id": "b17b53b29cb8ed7e"
  },
  {
   "cell_type": "code",
   "execution_count": null,
   "outputs": [],
   "source": [
    "# walrus operator\n",
    "(a := {\"a\": 1, \"b\": 2}).update({\"a\": 3, \"b\": 4})\n",
    "print(a)"
   ],
   "metadata": {
    "collapsed": false
   },
   "id": "6ed4373f0ffcf84e"
  },
  {
   "cell_type": "code",
   "execution_count": null,
   "outputs": [],
   "source": [],
   "metadata": {
    "collapsed": false
   },
   "id": "5c85549d0591a93f"
  }
 ],
 "metadata": {
  "kernelspec": {
   "display_name": "Python 3",
   "language": "python",
   "name": "python3"
  },
  "language_info": {
   "codemirror_mode": {
    "name": "ipython",
    "version": 2
   },
   "file_extension": ".py",
   "mimetype": "text/x-python",
   "name": "python",
   "nbconvert_exporter": "python",
   "pygments_lexer": "ipython2",
   "version": "2.7.6"
  }
 },
 "nbformat": 4,
 "nbformat_minor": 5
}
