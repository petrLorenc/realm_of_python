{
 "cells": [
  {
   "cell_type": "markdown",
   "id": "867e6e9ab7595981",
   "metadata": {
    "collapsed": false
   },
   "source": [
    "# Python Syntax\n",
    "\n",
    "- [ ] Lambda Functions\n",
    "- [ ] Generators\n",
    "- [ ] Context Managers\n",
    "- [ ] Decorators\n",
    "- [ ] Parallelism\n",
    "\n",
    "\n",
    "## TLDR: Everything is an object!!\n"
   ]
  },
  {
   "cell_type": "markdown",
   "id": "a7c23add66fb8331",
   "metadata": {
    "collapsed": false
   },
   "source": [
    "- [ ] Lambda Functions + Generators"
   ]
  },
  {
   "cell_type": "code",
   "execution_count": 23,
   "id": "9b75dc51ed8f60c8",
   "metadata": {
    "ExecuteTime": {
     "end_time": "2025-04-24T07:31:30.291093Z",
     "start_time": "2025-04-24T07:31:30.271762Z"
    },
    "collapsed": false
   },
   "outputs": [
    {
     "data": {
      "text/plain": [
       "Counter()"
      ]
     },
     "execution_count": 23,
     "metadata": {},
     "output_type": "execute_result"
    }
   ],
   "source": [
    "from collections import Counter\n",
    "\n",
    "factory = lambda: Counter()\n",
    "\n",
    "factory()"
   ]
  },
  {
   "cell_type": "code",
   "execution_count": 21,
   "id": "e6f3226fd1e08eab",
   "metadata": {
    "ExecuteTime": {
     "end_time": "2025-04-24T07:28:52.566264Z",
     "start_time": "2025-04-24T07:28:52.562084Z"
    },
    "collapsed": false
   },
   "outputs": [
    {
     "data": {
      "text/plain": [
       "-5"
      ]
     },
     "execution_count": 21,
     "metadata": {},
     "output_type": "execute_result"
    }
   ],
   "source": [
    "def my_function(x, y, func):\n",
    "    return func(x, y)\n",
    "\n",
    "my_function(10, 15, lambda x, y: x - y)"
   ]
  },
  {
   "cell_type": "code",
   "execution_count": 11,
   "id": "613a9d25861e9559",
   "metadata": {
    "ExecuteTime": {
     "end_time": "2025-04-24T07:22:42.190600Z",
     "start_time": "2025-04-24T07:22:42.182774Z"
    },
    "collapsed": false
   },
   "outputs": [
    {
     "name": "stdout",
     "output_type": "stream",
     "text": [
      "[0, 1, 2, 3, 4, 5, 6, 7, 8, 9]\n",
      "<map object at 0x10675bdf0>\n"
     ]
    }
   ],
   "source": [
    "my_array = [x for x in range(10)]\n",
    "print(my_array)\n",
    "my_new_array = map(lambda x: x**2, my_array)\n",
    "print(my_new_array)"
   ]
  },
  {
   "cell_type": "code",
   "execution_count": 17,
   "id": "e0a6fdddeb204cb5",
   "metadata": {
    "ExecuteTime": {
     "end_time": "2025-04-24T07:24:07.187620Z",
     "start_time": "2025-04-24T07:24:07.154347Z"
    },
    "collapsed": false
   },
   "outputs": [
    {
     "name": "stdout",
     "output_type": "stream",
     "text": [
      "81\n"
     ]
    },
    {
     "ename": "StopIteration",
     "evalue": "",
     "output_type": "error",
     "traceback": [
      "\u001b[31m---------------------------------------------------------------------------\u001b[39m",
      "\u001b[31mStopIteration\u001b[39m                             Traceback (most recent call last)",
      "\u001b[36mCell\u001b[39m\u001b[36m \u001b[39m\u001b[32mIn[17]\u001b[39m\u001b[32m, line 2\u001b[39m\n\u001b[32m      1\u001b[39m \u001b[38;5;28mprint\u001b[39m(\u001b[38;5;28mnext\u001b[39m(my_new_array))\n\u001b[32m----> \u001b[39m\u001b[32m2\u001b[39m \u001b[38;5;28mprint\u001b[39m(\u001b[38;5;28;43mnext\u001b[39;49m\u001b[43m(\u001b[49m\u001b[43mmy_new_array\u001b[49m\u001b[43m)\u001b[49m)\n\u001b[32m      3\u001b[39m \u001b[38;5;28mprint\u001b[39m(\u001b[38;5;28mnext\u001b[39m(my_new_array))\n\u001b[32m      4\u001b[39m \u001b[38;5;28mprint\u001b[39m(\u001b[38;5;28mnext\u001b[39m(my_new_array))\n",
      "\u001b[31mStopIteration\u001b[39m: "
     ]
    }
   ],
   "source": [
    "print(next(my_new_array))\n",
    "print(next(my_new_array))\n",
    "print(next(my_new_array))\n",
    "print(next(my_new_array))"
   ]
  },
  {
   "cell_type": "code",
   "execution_count": 19,
   "id": "31055b93c15e8303",
   "metadata": {
    "ExecuteTime": {
     "end_time": "2025-04-24T07:27:03.629290Z",
     "start_time": "2025-04-24T07:27:03.618434Z"
    },
    "collapsed": false
   },
   "outputs": [
    {
     "name": "stdout",
     "output_type": "stream",
     "text": [
      "<generator object <genexpr> at 0x1068b6c80>\n"
     ]
    }
   ],
   "source": [
    "my_array = (x for x in my_array)\n",
    "print(my_array)"
   ]
  },
  {
   "cell_type": "code",
   "execution_count": 27,
   "id": "1d0b1242e4a256a",
   "metadata": {
    "ExecuteTime": {
     "end_time": "2025-04-24T07:33:00.429271Z",
     "start_time": "2025-04-24T07:33:00.411522Z"
    },
    "collapsed": false
   },
   "outputs": [
    {
     "data": {
      "text/plain": [
       "0"
      ]
     },
     "execution_count": 27,
     "metadata": {},
     "output_type": "execute_result"
    }
   ],
   "source": [
    "my_array = [x for x in range(10)]\n",
    "\n",
    "it = iter(my_array)\n",
    "\n",
    "next(it)"
   ]
  },
  {
   "cell_type": "code",
   "execution_count": 29,
   "id": "27ecdc4e7a0b2b1b",
   "metadata": {
    "ExecuteTime": {
     "end_time": "2025-04-24T07:33:51.621170Z",
     "start_time": "2025-04-24T07:33:51.587910Z"
    },
    "collapsed": false
   },
   "outputs": [
    {
     "name": "stdout",
     "output_type": "stream",
     "text": [
      "1\n",
      "2\n",
      "3\n",
      "4\n",
      "5\n",
      "6\n",
      "7\n",
      "8\n",
      "9\n"
     ]
    }
   ],
   "source": [
    "for x in it:\n",
    "    print(x)"
   ]
  },
  {
   "cell_type": "code",
   "execution_count": 6,
   "id": "a99d3d506b2302b6",
   "metadata": {
    "ExecuteTime": {
     "end_time": "2025-04-24T07:20:02.148555Z",
     "start_time": "2025-04-24T07:20:02.128572Z"
    },
    "collapsed": false
   },
   "outputs": [
    {
     "data": {
      "text/plain": [
       "'my_function'"
      ]
     },
     "execution_count": 6,
     "metadata": {},
     "output_type": "execute_result"
    }
   ],
   "source": [
    "def my_function(x):\n",
    "    \"\"\"\n",
    "    fasdklfasj\n",
    "    :param x: \n",
    "    :return: \n",
    "    \"\"\"\n",
    "    return x*3\n",
    "my_function.__name__"
   ]
  },
  {
   "cell_type": "code",
   "execution_count": 3,
   "id": "7fa9ad262920d2c7",
   "metadata": {
    "ExecuteTime": {
     "end_time": "2025-04-24T07:19:17.538686Z",
     "start_time": "2025-04-24T07:19:17.494736Z"
    },
    "collapsed": false
   },
   "outputs": [
    {
     "data": {
      "text/plain": [
       "30"
      ]
     },
     "execution_count": 3,
     "metadata": {},
     "output_type": "execute_result"
    }
   ],
   "source": [
    "# lambda function is a small anonymous function\n",
    "my_function = lambda x: x*3\n",
    "my_function(10)"
   ]
  },
  {
   "cell_type": "code",
   "execution_count": 4,
   "id": "388efdee2fae1293",
   "metadata": {
    "ExecuteTime": {
     "end_time": "2025-04-24T07:19:28.270089Z",
     "start_time": "2025-04-24T07:19:28.263161Z"
    },
    "collapsed": false
   },
   "outputs": [
    {
     "data": {
      "text/plain": [
       "'<lambda>'"
      ]
     },
     "execution_count": 4,
     "metadata": {},
     "output_type": "execute_result"
    }
   ],
   "source": [
    "my_function.__name__"
   ]
  },
  {
   "cell_type": "code",
   "execution_count": 55,
   "id": "fe380406bac49640",
   "metadata": {
    "ExecuteTime": {
     "end_time": "2025-04-24T07:47:28.328535Z",
     "start_time": "2025-04-24T07:47:28.285740Z"
    },
    "collapsed": false
   },
   "outputs": [
    {
     "name": "stdout",
     "output_type": "stream",
     "text": [
      "1 2 3\n",
      "4 5 6\n"
     ]
    }
   ],
   "source": [
    "for idx, (item_a, item_b, item_c) in enumerate([(1,2,3), (4,5,6)]):\n",
    "    print(item_a, item_b, item_c)"
   ]
  },
  {
   "cell_type": "code",
   "execution_count": 56,
   "id": "21a41759a8c17b98",
   "metadata": {
    "ExecuteTime": {
     "end_time": "2025-04-24T07:47:53.653972Z",
     "start_time": "2025-04-24T07:47:53.636220Z"
    },
    "collapsed": false
   },
   "outputs": [
    {
     "name": "stdout",
     "output_type": "stream",
     "text": [
      "1 2 3\n",
      "4 5 6\n"
     ]
    }
   ],
   "source": [
    "for idx, item in enumerate([(1,2,3), (4,5,6)]):\n",
    "    print(item[0], item[1], item[2])"
   ]
  },
  {
   "cell_type": "code",
   "execution_count": 42,
   "id": "323ced352844653a",
   "metadata": {
    "ExecuteTime": {
     "end_time": "2025-04-24T07:41:41.373454Z",
     "start_time": "2025-04-24T07:41:41.347547Z"
    },
    "collapsed": false
   },
   "outputs": [
    {
     "ename": "ValueError",
     "evalue": "too many values to unpack (expected 2)",
     "output_type": "error",
     "traceback": [
      "\u001b[31m---------------------------------------------------------------------------\u001b[39m",
      "\u001b[31mValueError\u001b[39m                                Traceback (most recent call last)",
      "\u001b[36mCell\u001b[39m\u001b[36m \u001b[39m\u001b[32mIn[42]\u001b[39m\u001b[32m, line 1\u001b[39m\n\u001b[32m----> \u001b[39m\u001b[32m1\u001b[39m \u001b[38;5;28;01mfor\u001b[39;00m item_a, item_b \u001b[38;5;129;01min\u001b[39;00m \u001b[38;5;28mzip\u001b[39m(my_array, my_array[:\u001b[32m1\u001b[39m], my_array[\u001b[32m1\u001b[39m:]):\n\u001b[32m      2\u001b[39m     \u001b[38;5;28mprint\u001b[39m(item_a, item_b)\n",
      "\u001b[31mValueError\u001b[39m: too many values to unpack (expected 2)"
     ]
    }
   ],
   "source": [
    "for item_a, item_b in zip(my_array, my_array[:1], my_array[1:]):\n",
    "    print(item_a, item_b)"
   ]
  },
  {
   "cell_type": "code",
   "execution_count": 57,
   "id": "840c96d5096b40ea",
   "metadata": {
    "ExecuteTime": {
     "end_time": "2025-04-24T07:48:05.624064Z",
     "start_time": "2025-04-24T07:48:05.603476Z"
    },
    "collapsed": false
   },
   "outputs": [
    {
     "name": "stdout",
     "output_type": "stream",
     "text": [
      "[0, 1, 2, 3, 4, 5, 6, 7, 8, 9]\n",
      "<map object at 0x106801a80>\n"
     ]
    }
   ],
   "source": [
    "\n",
    "# lambda can be used as an argument to other functions - typically map, filter, reduce\n",
    "my_array_normal = [x for x in range(1000)]\n",
    "print(my_array_normal[:10])\n",
    "my_array_generator = map(lambda x: x**2, my_array_normal)\n",
    "print(my_array_generator)"
   ]
  },
  {
   "cell_type": "code",
   "execution_count": 58,
   "id": "6fb3ea2e03ced623",
   "metadata": {
    "ExecuteTime": {
     "end_time": "2025-04-24T07:48:19.617872Z",
     "start_time": "2025-04-24T07:48:19.590910Z"
    },
    "collapsed": false
   },
   "outputs": [
    {
     "data": {
      "text/plain": [
       "8856"
      ]
     },
     "execution_count": 58,
     "metadata": {},
     "output_type": "execute_result"
    }
   ],
   "source": [
    "import sys\n",
    "sys.getsizeof(my_array_normal)"
   ]
  },
  {
   "cell_type": "code",
   "execution_count": 59,
   "id": "8b82101d683193d6",
   "metadata": {
    "ExecuteTime": {
     "end_time": "2025-04-24T07:48:20.951895Z",
     "start_time": "2025-04-24T07:48:20.938061Z"
    },
    "collapsed": false
   },
   "outputs": [
    {
     "data": {
      "text/plain": [
       "48"
      ]
     },
     "execution_count": 59,
     "metadata": {},
     "output_type": "execute_result"
    }
   ],
   "source": [
    "sys.getsizeof(my_array_generator)"
   ]
  },
  {
   "cell_type": "code",
   "execution_count": 60,
   "id": "889edf8f5dd91a7e",
   "metadata": {
    "ExecuteTime": {
     "end_time": "2025-04-24T07:49:46.387467Z",
     "start_time": "2025-04-24T07:49:46.352727Z"
    },
    "collapsed": false
   },
   "outputs": [
    {
     "name": "stdout",
     "output_type": "stream",
     "text": [
      "List size: 8448728\n",
      "Generator size: 200\n"
     ]
    }
   ],
   "source": [
    "def large_list(n):\n",
    "    return [i for i in range(n)]\n",
    "\n",
    "def large_generator(n):\n",
    "    \"\"\"\n",
    "    It will yield one item at the time to save memory\n",
    "    :param n: \n",
    "    :return: \n",
    "    \"\"\"\n",
    "    for i in range(n):\n",
    "        yield BigClass() ## yield is a keyword that allows you to create a generator function\n",
    "\n",
    "list_data = large_list(10**6)\n",
    "gen_data = large_generator(10**6)\n",
    "\n",
    "print(\"List size:\", sys.getsizeof(list_data))\n",
    "print(\"Generator size:\", sys.getsizeof(gen_data))"
   ]
  },
  {
   "cell_type": "code",
   "execution_count": 61,
   "id": "98a72bea98e5d225",
   "metadata": {
    "ExecuteTime": {
     "end_time": "2025-04-24T07:50:30.181375Z",
     "start_time": "2025-04-24T07:50:30.136674Z"
    },
    "collapsed": false
   },
   "outputs": [
    {
     "name": "stdout",
     "output_type": "stream",
     "text": [
      "0\n",
      "0\n"
     ]
    }
   ],
   "source": [
    "# usage in for loop is the same\n",
    "for i in large_list(10**6):\n",
    "    print(i)\n",
    "    break\n",
    "\n",
    "for i in large_generator(10**6):\n",
    "    print(i)\n",
    "    break\n",
    "    "
   ]
  },
  {
   "cell_type": "code",
   "execution_count": 62,
   "id": "5b6fd86b948cfdac",
   "metadata": {
    "ExecuteTime": {
     "end_time": "2025-04-24T07:52:09.076085Z",
     "start_time": "2025-04-24T07:52:08.970608Z"
    },
    "collapsed": false
   },
   "outputs": [
    {
     "name": "stdout",
     "output_type": "stream",
     "text": [
      "0\n"
     ]
    },
    {
     "ename": "TypeError",
     "evalue": "'generator' object is not subscriptable",
     "output_type": "error",
     "traceback": [
      "\u001b[31m---------------------------------------------------------------------------\u001b[39m",
      "\u001b[31mTypeError\u001b[39m                                 Traceback (most recent call last)",
      "\u001b[36mCell\u001b[39m\u001b[36m \u001b[39m\u001b[32mIn[62]\u001b[39m\u001b[32m, line 3\u001b[39m\n\u001b[32m      1\u001b[39m \u001b[38;5;66;03m# but you cannot do indexing and these stuff as with list\u001b[39;00m\n\u001b[32m      2\u001b[39m \u001b[38;5;28mprint\u001b[39m(large_list(\u001b[32m10\u001b[39m**\u001b[32m6\u001b[39m)[\u001b[32m0\u001b[39m])\n\u001b[32m----> \u001b[39m\u001b[32m3\u001b[39m \u001b[38;5;28mprint\u001b[39m(\u001b[43mlarge_generator\u001b[49m\u001b[43m(\u001b[49m\u001b[32;43m10\u001b[39;49m\u001b[43m*\u001b[49m\u001b[43m*\u001b[49m\u001b[32;43m6\u001b[39;49m\u001b[43m)\u001b[49m\u001b[43m[\u001b[49m\u001b[32;43m0\u001b[39;49m\u001b[43m]\u001b[49m) \u001b[38;5;66;03m# this will not work\u001b[39;00m\n",
      "\u001b[31mTypeError\u001b[39m: 'generator' object is not subscriptable"
     ]
    }
   ],
   "source": [
    "# but you cannot do indexing and these stuff as with list\n",
    "print(large_list(10**6)[0])\n",
    "print(large_generator(10**6)[0]) # this will not work"
   ]
  },
  {
   "cell_type": "markdown",
   "id": "4bab3932c9c54710",
   "metadata": {
    "collapsed": false
   },
   "source": [
    "- [ ] Files + Context Managers"
   ]
  },
  {
   "cell_type": "code",
   "execution_count": 65,
   "id": "17c1a200604b96cd",
   "metadata": {
    "ExecuteTime": {
     "end_time": "2025-04-24T08:12:46.992049Z",
     "start_time": "2025-04-24T08:12:46.957083Z"
    },
    "collapsed": false
   },
   "outputs": [
    {
     "name": "stdout",
     "output_type": "stream",
     "text": [
      "['# Set up\\n', '\\n', '```\\n', 'docker build -t syntax_training -f Dockerfile  .\\n', 'docker run -it -p 9999:9999 syntax_training\\n', '```\\n', '\\n', '# Set up with UV\\n', '\\n', 'Using Jupyter as a standalone tool\\n', 'If you ever need ad hoc access to a notebook (i.e., to run a Python snippet interactively), you can start a Jupyter server at any time with uv tool run jupyter lab. This will run a Jupyter server in an isolated environment.\\n', '\\n', '```shell\\n', 'brew install uv\\n', 'uv tool run jupyter lab\\n', '```\\n', '\\n', '# Links\\n', '\\n', '* https://pythontutor.com/visualize.html\\n', '* https://docs.python.org/3/reference/datamodel.html\\n', '* https://python-history.blogspot.com/2010/06/method-resolution-order.html']\n",
      "\n",
      "# Set up\n"
     ]
    }
   ],
   "source": [
    "f = open(\"README.md\", \"r\") # different modes\n",
    "print(my_file := f.readlines())\n",
    "print()\n",
    "print(my_file[0])\n",
    "f.close()"
   ]
  },
  {
   "cell_type": "code",
   "execution_count": 76,
   "id": "bc239835a7f2daec",
   "metadata": {
    "ExecuteTime": {
     "end_time": "2025-04-24T08:17:35.210836Z",
     "start_time": "2025-04-24T08:17:35.192488Z"
    },
    "collapsed": false
   },
   "outputs": [
    {
     "name": "stdout",
     "output_type": "stream",
     "text": [
      "#\n",
      " \n",
      "S\n",
      "et up\n",
      "\n",
      "\n",
      "\n",
      "```\n",
      "\n",
      "docker build -t syntax_training -f Dockerfile  .\n"
     ]
    }
   ],
   "source": [
    "f = open(\"README.md\", \"r\") # different modes\n",
    "print(f.read(1))\n",
    "print(f.read(1))\n",
    "print(f.read(1))\n",
    "f.close()"
   ]
  },
  {
   "cell_type": "code",
   "execution_count": 77,
   "id": "5ca742a3cce6d53c",
   "metadata": {
    "ExecuteTime": {
     "end_time": "2025-04-24T08:19:27.111960Z",
     "start_time": "2025-04-24T08:19:26.872226Z"
    },
    "collapsed": false
   },
   "outputs": [
    {
     "name": "stdout",
     "output_type": "stream",
     "text": [
      "#\n",
      " \n",
      "S\n"
     ]
    }
   ],
   "source": [
    "with open(\"README.md\", \"r\") as f:\n",
    "    print(f.read(1))\n",
    "    print(f.read(1))\n",
    "    print(f.read(1))\n"
   ]
  },
  {
   "cell_type": "code",
   "execution_count": 80,
   "id": "ae0101b598e07f2f",
   "metadata": {
    "ExecuteTime": {
     "end_time": "2025-04-24T08:22:59.357329Z",
     "start_time": "2025-04-24T08:22:59.334646Z"
    },
    "collapsed": false
   },
   "outputs": [
    {
     "name": "stdout",
     "output_type": "stream",
     "text": [
      "Entering the context\n",
      "Pretending to do some work on the file\n",
      "Exiting the context\n"
     ]
    },
    {
     "ename": "Exception",
     "evalue": "",
     "output_type": "error",
     "traceback": [
      "\u001b[31m---------------------------------------------------------------------------\u001b[39m",
      "\u001b[31mException\u001b[39m                                 Traceback (most recent call last)",
      "\u001b[36mCell\u001b[39m\u001b[36m \u001b[39m\u001b[32mIn[80]\u001b[39m\u001b[32m, line 16\u001b[39m\n\u001b[32m     14\u001b[39m \u001b[38;5;28;01mwith\u001b[39;00m MyContextManager() \u001b[38;5;28;01mas\u001b[39;00m cm:\n\u001b[32m     15\u001b[39m     cm.say_hello()\n\u001b[32m---> \u001b[39m\u001b[32m16\u001b[39m     \u001b[38;5;28;01mraise\u001b[39;00m \u001b[38;5;167;01mException\u001b[39;00m()\n\u001b[32m     17\u001b[39m     cm.say_hello()\n",
      "\u001b[31mException\u001b[39m: "
     ]
    }
   ],
   "source": [
    "# contextlib\n",
    "\n",
    "class MyContextManager:\n",
    "    def __enter__(self):\n",
    "        print(\"Entering the context\")\n",
    "        return self\n",
    "\n",
    "    def __exit__(self, exc_type, exc_value, traceback):\n",
    "        print(\"Exiting the context\")\n",
    "        \n",
    "    def say_hello(self):\n",
    "        print(\"Pretending to do some work on the file\")\n",
    "        \n",
    "with MyContextManager() as cm:\n",
    "    cm.say_hello()\n",
    "    raise Exception()\n",
    "    cm.say_hello()"
   ]
  },
  {
   "cell_type": "code",
   "execution_count": null,
   "id": "4469c0086c070afd",
   "metadata": {
    "collapsed": false
   },
   "outputs": [],
   "source": [
    "with open(\"README.md\") as f:\n",
    "    print(f.readlines())"
   ]
  },
  {
   "cell_type": "code",
   "execution_count": 82,
   "id": "d42f646ca03fa176",
   "metadata": {
    "ExecuteTime": {
     "end_time": "2025-04-24T08:26:22.163711Z",
     "start_time": "2025-04-24T08:26:22.150395Z"
    },
    "collapsed": false
   },
   "outputs": [
    {
     "name": "stdout",
     "output_type": "stream",
     "text": [
      "Enter\n",
      "Inside\n",
      "Exit\n"
     ]
    },
    {
     "ename": "Exception",
     "evalue": "",
     "output_type": "error",
     "traceback": [
      "\u001b[31m---------------------------------------------------------------------------\u001b[39m",
      "\u001b[31mException\u001b[39m                                 Traceback (most recent call last)",
      "\u001b[36mCell\u001b[39m\u001b[36m \u001b[39m\u001b[32mIn[82]\u001b[39m\u001b[32m, line 13\u001b[39m\n\u001b[32m     11\u001b[39m \u001b[38;5;28;01mwith\u001b[39;00m my_context() \u001b[38;5;28;01mas\u001b[39;00m f:\n\u001b[32m     12\u001b[39m     \u001b[38;5;28mprint\u001b[39m(\u001b[33m\"\u001b[39m\u001b[33mInside\u001b[39m\u001b[33m\"\u001b[39m)\n\u001b[32m---> \u001b[39m\u001b[32m13\u001b[39m     \u001b[38;5;28;01mraise\u001b[39;00m \u001b[38;5;167;01mException\u001b[39;00m()\n\u001b[32m     14\u001b[39m     \u001b[38;5;28mprint\u001b[39m(f(\u001b[32m20\u001b[39m))\n",
      "\u001b[31mException\u001b[39m: "
     ]
    }
   ],
   "source": [
    "from contextlib import contextmanager\n",
    "\n",
    "@contextmanager\n",
    "def my_context():\n",
    "    print(\"Enter\")\n",
    "    try:\n",
    "        yield lambda x: x**2\n",
    "    finally:\n",
    "        print(\"Exit\")\n",
    "    \n",
    "with my_context() as f:\n",
    "    print(\"Inside\")\n",
    "    raise Exception()\n",
    "    print(f(20))"
   ]
  },
  {
   "cell_type": "code",
   "execution_count": 83,
   "id": "1177eb527bf6775d",
   "metadata": {
    "ExecuteTime": {
     "end_time": "2025-04-24T08:29:18.150596Z",
     "start_time": "2025-04-24T08:29:17.158744Z"
    },
    "collapsed": false
   },
   "outputs": [
    {
     "ename": "SSLError",
     "evalue": "HTTPSConnectionPool(host='www.google.com', port=443): Max retries exceeded with url: / (Caused by SSLError(SSLCertVerificationError(1, '[SSL: CERTIFICATE_VERIFY_FAILED] certificate verify failed: self-signed certificate in certificate chain (_ssl.c:1000)')))",
     "output_type": "error",
     "traceback": [
      "\u001b[31m---------------------------------------------------------------------------\u001b[39m",
      "\u001b[31mSSLError\u001b[39m                                  Traceback (most recent call last)",
      "\u001b[31mSSLError\u001b[39m: [SSL: CERTIFICATE_VERIFY_FAILED] certificate verify failed: self-signed certificate in certificate chain (_ssl.c:1000)",
      "\nThe above exception was the direct cause of the following exception:\n",
      "\u001b[31mMaxRetryError\u001b[39m                             Traceback (most recent call last)",
      "\u001b[36mFile \u001b[39m\u001b[32m~/PycharmProjects/udps-python-workshop/.venv/lib/python3.12/site-packages/requests/adapters.py:667\u001b[39m, in \u001b[36mHTTPAdapter.send\u001b[39m\u001b[34m(self, request, stream, timeout, verify, cert, proxies)\u001b[39m\n\u001b[32m    666\u001b[39m \u001b[38;5;28;01mtry\u001b[39;00m:\n\u001b[32m--> \u001b[39m\u001b[32m667\u001b[39m     resp = \u001b[43mconn\u001b[49m\u001b[43m.\u001b[49m\u001b[43murlopen\u001b[49m\u001b[43m(\u001b[49m\n\u001b[32m    668\u001b[39m \u001b[43m        \u001b[49m\u001b[43mmethod\u001b[49m\u001b[43m=\u001b[49m\u001b[43mrequest\u001b[49m\u001b[43m.\u001b[49m\u001b[43mmethod\u001b[49m\u001b[43m,\u001b[49m\n\u001b[32m    669\u001b[39m \u001b[43m        \u001b[49m\u001b[43murl\u001b[49m\u001b[43m=\u001b[49m\u001b[43murl\u001b[49m\u001b[43m,\u001b[49m\n\u001b[32m    670\u001b[39m \u001b[43m        \u001b[49m\u001b[43mbody\u001b[49m\u001b[43m=\u001b[49m\u001b[43mrequest\u001b[49m\u001b[43m.\u001b[49m\u001b[43mbody\u001b[49m\u001b[43m,\u001b[49m\n\u001b[32m    671\u001b[39m \u001b[43m        \u001b[49m\u001b[43mheaders\u001b[49m\u001b[43m=\u001b[49m\u001b[43mrequest\u001b[49m\u001b[43m.\u001b[49m\u001b[43mheaders\u001b[49m\u001b[43m,\u001b[49m\n\u001b[32m    672\u001b[39m \u001b[43m        \u001b[49m\u001b[43mredirect\u001b[49m\u001b[43m=\u001b[49m\u001b[38;5;28;43;01mFalse\u001b[39;49;00m\u001b[43m,\u001b[49m\n\u001b[32m    673\u001b[39m \u001b[43m        \u001b[49m\u001b[43massert_same_host\u001b[49m\u001b[43m=\u001b[49m\u001b[38;5;28;43;01mFalse\u001b[39;49;00m\u001b[43m,\u001b[49m\n\u001b[32m    674\u001b[39m \u001b[43m        \u001b[49m\u001b[43mpreload_content\u001b[49m\u001b[43m=\u001b[49m\u001b[38;5;28;43;01mFalse\u001b[39;49;00m\u001b[43m,\u001b[49m\n\u001b[32m    675\u001b[39m \u001b[43m        \u001b[49m\u001b[43mdecode_content\u001b[49m\u001b[43m=\u001b[49m\u001b[38;5;28;43;01mFalse\u001b[39;49;00m\u001b[43m,\u001b[49m\n\u001b[32m    676\u001b[39m \u001b[43m        \u001b[49m\u001b[43mretries\u001b[49m\u001b[43m=\u001b[49m\u001b[38;5;28;43mself\u001b[39;49m\u001b[43m.\u001b[49m\u001b[43mmax_retries\u001b[49m\u001b[43m,\u001b[49m\n\u001b[32m    677\u001b[39m \u001b[43m        \u001b[49m\u001b[43mtimeout\u001b[49m\u001b[43m=\u001b[49m\u001b[43mtimeout\u001b[49m\u001b[43m,\u001b[49m\n\u001b[32m    678\u001b[39m \u001b[43m        \u001b[49m\u001b[43mchunked\u001b[49m\u001b[43m=\u001b[49m\u001b[43mchunked\u001b[49m\u001b[43m,\u001b[49m\n\u001b[32m    679\u001b[39m \u001b[43m    \u001b[49m\u001b[43m)\u001b[49m\n\u001b[32m    681\u001b[39m \u001b[38;5;28;01mexcept\u001b[39;00m (ProtocolError, \u001b[38;5;167;01mOSError\u001b[39;00m) \u001b[38;5;28;01mas\u001b[39;00m err:\n",
      "\u001b[36mFile \u001b[39m\u001b[32m~/PycharmProjects/udps-python-workshop/.venv/lib/python3.12/site-packages/urllib3/connectionpool.py:841\u001b[39m, in \u001b[36mHTTPConnectionPool.urlopen\u001b[39m\u001b[34m(self, method, url, body, headers, retries, redirect, assert_same_host, timeout, pool_timeout, release_conn, chunked, body_pos, preload_content, decode_content, **response_kw)\u001b[39m\n\u001b[32m    839\u001b[39m     new_e = ProtocolError(\u001b[33m\"\u001b[39m\u001b[33mConnection aborted.\u001b[39m\u001b[33m\"\u001b[39m, new_e)\n\u001b[32m--> \u001b[39m\u001b[32m841\u001b[39m retries = \u001b[43mretries\u001b[49m\u001b[43m.\u001b[49m\u001b[43mincrement\u001b[49m\u001b[43m(\u001b[49m\n\u001b[32m    842\u001b[39m \u001b[43m    \u001b[49m\u001b[43mmethod\u001b[49m\u001b[43m,\u001b[49m\u001b[43m \u001b[49m\u001b[43murl\u001b[49m\u001b[43m,\u001b[49m\u001b[43m \u001b[49m\u001b[43merror\u001b[49m\u001b[43m=\u001b[49m\u001b[43mnew_e\u001b[49m\u001b[43m,\u001b[49m\u001b[43m \u001b[49m\u001b[43m_pool\u001b[49m\u001b[43m=\u001b[49m\u001b[38;5;28;43mself\u001b[39;49m\u001b[43m,\u001b[49m\u001b[43m \u001b[49m\u001b[43m_stacktrace\u001b[49m\u001b[43m=\u001b[49m\u001b[43msys\u001b[49m\u001b[43m.\u001b[49m\u001b[43mexc_info\u001b[49m\u001b[43m(\u001b[49m\u001b[43m)\u001b[49m\u001b[43m[\u001b[49m\u001b[32;43m2\u001b[39;49m\u001b[43m]\u001b[49m\n\u001b[32m    843\u001b[39m \u001b[43m\u001b[49m\u001b[43m)\u001b[49m\n\u001b[32m    844\u001b[39m retries.sleep()\n",
      "\u001b[36mFile \u001b[39m\u001b[32m~/PycharmProjects/udps-python-workshop/.venv/lib/python3.12/site-packages/urllib3/util/retry.py:519\u001b[39m, in \u001b[36mRetry.increment\u001b[39m\u001b[34m(self, method, url, response, error, _pool, _stacktrace)\u001b[39m\n\u001b[32m    518\u001b[39m     reason = error \u001b[38;5;129;01mor\u001b[39;00m ResponseError(cause)\n\u001b[32m--> \u001b[39m\u001b[32m519\u001b[39m     \u001b[38;5;28;01mraise\u001b[39;00m MaxRetryError(_pool, url, reason) \u001b[38;5;28;01mfrom\u001b[39;00m\u001b[38;5;250m \u001b[39m\u001b[34;01mreason\u001b[39;00m  \u001b[38;5;66;03m# type: ignore[arg-type]\u001b[39;00m\n\u001b[32m    521\u001b[39m log.debug(\u001b[33m\"\u001b[39m\u001b[33mIncremented Retry for (url=\u001b[39m\u001b[33m'\u001b[39m\u001b[38;5;132;01m%s\u001b[39;00m\u001b[33m'\u001b[39m\u001b[33m): \u001b[39m\u001b[38;5;132;01m%r\u001b[39;00m\u001b[33m\"\u001b[39m, url, new_retry)\n",
      "\u001b[31mMaxRetryError\u001b[39m: HTTPSConnectionPool(host='www.google.com', port=443): Max retries exceeded with url: / (Caused by SSLError(SSLCertVerificationError(1, '[SSL: CERTIFICATE_VERIFY_FAILED] certificate verify failed: self-signed certificate in certificate chain (_ssl.c:1000)')))",
      "\nDuring handling of the above exception, another exception occurred:\n",
      "\u001b[31mSSLError\u001b[39m                                  Traceback (most recent call last)",
      "\u001b[36mCell\u001b[39m\u001b[36m \u001b[39m\u001b[32mIn[83]\u001b[39m\u001b[32m, line 3\u001b[39m\n\u001b[32m      1\u001b[39m \u001b[38;5;66;03m# files, network connection\u001b[39;00m\n\u001b[32m      2\u001b[39m \u001b[38;5;28;01mimport\u001b[39;00m\u001b[38;5;250m \u001b[39m\u001b[34;01mrequests\u001b[39;00m\n\u001b[32m----> \u001b[39m\u001b[32m3\u001b[39m \u001b[38;5;28;01mwith\u001b[39;00m \u001b[43mrequests\u001b[49m\u001b[43m.\u001b[49m\u001b[43mget\u001b[49m\u001b[43m(\u001b[49m\u001b[33;43m'\u001b[39;49m\u001b[33;43mhttps://www.google.com\u001b[39;49m\u001b[33;43m'\u001b[39;49m\u001b[43m)\u001b[49m \u001b[38;5;28;01mas\u001b[39;00m response:\n\u001b[32m      4\u001b[39m     \u001b[38;5;28mprint\u001b[39m(response.status_code)\n\u001b[32m      5\u001b[39m     \u001b[38;5;28mprint\u001b[39m(response.content[:\u001b[32m100\u001b[39m])\n",
      "\u001b[36mFile \u001b[39m\u001b[32m~/PycharmProjects/udps-python-workshop/.venv/lib/python3.12/site-packages/requests/api.py:73\u001b[39m, in \u001b[36mget\u001b[39m\u001b[34m(url, params, **kwargs)\u001b[39m\n\u001b[32m     62\u001b[39m \u001b[38;5;28;01mdef\u001b[39;00m\u001b[38;5;250m \u001b[39m\u001b[34mget\u001b[39m(url, params=\u001b[38;5;28;01mNone\u001b[39;00m, **kwargs):\n\u001b[32m     63\u001b[39m \u001b[38;5;250m    \u001b[39m\u001b[33mr\u001b[39m\u001b[33;03m\"\"\"Sends a GET request.\u001b[39;00m\n\u001b[32m     64\u001b[39m \n\u001b[32m     65\u001b[39m \u001b[33;03m    :param url: URL for the new :class:`Request` object.\u001b[39;00m\n\u001b[32m   (...)\u001b[39m\u001b[32m     70\u001b[39m \u001b[33;03m    :rtype: requests.Response\u001b[39;00m\n\u001b[32m     71\u001b[39m \u001b[33;03m    \"\"\"\u001b[39;00m\n\u001b[32m---> \u001b[39m\u001b[32m73\u001b[39m     \u001b[38;5;28;01mreturn\u001b[39;00m \u001b[43mrequest\u001b[49m\u001b[43m(\u001b[49m\u001b[33;43m\"\u001b[39;49m\u001b[33;43mget\u001b[39;49m\u001b[33;43m\"\u001b[39;49m\u001b[43m,\u001b[49m\u001b[43m \u001b[49m\u001b[43murl\u001b[49m\u001b[43m,\u001b[49m\u001b[43m \u001b[49m\u001b[43mparams\u001b[49m\u001b[43m=\u001b[49m\u001b[43mparams\u001b[49m\u001b[43m,\u001b[49m\u001b[43m \u001b[49m\u001b[43m*\u001b[49m\u001b[43m*\u001b[49m\u001b[43mkwargs\u001b[49m\u001b[43m)\u001b[49m\n",
      "\u001b[36mFile \u001b[39m\u001b[32m~/PycharmProjects/udps-python-workshop/.venv/lib/python3.12/site-packages/requests/api.py:59\u001b[39m, in \u001b[36mrequest\u001b[39m\u001b[34m(method, url, **kwargs)\u001b[39m\n\u001b[32m     55\u001b[39m \u001b[38;5;66;03m# By using the 'with' statement we are sure the session is closed, thus we\u001b[39;00m\n\u001b[32m     56\u001b[39m \u001b[38;5;66;03m# avoid leaving sockets open which can trigger a ResourceWarning in some\u001b[39;00m\n\u001b[32m     57\u001b[39m \u001b[38;5;66;03m# cases, and look like a memory leak in others.\u001b[39;00m\n\u001b[32m     58\u001b[39m \u001b[38;5;28;01mwith\u001b[39;00m sessions.Session() \u001b[38;5;28;01mas\u001b[39;00m session:\n\u001b[32m---> \u001b[39m\u001b[32m59\u001b[39m     \u001b[38;5;28;01mreturn\u001b[39;00m \u001b[43msession\u001b[49m\u001b[43m.\u001b[49m\u001b[43mrequest\u001b[49m\u001b[43m(\u001b[49m\u001b[43mmethod\u001b[49m\u001b[43m=\u001b[49m\u001b[43mmethod\u001b[49m\u001b[43m,\u001b[49m\u001b[43m \u001b[49m\u001b[43murl\u001b[49m\u001b[43m=\u001b[49m\u001b[43murl\u001b[49m\u001b[43m,\u001b[49m\u001b[43m \u001b[49m\u001b[43m*\u001b[49m\u001b[43m*\u001b[49m\u001b[43mkwargs\u001b[49m\u001b[43m)\u001b[49m\n",
      "\u001b[36mFile \u001b[39m\u001b[32m~/PycharmProjects/udps-python-workshop/.venv/lib/python3.12/site-packages/requests/sessions.py:589\u001b[39m, in \u001b[36mSession.request\u001b[39m\u001b[34m(self, method, url, params, data, headers, cookies, files, auth, timeout, allow_redirects, proxies, hooks, stream, verify, cert, json)\u001b[39m\n\u001b[32m    584\u001b[39m send_kwargs = {\n\u001b[32m    585\u001b[39m     \u001b[33m\"\u001b[39m\u001b[33mtimeout\u001b[39m\u001b[33m\"\u001b[39m: timeout,\n\u001b[32m    586\u001b[39m     \u001b[33m\"\u001b[39m\u001b[33mallow_redirects\u001b[39m\u001b[33m\"\u001b[39m: allow_redirects,\n\u001b[32m    587\u001b[39m }\n\u001b[32m    588\u001b[39m send_kwargs.update(settings)\n\u001b[32m--> \u001b[39m\u001b[32m589\u001b[39m resp = \u001b[38;5;28;43mself\u001b[39;49m\u001b[43m.\u001b[49m\u001b[43msend\u001b[49m\u001b[43m(\u001b[49m\u001b[43mprep\u001b[49m\u001b[43m,\u001b[49m\u001b[43m \u001b[49m\u001b[43m*\u001b[49m\u001b[43m*\u001b[49m\u001b[43msend_kwargs\u001b[49m\u001b[43m)\u001b[49m\n\u001b[32m    591\u001b[39m \u001b[38;5;28;01mreturn\u001b[39;00m resp\n",
      "\u001b[36mFile \u001b[39m\u001b[32m~/PycharmProjects/udps-python-workshop/.venv/lib/python3.12/site-packages/requests/sessions.py:703\u001b[39m, in \u001b[36mSession.send\u001b[39m\u001b[34m(self, request, **kwargs)\u001b[39m\n\u001b[32m    700\u001b[39m start = preferred_clock()\n\u001b[32m    702\u001b[39m \u001b[38;5;66;03m# Send the request\u001b[39;00m\n\u001b[32m--> \u001b[39m\u001b[32m703\u001b[39m r = \u001b[43madapter\u001b[49m\u001b[43m.\u001b[49m\u001b[43msend\u001b[49m\u001b[43m(\u001b[49m\u001b[43mrequest\u001b[49m\u001b[43m,\u001b[49m\u001b[43m \u001b[49m\u001b[43m*\u001b[49m\u001b[43m*\u001b[49m\u001b[43mkwargs\u001b[49m\u001b[43m)\u001b[49m\n\u001b[32m    705\u001b[39m \u001b[38;5;66;03m# Total elapsed time of the request (approximately)\u001b[39;00m\n\u001b[32m    706\u001b[39m elapsed = preferred_clock() - start\n",
      "\u001b[36mFile \u001b[39m\u001b[32m~/PycharmProjects/udps-python-workshop/.venv/lib/python3.12/site-packages/requests/adapters.py:698\u001b[39m, in \u001b[36mHTTPAdapter.send\u001b[39m\u001b[34m(self, request, stream, timeout, verify, cert, proxies)\u001b[39m\n\u001b[32m    694\u001b[39m         \u001b[38;5;28;01mraise\u001b[39;00m ProxyError(e, request=request)\n\u001b[32m    696\u001b[39m     \u001b[38;5;28;01mif\u001b[39;00m \u001b[38;5;28misinstance\u001b[39m(e.reason, _SSLError):\n\u001b[32m    697\u001b[39m         \u001b[38;5;66;03m# This branch is for urllib3 v1.22 and later.\u001b[39;00m\n\u001b[32m--> \u001b[39m\u001b[32m698\u001b[39m         \u001b[38;5;28;01mraise\u001b[39;00m SSLError(e, request=request)\n\u001b[32m    700\u001b[39m     \u001b[38;5;28;01mraise\u001b[39;00m \u001b[38;5;167;01mConnectionError\u001b[39;00m(e, request=request)\n\u001b[32m    702\u001b[39m \u001b[38;5;28;01mexcept\u001b[39;00m ClosedPoolError \u001b[38;5;28;01mas\u001b[39;00m e:\n",
      "\u001b[31mSSLError\u001b[39m: HTTPSConnectionPool(host='www.google.com', port=443): Max retries exceeded with url: / (Caused by SSLError(SSLCertVerificationError(1, '[SSL: CERTIFICATE_VERIFY_FAILED] certificate verify failed: self-signed certificate in certificate chain (_ssl.c:1000)')))"
     ]
    }
   ],
   "source": [
    "# files, network connection\n",
    "import requests\n",
    "with requests.get('https://www.google.com') as response:\n",
    "    print(response.status_code)\n",
    "    print(response.content[:100])\n"
   ]
  },
  {
   "cell_type": "code",
   "execution_count": null,
   "id": "8f84783759afead6",
   "metadata": {
    "ExecuteTime": {
     "end_time": "2025-04-24T08:29:27.040722Z",
     "start_time": "2025-04-24T08:29:26.267107Z"
    },
    "collapsed": false
   },
   "outputs": [
    {
     "name": "stdout",
     "output_type": "stream",
     "text": [
      "200\n",
      "b'<!doctype html><html itemscope=\"\" itemtype=\"http://schema.org/WebPage\" lang=\"en\"><head><meta content'\n"
     ]
    }
   ],
   "source": [
    "# files, network connection\n",
    "import requests\n",
    "with requests.get('https://www.google.com') as response:\n",
    "    print(response.status_code)\n",
    "    print(response.content[:100])\n"
   ]
  },
  {
   "cell_type": "markdown",
   "id": "7b995e9dcd151f4b",
   "metadata": {
    "collapsed": false
   },
   "source": [
    "- [ ] Decorators"
   ]
  },
  {
   "cell_type": "code",
   "execution_count": 94,
   "id": "922ebad1f3cfc956",
   "metadata": {
    "ExecuteTime": {
     "end_time": "2025-04-24T08:38:28.118497Z",
     "start_time": "2025-04-24T08:38:28.113935Z"
    },
    "collapsed": false
   },
   "outputs": [],
   "source": [
    "# when I need to add functionality to an existing function - I can use decorator pattern - it is basically doing the wrapper around the function\n",
    "import functools\n",
    "\n",
    "def my_decorator(func):\n",
    "    # enclosed scope\n",
    "    \n",
    "    @functools.wraps(func)  # This preserves the original function's metadata\n",
    "    def wrapper(*args, **kwargs):\n",
    "        # log the function call\n",
    "        print(f\"Calling function {func.__name__} with arguments: {args} and keyword arguments: {kwargs}\")\n",
    "        result = func(*args, **kwargs)\n",
    "        # log the result\n",
    "        print(f\"Function {func.__name__} returned: {result}\")\n",
    "        return result\n",
    "    return wrapper"
   ]
  },
  {
   "cell_type": "code",
   "execution_count": 95,
   "id": "e750fb95f4afffb3",
   "metadata": {
    "ExecuteTime": {
     "end_time": "2025-04-24T08:38:28.634462Z",
     "start_time": "2025-04-24T08:38:28.618456Z"
    },
    "collapsed": false
   },
   "outputs": [
    {
     "name": "stdout",
     "output_type": "stream",
     "text": [
      "3\n",
      "Calling function my_function with arguments: (1, 2) and keyword arguments: {}\n",
      "Function my_function returned: 3\n",
      "0\n"
     ]
    }
   ],
   "source": [
    "def my_function(x, y):\n",
    "    return x + y\n",
    "\n",
    "print(my_function(1, 2))\n",
    "\n",
    "my_function = my_decorator(my_function)\n",
    "print(my_function(1, 2))"
   ]
  },
  {
   "cell_type": "code",
   "execution_count": 96,
   "id": "8c11ede3f4996b75",
   "metadata": {
    "ExecuteTime": {
     "end_time": "2025-04-24T08:38:30.311043Z",
     "start_time": "2025-04-24T08:38:30.290517Z"
    },
    "collapsed": false
   },
   "outputs": [
    {
     "name": "stdout",
     "output_type": "stream",
     "text": [
      "Calling function my_function with arguments: (1, 2) and keyword arguments: {}\n",
      "Function my_function returned: 3\n"
     ]
    },
    {
     "data": {
      "text/plain": [
       "0"
      ]
     },
     "execution_count": 96,
     "metadata": {},
     "output_type": "execute_result"
    }
   ],
   "source": [
    "# decorator syntax\n",
    "@my_decorator\n",
    "def my_function(x, y):\n",
    "    return x + y\n",
    "my_function(1, 2)"
   ]
  },
  {
   "cell_type": "code",
   "execution_count": 97,
   "id": "eb950fe5451a4f96",
   "metadata": {
    "ExecuteTime": {
     "end_time": "2025-04-24T08:41:13.022129Z",
     "start_time": "2025-04-24T08:41:13.004427Z"
    },
    "collapsed": false
   },
   "outputs": [
    {
     "name": "stdout",
     "output_type": "stream",
     "text": [
      "Calling function my_function with arguments: (1, 2) and keyword arguments: {}\n",
      "Function my_function returned: 3\n"
     ]
    },
    {
     "data": {
      "text/plain": [
       "30"
      ]
     },
     "execution_count": 97,
     "metadata": {},
     "output_type": "execute_result"
    }
   ],
   "source": [
    "# when I need to add functionality to an existing function - I can use decorator pattern - it is basically doing the wrapper around the function\n",
    "import functools\n",
    "\n",
    "def my_decorator(multiply_by=1):\n",
    "    # enclosed scope\n",
    "    def inner(func):    \n",
    "        @functools.wraps(func)  # This preserves the original function's metadata\n",
    "        def wrapper(*args, **kwargs):\n",
    "            # log the function call\n",
    "            print(f\"Calling function {func.__name__} with arguments: {args} and keyword arguments: {kwargs}\")\n",
    "            result = func(*args, **kwargs)\n",
    "            # log the result\n",
    "            print(f\"Function {func.__name__} returned: {result}\")\n",
    "            return result * multiply_by\n",
    "        return wrapper\n",
    "    return inner\n",
    "\n",
    "\n",
    "@my_decorator(multiply_by=10) # this will return inner (no arguments) and it will work same as before\n",
    "def my_function(x, y):\n",
    "    return x + y\n",
    "my_function(1, 2)"
   ]
  },
  {
   "cell_type": "code",
   "execution_count": 98,
   "id": "640eb031412a05d9",
   "metadata": {
    "ExecuteTime": {
     "end_time": "2025-04-24T08:42:57.180190Z",
     "start_time": "2025-04-24T08:42:57.164761Z"
    },
    "collapsed": false
   },
   "outputs": [
    {
     "name": "stdout",
     "output_type": "stream",
     "text": [
      "I like Geeksforgeeks\n",
      "1729\n",
      "Invalid Input\n"
     ]
    }
   ],
   "source": [
    "# Simple decorator with parameters\n",
    "def type_check_decorator(expected_type):\n",
    "    def decorator(func):\n",
    "        def wrapper(*args, **kwargs):\n",
    "            if all(isinstance(arg, expected_type) for arg in args):\n",
    "                return func(*args, **kwargs)\n",
    "            return \"Invalid Input\"\n",
    "        return wrapper\n",
    "    return decorator\n",
    "\n",
    "\n",
    "@type_check_decorator(str)\n",
    "def string_join(*args):\n",
    "    return ''.join(args)\n",
    "\n",
    "\n",
    "@type_check_decorator(int)\n",
    "def summation(*args):\n",
    "    return sum(args)\n",
    "\n",
    "\n",
    "# Test the functions\n",
    "print(string_join(\"I \", 'like ', \"Geeks\", 'for', \"geeks\"))\n",
    "print(summation(19, 2, 8, 533, 67, 981, 119))\n",
    "print(summation(19, 2, 8, 533, 67, 981, \"119\"))"
   ]
  },
  {
   "cell_type": "markdown",
   "id": "6a0974d400587f2a",
   "metadata": {
    "collapsed": false
   },
   "source": [
    "- [ ] Parallelism"
   ]
  },
  {
   "cell_type": "code",
   "execution_count": null,
   "id": "aff577019b4f1c5f",
   "metadata": {
    "collapsed": false
   },
   "outputs": [],
   "source": [
    "# see files in parallelism folder"
   ]
  },
  {
   "cell_type": "markdown",
   "id": "53b625c288fbe808",
   "metadata": {
    "collapsed": false
   },
   "source": [
    "Be aware that Jupyter notebook or streamlit can have problems with asyncio. https://pypi.org/project/nest-asyncio/\n",
    "\n",
    "Same with some C++ related libraries (our experience is with PDF reader) - it was required to use processes instead of threads/coroutines. Otherwise there was segmentation fault ...\n",
    "\n",
    "Processes can be also use to effectively prevent memory leaks"
   ]
  },
  {
   "cell_type": "markdown",
   "id": "8ebd7e14bc03c62e",
   "metadata": {
    "collapsed": false
   },
   "source": [
    "# TBF - to be forgotten ...\n",
    "\n",
    "https://refactoring.guru/design-patterns/python\n",
    "* https://refactoring.guru/design-patterns/singleton/python/example#example-1\n",
    "* https://refactoring.guru/design-patterns/decorator/python/example#example-0   "
   ]
  },
  {
   "cell_type": "code",
   "execution_count": null,
   "id": "296411b631c6e32",
   "metadata": {
    "collapsed": false
   },
   "outputs": [],
   "source": []
  },
  {
   "cell_type": "code",
   "execution_count": null,
   "id": "3211eea892627a30",
   "metadata": {
    "collapsed": false
   },
   "outputs": [],
   "source": [
    "import gc\n",
    "gc.get_stats()"
   ]
  },
  {
   "cell_type": "code",
   "execution_count": null,
   "id": "8077c02f2a60a0f8",
   "metadata": {
    "collapsed": false
   },
   "outputs": [],
   "source": [
    "#    Run the garbage collector.\n",
    "gc.collect()"
   ]
  },
  {
   "cell_type": "code",
   "execution_count": null,
   "id": "e84fe1db8b60ffd8",
   "metadata": {
    "collapsed": false
   },
   "outputs": [],
   "source": [
    "other_var = \"100\"\n",
    "my_var = other_var\n",
    "# gc.get_referrers(other_var)"
   ]
  },
  {
   "cell_type": "markdown",
   "id": "aa49d5e98da8fba7",
   "metadata": {
    "collapsed": false
   },
   "source": [
    "\n",
    "ast is a module in the python standard library. Python codes need to be converted to an Abstract Syntax Tree (AST) before becoming “byte code”(.pyc files). Generating AST is the most important function of ast, but there are more ways one can use the module."
   ]
  },
  {
   "cell_type": "code",
   "execution_count": null,
   "id": "7f453d8eab895750",
   "metadata": {
    "collapsed": false
   },
   "outputs": [],
   "source": [
    "# https://medium.com/@wshanshan/intro-to-python-ast-module-bbd22cd505f7\n",
    "import ast\n",
    "import ast\n",
    "tree = ast.parse(\"print('hello world')\")\n",
    "for node in ast.walk(tree):\n",
    "    print()\n",
    "    print(node)\n",
    "    print(node.__dict__)\n",
    "    print(\"children: \" + str([x for x in ast.iter_child_nodes(node)]) + \"\\\\n\")"
   ]
  },
  {
   "cell_type": "code",
   "execution_count": null,
   "id": "4819f89d6361db68",
   "metadata": {
    "collapsed": false
   },
   "outputs": [],
   "source": []
  }
 ],
 "metadata": {
  "kernelspec": {
   "display_name": "Python 3",
   "language": "python",
   "name": "python3"
  },
  "language_info": {
   "codemirror_mode": {
    "name": "ipython",
    "version": 2
   },
   "file_extension": ".py",
   "mimetype": "text/x-python",
   "name": "python",
   "nbconvert_exporter": "python",
   "pygments_lexer": "ipython2",
   "version": "2.7.6"
  }
 },
 "nbformat": 4,
 "nbformat_minor": 5
}
